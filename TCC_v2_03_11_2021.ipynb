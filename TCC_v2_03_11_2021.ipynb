{
 "cells": [
  {
   "cell_type": "code",
   "execution_count": 1,
   "id": "5fd9e70a",
   "metadata": {},
   "outputs": [
    {
     "name": "stdout",
     "output_type": "stream",
     "text": [
      "Setup ok\n"
     ]
    }
   ],
   "source": [
    "import pandas as pd\n",
    "import numpy as np\n",
    "print(\"Setup ok\")"
   ]
  },
  {
   "cell_type": "code",
   "execution_count": 4,
   "id": "fa6580fd",
   "metadata": {
    "scrolled": false
   },
   "outputs": [
    {
     "name": "stderr",
     "output_type": "stream",
     "text": [
      "C:\\ProgramData\\Anaconda3\\lib\\site-packages\\IPython\\core\\interactiveshell.py:3165: DtypeWarning: Columns (12,17,24) have mixed types.Specify dtype option on import or set low_memory=False.\n",
      "  has_raised = await self.run_ast_nodes(code_ast.body, cell_name,\n"
     ]
    },
    {
     "name": "stdout",
     "output_type": "stream",
     "text": [
      "ok\n"
     ]
    }
   ],
   "source": [
    "cargas = pd.read_csv(\"C:/Users/Sea Group/Documents/TCC/BD_ANTAQ/2015/2015Carga.txt\",sep =\";\")\n",
    "\n",
    "atrac = pd.read_csv(\"C:/Users/Sea Group/Documents/TCC/BD_ANTAQ/2015/2015Atracacao.txt\",sep =\";\")\n",
    "\n",
    "agri_outlook = pd.read_csv(\"C:/Users/Sea Group/Documents/TCC/OECD/Agricultural Outlook.csv\")\n",
    "\n",
    "comm_price = pd.read_csv(\"C:/Users/Sea Group/Documents/TCC/OECD/Commodity prices, monthly.csv\")\n",
    "\n",
    "pib = pd.read_csv(\"C:/Users/Sea Group/Documents/TCC/OECD/Gross domestic product (GDP).csv\")\n",
    "\n",
    "prod_sales = pd.read_csv(\"C:/Users/Sea Group/Documents/TCC/OECD/Production and Sales (MEI).csv\")\n",
    "\n",
    "taxa_desocupacao = pd.read_csv(\"C:/Users/Sea Group/Documents/TCC/OECD/Taxa de desocupação.csv\",sep =\";\")\n",
    "\n",
    "infra_invest = pd.read_csv(\"C:/Users/Sea Group/Documents/TCC/OECD/Transport infrastructure investment and maintenance spending.csv\")\n",
    "\n",
    "weel_being_15 = pd.read_csv(\"C:/Users/Sea Group/Documents/TCC/OECD/Well-being 2015.csv\")\n",
    "\n",
    "dolar = pd.read_csv(\"C:/Users/Sea Group/Documents/TCC/OECD/USD_BRL Dados Históricos.csv\")\n",
    "\n",
    "#Acho que a capacidade de produção de aço não ajuda. Visto que estamos analisando a movimentacao de cntrs\n",
    "#stell_capacity = pd.read_csv(\"C:/Users/Sea Group/Documents/TCC/OECD/Steel Making Capacity.csv\")\n",
    "\n",
    "print(\"ok\")"
   ]
  },
  {
   "cell_type": "markdown",
   "id": "64ede0ab",
   "metadata": {},
   "source": [
    "##########################################  TRATAMENTO DE cargas  #############################################################"
   ]
  },
  {
   "cell_type": "code",
   "execution_count": 5,
   "id": "5d3973c9",
   "metadata": {
    "scrolled": false
   },
   "outputs": [
    {
     "data": {
      "text/plain": [
       "Index(['IDCarga', 'IDAtracacao', 'Origem', 'Destino', 'CDMercadoria',\n",
       "       'Tipo Operação da Carga', 'Carga Geral Acondicionamento',\n",
       "       'ConteinerEstado', 'Tipo Navegação', 'FlagAutorizacao', 'FlagCabotagem',\n",
       "       'FlagCabotagemMovimentacao', 'FlagConteinerTamanho', 'FlagLongoCurso',\n",
       "       'FlagMCOperacaoCarga', 'FlagOffshore', 'FlagTransporteViaInterioir',\n",
       "       'Percurso Transporte em vias Interiores',\n",
       "       'Percurso Transporte Interiores', 'STNaturezaCarga', 'STSH2', 'STSH4',\n",
       "       'Natureza da Carga', 'Sentido', 'TEU', 'QTCarga', 'VLPesoCargaBruta'],\n",
       "      dtype='object')"
      ]
     },
     "execution_count": 5,
     "metadata": {},
     "output_type": "execute_result"
    }
   ],
   "source": [
    "#Colunas de cargas\n",
    "\n",
    "cargas.columns"
   ]
  },
  {
   "cell_type": "markdown",
   "id": "ea0964bb",
   "metadata": {},
   "source": [
    "#Observar que o PIB deve ser linkado com a DATA DE CHEGADA\n",
    "#Além disso, podemos fazer algumas análises de gráficos pré modelagem para introduzirmos o assunto\n",
    "\n",
    "#atrac[['Data Atracação', 'Data Chegada',\n",
    "#       'Data Desatracação', 'Data Início Operação', 'Data Término Operação',\n",
    "#       'Ano', 'Mes']]"
   ]
  },
  {
   "cell_type": "code",
   "execution_count": 6,
   "id": "092df4b1",
   "metadata": {},
   "outputs": [
    {
     "data": {
      "text/plain": [
       "S    1714210\n",
       "N        307\n",
       "Name: FlagAutorizacao, dtype: int64"
      ]
     },
     "execution_count": 6,
     "metadata": {},
     "output_type": "execute_result"
    }
   ],
   "source": [
    "cargas['FlagAutorizacao'].value_counts()"
   ]
  },
  {
   "cell_type": "code",
   "execution_count": 7,
   "id": "1b7ae76a",
   "metadata": {},
   "outputs": [
    {
     "data": {
      "text/plain": [
       "40        766152\n",
       "20        441781\n",
       "40.0      205857\n",
       "20.0      124213\n",
       "OUTROS     14693\n",
       "Name: FlagConteinerTamanho, dtype: int64"
      ]
     },
     "execution_count": 7,
     "metadata": {},
     "output_type": "execute_result"
    }
   ],
   "source": [
    "cargas['FlagConteinerTamanho'].value_counts()"
   ]
  },
  {
   "cell_type": "code",
   "execution_count": 8,
   "id": "3443f779",
   "metadata": {
    "scrolled": true
   },
   "outputs": [],
   "source": [
    "cargas = cargas[['IDCarga', 'IDAtracacao', 'Origem', 'Destino',\n",
    "       'Tipo Operação da Carga', 'Carga Geral Acondicionamento',\n",
    "       'ConteinerEstado', 'Tipo Navegação', 'FlagConteinerTamanho',\n",
    "       'Sentido', 'TEU']]\n",
    "\n",
    "#cargas[['IDCarga', 'IDAtracacao', 'Origem', 'Destino', 'CDMercadoria',\n",
    "#       'Tipo Operação da Carga', 'Carga Geral Acondicionamento',\n",
    "#       'ConteinerEstado', 'Tipo Navegação', 'FlagConteinerTamanho',\n",
    "#       'Sentido', 'TEU', 'QTCarga']].head()\n",
    "\n",
    "#Colunas não selecionadas:\n",
    "#       'FlagAutorizacao', 'FlagCabotagem',\n",
    "#       'FlagCabotagemMovimentacao', 'FlagLongoCurso',\n",
    "#       'FlagMCOperacaoCarga', 'FlagOffshore', 'FlagTransporteViaInterioir',\n",
    "#       'Percurso Transporte em vias Interiores'\n",
    "#Por motido de irrelevância. Em 'Percurso Transporte em vias Interiores' a coluna 'Tipo Navegação' já traz as infos necessárias\n",
    "#'STNaturezaCarga','STSH2' e 'STSH4': Exclusivo ou Compartilhado. Irrelevante para o projeto\n",
    "#'Natureza da Carga': totalmente completa como \"Carga Conteinerizada\". Logo, não é necessária sua presença\n",
    "#'VLPesoCargaBruta' é proporcional a coluna 'TEU', logo não será utilizada\n",
    "#'QTCarga' é igual ao TEU"
   ]
  },
  {
   "cell_type": "code",
   "execution_count": 9,
   "id": "25efff65",
   "metadata": {
    "scrolled": false
   },
   "outputs": [
    {
     "data": {
      "text/html": [
       "<div>\n",
       "<style scoped>\n",
       "    .dataframe tbody tr th:only-of-type {\n",
       "        vertical-align: middle;\n",
       "    }\n",
       "\n",
       "    .dataframe tbody tr th {\n",
       "        vertical-align: top;\n",
       "    }\n",
       "\n",
       "    .dataframe thead th {\n",
       "        text-align: right;\n",
       "    }\n",
       "</style>\n",
       "<table border=\"1\" class=\"dataframe\">\n",
       "  <thead>\n",
       "    <tr style=\"text-align: right;\">\n",
       "      <th></th>\n",
       "      <th>IDCarga</th>\n",
       "      <th>IDAtracacao</th>\n",
       "      <th>Origem</th>\n",
       "      <th>Destino</th>\n",
       "      <th>Tipo Operação da Carga</th>\n",
       "      <th>Carga Geral Acondicionamento</th>\n",
       "      <th>ConteinerEstado</th>\n",
       "      <th>Tipo Navegação</th>\n",
       "      <th>FlagConteinerTamanho</th>\n",
       "      <th>Sentido</th>\n",
       "      <th>TEU</th>\n",
       "    </tr>\n",
       "  </thead>\n",
       "  <tbody>\n",
       "    <tr>\n",
       "      <th>0</th>\n",
       "      <td>13809822</td>\n",
       "      <td>659251</td>\n",
       "      <td>BRSP008</td>\n",
       "      <td>BRCE001</td>\n",
       "      <td>Transbordo</td>\n",
       "      <td>Conteinerizada</td>\n",
       "      <td>Cheio</td>\n",
       "      <td>Cabotagem</td>\n",
       "      <td>20</td>\n",
       "      <td>Embarcados</td>\n",
       "      <td>29</td>\n",
       "    </tr>\n",
       "    <tr>\n",
       "      <th>1</th>\n",
       "      <td>13809823</td>\n",
       "      <td>659251</td>\n",
       "      <td>BRSP008</td>\n",
       "      <td>BRCE001</td>\n",
       "      <td>Transbordo</td>\n",
       "      <td>Conteinerizada</td>\n",
       "      <td>Cheio</td>\n",
       "      <td>Cabotagem</td>\n",
       "      <td>40</td>\n",
       "      <td>Embarcados</td>\n",
       "      <td>152</td>\n",
       "    </tr>\n",
       "    <tr>\n",
       "      <th>2</th>\n",
       "      <td>13809824</td>\n",
       "      <td>659251</td>\n",
       "      <td>BRSP008</td>\n",
       "      <td>BRSUA</td>\n",
       "      <td>Transbordo</td>\n",
       "      <td>Conteinerizada</td>\n",
       "      <td>Cheio</td>\n",
       "      <td>Cabotagem</td>\n",
       "      <td>40</td>\n",
       "      <td>Embarcados</td>\n",
       "      <td>62</td>\n",
       "    </tr>\n",
       "    <tr>\n",
       "      <th>3</th>\n",
       "      <td>13809825</td>\n",
       "      <td>659251</td>\n",
       "      <td>BRSP008</td>\n",
       "      <td>BRAM006</td>\n",
       "      <td>Transbordo</td>\n",
       "      <td>Conteinerizada</td>\n",
       "      <td>Cheio</td>\n",
       "      <td>Cabotagem</td>\n",
       "      <td>40</td>\n",
       "      <td>Embarcados</td>\n",
       "      <td>10</td>\n",
       "    </tr>\n",
       "    <tr>\n",
       "      <th>4</th>\n",
       "      <td>13809826</td>\n",
       "      <td>659251</td>\n",
       "      <td>BRSP008</td>\n",
       "      <td>BRAM006</td>\n",
       "      <td>Transbordo</td>\n",
       "      <td>Conteinerizada</td>\n",
       "      <td>Cheio</td>\n",
       "      <td>Cabotagem</td>\n",
       "      <td>20</td>\n",
       "      <td>Embarcados</td>\n",
       "      <td>15</td>\n",
       "    </tr>\n",
       "  </tbody>\n",
       "</table>\n",
       "</div>"
      ],
      "text/plain": [
       "    IDCarga  IDAtracacao   Origem  Destino Tipo Operação da Carga  \\\n",
       "0  13809822       659251  BRSP008  BRCE001             Transbordo   \n",
       "1  13809823       659251  BRSP008  BRCE001             Transbordo   \n",
       "2  13809824       659251  BRSP008    BRSUA             Transbordo   \n",
       "3  13809825       659251  BRSP008  BRAM006             Transbordo   \n",
       "4  13809826       659251  BRSP008  BRAM006             Transbordo   \n",
       "\n",
       "  Carga Geral Acondicionamento ConteinerEstado Tipo Navegação  \\\n",
       "0               Conteinerizada           Cheio      Cabotagem   \n",
       "1               Conteinerizada           Cheio      Cabotagem   \n",
       "2               Conteinerizada           Cheio      Cabotagem   \n",
       "3               Conteinerizada           Cheio      Cabotagem   \n",
       "4               Conteinerizada           Cheio      Cabotagem   \n",
       "\n",
       "   FlagConteinerTamanho     Sentido  TEU  \n",
       "0                    20  Embarcados   29  \n",
       "1                    40  Embarcados  152  \n",
       "2                    40  Embarcados   62  \n",
       "3                    40  Embarcados   10  \n",
       "4                    20  Embarcados   15  "
      ]
     },
     "execution_count": 9,
     "metadata": {},
     "output_type": "execute_result"
    }
   ],
   "source": [
    "#'Carga Geral Acondicionamento' é dividida em Contenerizada e Solta. \n",
    "#As linhas com valores NaN são dropados abaixo\n",
    "#1667696 (com valor); 46821 (NaN)\n",
    "\n",
    "cargas = cargas[cargas['Carga Geral Acondicionamento'] == \"Conteinerizada\"]\n",
    "\n",
    "#Tira-se os TEUs decimais \n",
    "cargas = cargas.loc[(cargas['FlagConteinerTamanho'] != 'OUTROS') &\n",
    "                    (cargas['FlagConteinerTamanho'].notnull())]\n",
    "cargas['FlagConteinerTamanho'].replace({'40.0':'40','20.0':'20'}, inplace=True)\n",
    "\n",
    "#Ajuste do tipo da coluna\n",
    "cargas['FlagConteinerTamanho'] = cargas['FlagConteinerTamanho'].astype('int')\n",
    "cargas['TEU'] = cargas['TEU'].astype('int')\n",
    "\n",
    "cargas.reset_index(drop=True, inplace=True)\n",
    "cargas.head()"
   ]
  },
  {
   "cell_type": "code",
   "execution_count": 10,
   "id": "5a225b85",
   "metadata": {},
   "outputs": [],
   "source": [
    "#'ConteinerEstado' é dividida em Cheio e Vazio.\n",
    "#As linhas com valores NaN foram dropadas abaixo, tanto que a coluna \"TEU\" está zerada nas linhas com NaN em ConteinerEstado\n",
    "\n",
    "cargas = cargas[cargas['ConteinerEstado'].notnull()]\n",
    "#cargas.head()"
   ]
  },
  {
   "cell_type": "code",
   "execution_count": 11,
   "id": "801057d1",
   "metadata": {
    "scrolled": false
   },
   "outputs": [
    {
     "data": {
      "text/plain": [
       "40    971188\n",
       "20    565967\n",
       "Name: FlagConteinerTamanho, dtype: int64"
      ]
     },
     "execution_count": 11,
     "metadata": {},
     "output_type": "execute_result"
    }
   ],
   "source": [
    "#'FlagConteinerTamanho' é complementada por 'TEU' e 'QTCarga'\n",
    "#A coluna tem o valor \"OUTROS\" que pode ganhar o valor de 20 ou 40 a depender das colunas complementares\n",
    "#Quando isso for feito, deve-se mudar o tipo da coluna para float\n",
    "#Os valores OUTROS equivalem a pouco menos do que 1% dos dados.\n",
    "\n",
    "cargas['FlagConteinerTamanho'].value_counts()"
   ]
  },
  {
   "cell_type": "code",
   "execution_count": 12,
   "id": "faddf573",
   "metadata": {},
   "outputs": [],
   "source": [
    "#'Sentido' é dividida em Desembarcados, Embarcados e Não informados\n",
    "#Os valores \"Não Informados\" são ignorados abaixo, uma vez q representam nem 2% de cada outro valor e nem 1% de todos os valores\n",
    "\n",
    "cargas = cargas[cargas['Sentido']!= \"Não Informado\"]"
   ]
  },
  {
   "cell_type": "code",
   "execution_count": 13,
   "id": "ce6950e7",
   "metadata": {
    "scrolled": false
   },
   "outputs": [
    {
     "data": {
      "text/html": [
       "<div>\n",
       "<style scoped>\n",
       "    .dataframe tbody tr th:only-of-type {\n",
       "        vertical-align: middle;\n",
       "    }\n",
       "\n",
       "    .dataframe tbody tr th {\n",
       "        vertical-align: top;\n",
       "    }\n",
       "\n",
       "    .dataframe thead th {\n",
       "        text-align: right;\n",
       "    }\n",
       "</style>\n",
       "<table border=\"1\" class=\"dataframe\">\n",
       "  <thead>\n",
       "    <tr style=\"text-align: right;\">\n",
       "      <th></th>\n",
       "      <th>IDCarga</th>\n",
       "      <th>IDAtracacao</th>\n",
       "      <th>Origem</th>\n",
       "      <th>Destino</th>\n",
       "      <th>Tipo Operação da Carga</th>\n",
       "      <th>Carga Geral Acondicionamento</th>\n",
       "      <th>ConteinerEstado</th>\n",
       "      <th>Tipo Navegação</th>\n",
       "      <th>FlagConteinerTamanho</th>\n",
       "      <th>Sentido</th>\n",
       "      <th>TEU</th>\n",
       "    </tr>\n",
       "  </thead>\n",
       "  <tbody>\n",
       "    <tr>\n",
       "      <th>0</th>\n",
       "      <td>13809822</td>\n",
       "      <td>659251</td>\n",
       "      <td>BRSP008</td>\n",
       "      <td>BRCE001</td>\n",
       "      <td>Transbordo</td>\n",
       "      <td>Conteinerizada</td>\n",
       "      <td>Cheio</td>\n",
       "      <td>Cabotagem</td>\n",
       "      <td>20</td>\n",
       "      <td>Embarcados</td>\n",
       "      <td>29</td>\n",
       "    </tr>\n",
       "    <tr>\n",
       "      <th>1</th>\n",
       "      <td>13809823</td>\n",
       "      <td>659251</td>\n",
       "      <td>BRSP008</td>\n",
       "      <td>BRCE001</td>\n",
       "      <td>Transbordo</td>\n",
       "      <td>Conteinerizada</td>\n",
       "      <td>Cheio</td>\n",
       "      <td>Cabotagem</td>\n",
       "      <td>40</td>\n",
       "      <td>Embarcados</td>\n",
       "      <td>152</td>\n",
       "    </tr>\n",
       "    <tr>\n",
       "      <th>2</th>\n",
       "      <td>13809824</td>\n",
       "      <td>659251</td>\n",
       "      <td>BRSP008</td>\n",
       "      <td>BRSUA</td>\n",
       "      <td>Transbordo</td>\n",
       "      <td>Conteinerizada</td>\n",
       "      <td>Cheio</td>\n",
       "      <td>Cabotagem</td>\n",
       "      <td>40</td>\n",
       "      <td>Embarcados</td>\n",
       "      <td>62</td>\n",
       "    </tr>\n",
       "    <tr>\n",
       "      <th>3</th>\n",
       "      <td>13809825</td>\n",
       "      <td>659251</td>\n",
       "      <td>BRSP008</td>\n",
       "      <td>BRAM006</td>\n",
       "      <td>Transbordo</td>\n",
       "      <td>Conteinerizada</td>\n",
       "      <td>Cheio</td>\n",
       "      <td>Cabotagem</td>\n",
       "      <td>40</td>\n",
       "      <td>Embarcados</td>\n",
       "      <td>10</td>\n",
       "    </tr>\n",
       "    <tr>\n",
       "      <th>4</th>\n",
       "      <td>13809826</td>\n",
       "      <td>659251</td>\n",
       "      <td>BRSP008</td>\n",
       "      <td>BRAM006</td>\n",
       "      <td>Transbordo</td>\n",
       "      <td>Conteinerizada</td>\n",
       "      <td>Cheio</td>\n",
       "      <td>Cabotagem</td>\n",
       "      <td>20</td>\n",
       "      <td>Embarcados</td>\n",
       "      <td>15</td>\n",
       "    </tr>\n",
       "  </tbody>\n",
       "</table>\n",
       "</div>"
      ],
      "text/plain": [
       "    IDCarga  IDAtracacao   Origem  Destino Tipo Operação da Carga  \\\n",
       "0  13809822       659251  BRSP008  BRCE001             Transbordo   \n",
       "1  13809823       659251  BRSP008  BRCE001             Transbordo   \n",
       "2  13809824       659251  BRSP008    BRSUA             Transbordo   \n",
       "3  13809825       659251  BRSP008  BRAM006             Transbordo   \n",
       "4  13809826       659251  BRSP008  BRAM006             Transbordo   \n",
       "\n",
       "  Carga Geral Acondicionamento ConteinerEstado Tipo Navegação  \\\n",
       "0               Conteinerizada           Cheio      Cabotagem   \n",
       "1               Conteinerizada           Cheio      Cabotagem   \n",
       "2               Conteinerizada           Cheio      Cabotagem   \n",
       "3               Conteinerizada           Cheio      Cabotagem   \n",
       "4               Conteinerizada           Cheio      Cabotagem   \n",
       "\n",
       "   FlagConteinerTamanho     Sentido  TEU  \n",
       "0                    20  Embarcados   29  \n",
       "1                    40  Embarcados  152  \n",
       "2                    40  Embarcados   62  \n",
       "3                    40  Embarcados   10  \n",
       "4                    20  Embarcados   15  "
      ]
     },
     "execution_count": 13,
     "metadata": {},
     "output_type": "execute_result"
    }
   ],
   "source": [
    "cargas.head()\n",
    "\n",
    "#'Tipo Navegação': um mesmo cntr pode ser usado na cabotagem e no longo curso? *********************"
   ]
  },
  {
   "cell_type": "code",
   "execution_count": 15,
   "id": "d25aa50b",
   "metadata": {
    "scrolled": true
   },
   "outputs": [
    {
     "name": "stdout",
     "output_type": "stream",
     "text": [
      "<class 'pandas.core.frame.DataFrame'>\n",
      "Int64Index: 1523472 entries, 0 to 1538002\n",
      "Data columns (total 11 columns):\n",
      " #   Column                        Non-Null Count    Dtype \n",
      "---  ------                        --------------    ----- \n",
      " 0   IDCarga                       1523472 non-null  int64 \n",
      " 1   IDAtracacao                   1523472 non-null  int64 \n",
      " 2   Origem                        1523472 non-null  object\n",
      " 3   Destino                       1523472 non-null  object\n",
      " 4   Tipo Operação da Carga        1523472 non-null  object\n",
      " 5   Carga Geral Acondicionamento  1523472 non-null  object\n",
      " 6   ConteinerEstado               1523472 non-null  object\n",
      " 7   Tipo Navegação                1523472 non-null  object\n",
      " 8   FlagConteinerTamanho          1523472 non-null  int32 \n",
      " 9   Sentido                       1523472 non-null  object\n",
      " 10  TEU                           1523472 non-null  int32 \n",
      "dtypes: int32(2), int64(2), object(7)\n",
      "memory usage: 127.9+ MB\n"
     ]
    }
   ],
   "source": [
    "cargas.info()"
   ]
  },
  {
   "cell_type": "markdown",
   "id": "983dc369",
   "metadata": {},
   "source": [
    "###############################################################################################################################"
   ]
  },
  {
   "cell_type": "markdown",
   "id": "c34dcea3",
   "metadata": {},
   "source": [
    "##########################################  TRATAMENTO DE atrac  ##############################################################"
   ]
  },
  {
   "cell_type": "code",
   "execution_count": 26,
   "id": "8cf40660",
   "metadata": {},
   "outputs": [
    {
     "data": {
      "text/html": [
       "<div>\n",
       "<style scoped>\n",
       "    .dataframe tbody tr th:only-of-type {\n",
       "        vertical-align: middle;\n",
       "    }\n",
       "\n",
       "    .dataframe tbody tr th {\n",
       "        vertical-align: top;\n",
       "    }\n",
       "\n",
       "    .dataframe thead th {\n",
       "        text-align: right;\n",
       "    }\n",
       "</style>\n",
       "<table border=\"1\" class=\"dataframe\">\n",
       "  <thead>\n",
       "    <tr style=\"text-align: right;\">\n",
       "      <th></th>\n",
       "      <th>IDAtracacao</th>\n",
       "      <th>CDTUP</th>\n",
       "      <th>IDBerco</th>\n",
       "      <th>Berço</th>\n",
       "      <th>Porto Atracação</th>\n",
       "      <th>Apelido Instalação Portuária</th>\n",
       "      <th>Complexo Portuário</th>\n",
       "      <th>Tipo da Autoridade Portuária</th>\n",
       "      <th>Data Atracação</th>\n",
       "      <th>Data Chegada</th>\n",
       "      <th>...</th>\n",
       "      <th>Tipo de Navegação da Atracação</th>\n",
       "      <th>Nacionalidade do Armador</th>\n",
       "      <th>FlagMCOperacaoAtracacao</th>\n",
       "      <th>Terminal</th>\n",
       "      <th>Município</th>\n",
       "      <th>UF</th>\n",
       "      <th>SGUF</th>\n",
       "      <th>Região Geográfica</th>\n",
       "      <th>Nº da Capitania</th>\n",
       "      <th>Nº do IMO</th>\n",
       "    </tr>\n",
       "  </thead>\n",
       "  <tbody>\n",
       "    <tr>\n",
       "      <th>0</th>\n",
       "      <td>678383</td>\n",
       "      <td>BRAM014</td>\n",
       "      <td>BRAM0140304</td>\n",
       "      <td>BERÇO - 02  INTERNA</td>\n",
       "      <td>Terminal Graneleiro Hermasa</td>\n",
       "      <td>NaN</td>\n",
       "      <td>Manaus</td>\n",
       "      <td>Porto Privado</td>\n",
       "      <td>08/03/2015 04:32:00</td>\n",
       "      <td>08/03/2015 04:32:00</td>\n",
       "      <td>...</td>\n",
       "      <td>Interior</td>\n",
       "      <td>1.0</td>\n",
       "      <td>1</td>\n",
       "      <td>Terminal Graneleiro Hermasa</td>\n",
       "      <td>Itacoatiara</td>\n",
       "      <td>Amazonas</td>\n",
       "      <td>AM</td>\n",
       "      <td>Norte</td>\n",
       "      <td>NaN</td>\n",
       "      <td>NaN</td>\n",
       "    </tr>\n",
       "    <tr>\n",
       "      <th>1</th>\n",
       "      <td>686657</td>\n",
       "      <td>BRAM015</td>\n",
       "      <td>BRAM0150001</td>\n",
       "      <td>01</td>\n",
       "      <td>Carinhoso</td>\n",
       "      <td>NaN</td>\n",
       "      <td>Manaus</td>\n",
       "      <td>Porto Privado</td>\n",
       "      <td>20/04/2015 06:00:00</td>\n",
       "      <td>20/04/2015 05:00:00</td>\n",
       "      <td>...</td>\n",
       "      <td>Interior</td>\n",
       "      <td>1.0</td>\n",
       "      <td>1</td>\n",
       "      <td>Carinhoso</td>\n",
       "      <td>Manaus</td>\n",
       "      <td>Amazonas</td>\n",
       "      <td>AM</td>\n",
       "      <td>Norte</td>\n",
       "      <td>NaN</td>\n",
       "      <td>NaN</td>\n",
       "    </tr>\n",
       "    <tr>\n",
       "      <th>2</th>\n",
       "      <td>686656</td>\n",
       "      <td>BRAM015</td>\n",
       "      <td>BRAM0150001</td>\n",
       "      <td>01</td>\n",
       "      <td>Carinhoso</td>\n",
       "      <td>NaN</td>\n",
       "      <td>Manaus</td>\n",
       "      <td>Porto Privado</td>\n",
       "      <td>30/04/2015 04:00:00</td>\n",
       "      <td>30/04/2015 03:00:00</td>\n",
       "      <td>...</td>\n",
       "      <td>Interior</td>\n",
       "      <td>1.0</td>\n",
       "      <td>1</td>\n",
       "      <td>Carinhoso</td>\n",
       "      <td>Manaus</td>\n",
       "      <td>Amazonas</td>\n",
       "      <td>AM</td>\n",
       "      <td>Norte</td>\n",
       "      <td>NaN</td>\n",
       "      <td>NaN</td>\n",
       "    </tr>\n",
       "    <tr>\n",
       "      <th>3</th>\n",
       "      <td>720152</td>\n",
       "      <td>BRAM014</td>\n",
       "      <td>BRAM0140304</td>\n",
       "      <td>BERÇO - 02  INTERNA</td>\n",
       "      <td>Terminal Graneleiro Hermasa</td>\n",
       "      <td>NaN</td>\n",
       "      <td>Manaus</td>\n",
       "      <td>Porto Privado</td>\n",
       "      <td>05/10/2015 15:00:00</td>\n",
       "      <td>05/10/2015 15:00:00</td>\n",
       "      <td>...</td>\n",
       "      <td>Interior</td>\n",
       "      <td>1.0</td>\n",
       "      <td>1</td>\n",
       "      <td>Terminal Graneleiro Hermasa</td>\n",
       "      <td>Itacoatiara</td>\n",
       "      <td>Amazonas</td>\n",
       "      <td>AM</td>\n",
       "      <td>Norte</td>\n",
       "      <td>NaN</td>\n",
       "      <td>NaN</td>\n",
       "    </tr>\n",
       "    <tr>\n",
       "      <th>4</th>\n",
       "      <td>703856</td>\n",
       "      <td>BRAM014</td>\n",
       "      <td>BRAM0140304</td>\n",
       "      <td>BERÇO - 02  INTERNA</td>\n",
       "      <td>Terminal Graneleiro Hermasa</td>\n",
       "      <td>NaN</td>\n",
       "      <td>Manaus</td>\n",
       "      <td>Porto Privado</td>\n",
       "      <td>19/07/2015 04:18:00</td>\n",
       "      <td>19/07/2015 04:18:00</td>\n",
       "      <td>...</td>\n",
       "      <td>Interior</td>\n",
       "      <td>1.0</td>\n",
       "      <td>1</td>\n",
       "      <td>Terminal Graneleiro Hermasa</td>\n",
       "      <td>Itacoatiara</td>\n",
       "      <td>Amazonas</td>\n",
       "      <td>AM</td>\n",
       "      <td>Norte</td>\n",
       "      <td>NaN</td>\n",
       "      <td>NaN</td>\n",
       "    </tr>\n",
       "    <tr>\n",
       "      <th>...</th>\n",
       "      <td>...</td>\n",
       "      <td>...</td>\n",
       "      <td>...</td>\n",
       "      <td>...</td>\n",
       "      <td>...</td>\n",
       "      <td>...</td>\n",
       "      <td>...</td>\n",
       "      <td>...</td>\n",
       "      <td>...</td>\n",
       "      <td>...</td>\n",
       "      <td>...</td>\n",
       "      <td>...</td>\n",
       "      <td>...</td>\n",
       "      <td>...</td>\n",
       "      <td>...</td>\n",
       "      <td>...</td>\n",
       "      <td>...</td>\n",
       "      <td>...</td>\n",
       "      <td>...</td>\n",
       "      <td>...</td>\n",
       "      <td>...</td>\n",
       "    </tr>\n",
       "    <tr>\n",
       "      <th>70464</th>\n",
       "      <td>884624</td>\n",
       "      <td>BRAM012</td>\n",
       "      <td>BRAM0120102</td>\n",
       "      <td>INTERNO</td>\n",
       "      <td>Super Terminais Comércio e Indústria</td>\n",
       "      <td>NaN</td>\n",
       "      <td>Manaus</td>\n",
       "      <td>Porto Privado</td>\n",
       "      <td>23/10/2015 21:55:00</td>\n",
       "      <td>23/10/2015 21:55:00</td>\n",
       "      <td>...</td>\n",
       "      <td>Interior</td>\n",
       "      <td>1.0</td>\n",
       "      <td>1</td>\n",
       "      <td>Super Terminais Comércio e Indústria</td>\n",
       "      <td>Manaus</td>\n",
       "      <td>Amazonas</td>\n",
       "      <td>AM</td>\n",
       "      <td>Norte</td>\n",
       "      <td>0011436409</td>\n",
       "      <td>NaN</td>\n",
       "    </tr>\n",
       "    <tr>\n",
       "      <th>70465</th>\n",
       "      <td>888124</td>\n",
       "      <td>BRAM012</td>\n",
       "      <td>BRAM0120101</td>\n",
       "      <td>EXTERNO</td>\n",
       "      <td>Super Terminais Comércio e Indústria</td>\n",
       "      <td>NaN</td>\n",
       "      <td>Manaus</td>\n",
       "      <td>Porto Privado</td>\n",
       "      <td>11/08/2015 15:17:00</td>\n",
       "      <td>11/08/2015 15:17:00</td>\n",
       "      <td>...</td>\n",
       "      <td>Interior</td>\n",
       "      <td>1.0</td>\n",
       "      <td>1</td>\n",
       "      <td>Super Terminais Comércio e Indústria</td>\n",
       "      <td>Manaus</td>\n",
       "      <td>Amazonas</td>\n",
       "      <td>AM</td>\n",
       "      <td>Norte</td>\n",
       "      <td>0011432624</td>\n",
       "      <td>NaN</td>\n",
       "    </tr>\n",
       "    <tr>\n",
       "      <th>70466</th>\n",
       "      <td>884617</td>\n",
       "      <td>BRAM012</td>\n",
       "      <td>BRAM0120102</td>\n",
       "      <td>INTERNO</td>\n",
       "      <td>Super Terminais Comércio e Indústria</td>\n",
       "      <td>NaN</td>\n",
       "      <td>Manaus</td>\n",
       "      <td>Porto Privado</td>\n",
       "      <td>09/10/2015 08:40:00</td>\n",
       "      <td>09/10/2015 08:40:00</td>\n",
       "      <td>...</td>\n",
       "      <td>Interior</td>\n",
       "      <td>1.0</td>\n",
       "      <td>1</td>\n",
       "      <td>Super Terminais Comércio e Indústria</td>\n",
       "      <td>Manaus</td>\n",
       "      <td>Amazonas</td>\n",
       "      <td>AM</td>\n",
       "      <td>Norte</td>\n",
       "      <td>0011432624</td>\n",
       "      <td>NaN</td>\n",
       "    </tr>\n",
       "    <tr>\n",
       "      <th>70467</th>\n",
       "      <td>884570</td>\n",
       "      <td>BRAM012</td>\n",
       "      <td>BRAM0120101</td>\n",
       "      <td>EXTERNO</td>\n",
       "      <td>Super Terminais Comércio e Indústria</td>\n",
       "      <td>NaN</td>\n",
       "      <td>Manaus</td>\n",
       "      <td>Porto Privado</td>\n",
       "      <td>04/11/2015 09:02:00</td>\n",
       "      <td>04/11/2015 09:02:00</td>\n",
       "      <td>...</td>\n",
       "      <td>Interior</td>\n",
       "      <td>1.0</td>\n",
       "      <td>1</td>\n",
       "      <td>Super Terminais Comércio e Indústria</td>\n",
       "      <td>Manaus</td>\n",
       "      <td>Amazonas</td>\n",
       "      <td>AM</td>\n",
       "      <td>Norte</td>\n",
       "      <td>0011432624</td>\n",
       "      <td>NaN</td>\n",
       "    </tr>\n",
       "    <tr>\n",
       "      <th>70468</th>\n",
       "      <td>884657</td>\n",
       "      <td>BRAM012</td>\n",
       "      <td>BRAM0120102</td>\n",
       "      <td>INTERNO</td>\n",
       "      <td>Super Terminais Comércio e Indústria</td>\n",
       "      <td>NaN</td>\n",
       "      <td>Manaus</td>\n",
       "      <td>Porto Privado</td>\n",
       "      <td>19/09/2015 08:15:00</td>\n",
       "      <td>19/09/2015 08:15:00</td>\n",
       "      <td>...</td>\n",
       "      <td>Interior</td>\n",
       "      <td>1.0</td>\n",
       "      <td>1</td>\n",
       "      <td>Super Terminais Comércio e Indústria</td>\n",
       "      <td>Manaus</td>\n",
       "      <td>Amazonas</td>\n",
       "      <td>AM</td>\n",
       "      <td>Norte</td>\n",
       "      <td>0011432624</td>\n",
       "      <td>NaN</td>\n",
       "    </tr>\n",
       "  </tbody>\n",
       "</table>\n",
       "<p>70469 rows × 26 columns</p>\n",
       "</div>"
      ],
      "text/plain": [
       "       IDAtracacao    CDTUP      IDBerco                Berço  \\\n",
       "0           678383  BRAM014  BRAM0140304  BERÇO - 02  INTERNA   \n",
       "1           686657  BRAM015  BRAM0150001                   01   \n",
       "2           686656  BRAM015  BRAM0150001                   01   \n",
       "3           720152  BRAM014  BRAM0140304  BERÇO - 02  INTERNA   \n",
       "4           703856  BRAM014  BRAM0140304  BERÇO - 02  INTERNA   \n",
       "...            ...      ...          ...                  ...   \n",
       "70464       884624  BRAM012  BRAM0120102              INTERNO   \n",
       "70465       888124  BRAM012  BRAM0120101              EXTERNO   \n",
       "70466       884617  BRAM012  BRAM0120102              INTERNO   \n",
       "70467       884570  BRAM012  BRAM0120101              EXTERNO   \n",
       "70468       884657  BRAM012  BRAM0120102              INTERNO   \n",
       "\n",
       "                            Porto Atracação Apelido Instalação Portuária  \\\n",
       "0               Terminal Graneleiro Hermasa                          NaN   \n",
       "1                                 Carinhoso                          NaN   \n",
       "2                                 Carinhoso                          NaN   \n",
       "3               Terminal Graneleiro Hermasa                          NaN   \n",
       "4               Terminal Graneleiro Hermasa                          NaN   \n",
       "...                                     ...                          ...   \n",
       "70464  Super Terminais Comércio e Indústria                          NaN   \n",
       "70465  Super Terminais Comércio e Indústria                          NaN   \n",
       "70466  Super Terminais Comércio e Indústria                          NaN   \n",
       "70467  Super Terminais Comércio e Indústria                          NaN   \n",
       "70468  Super Terminais Comércio e Indústria                          NaN   \n",
       "\n",
       "      Complexo Portuário Tipo da Autoridade Portuária       Data Atracação  \\\n",
       "0                 Manaus                Porto Privado  08/03/2015 04:32:00   \n",
       "1                 Manaus                Porto Privado  20/04/2015 06:00:00   \n",
       "2                 Manaus                Porto Privado  30/04/2015 04:00:00   \n",
       "3                 Manaus                Porto Privado  05/10/2015 15:00:00   \n",
       "4                 Manaus                Porto Privado  19/07/2015 04:18:00   \n",
       "...                  ...                          ...                  ...   \n",
       "70464             Manaus                Porto Privado  23/10/2015 21:55:00   \n",
       "70465             Manaus                Porto Privado  11/08/2015 15:17:00   \n",
       "70466             Manaus                Porto Privado  09/10/2015 08:40:00   \n",
       "70467             Manaus                Porto Privado  04/11/2015 09:02:00   \n",
       "70468             Manaus                Porto Privado  19/09/2015 08:15:00   \n",
       "\n",
       "              Data Chegada  ... Tipo de Navegação da Atracação  \\\n",
       "0      08/03/2015 04:32:00  ...                       Interior   \n",
       "1      20/04/2015 05:00:00  ...                       Interior   \n",
       "2      30/04/2015 03:00:00  ...                       Interior   \n",
       "3      05/10/2015 15:00:00  ...                       Interior   \n",
       "4      19/07/2015 04:18:00  ...                       Interior   \n",
       "...                    ...  ...                            ...   \n",
       "70464  23/10/2015 21:55:00  ...                       Interior   \n",
       "70465  11/08/2015 15:17:00  ...                       Interior   \n",
       "70466  09/10/2015 08:40:00  ...                       Interior   \n",
       "70467  04/11/2015 09:02:00  ...                       Interior   \n",
       "70468  19/09/2015 08:15:00  ...                       Interior   \n",
       "\n",
       "      Nacionalidade do Armador FlagMCOperacaoAtracacao  \\\n",
       "0                          1.0                       1   \n",
       "1                          1.0                       1   \n",
       "2                          1.0                       1   \n",
       "3                          1.0                       1   \n",
       "4                          1.0                       1   \n",
       "...                        ...                     ...   \n",
       "70464                      1.0                       1   \n",
       "70465                      1.0                       1   \n",
       "70466                      1.0                       1   \n",
       "70467                      1.0                       1   \n",
       "70468                      1.0                       1   \n",
       "\n",
       "                                   Terminal    Município        UF SGUF  \\\n",
       "0               Terminal Graneleiro Hermasa  Itacoatiara  Amazonas   AM   \n",
       "1                                 Carinhoso       Manaus  Amazonas   AM   \n",
       "2                                 Carinhoso       Manaus  Amazonas   AM   \n",
       "3               Terminal Graneleiro Hermasa  Itacoatiara  Amazonas   AM   \n",
       "4               Terminal Graneleiro Hermasa  Itacoatiara  Amazonas   AM   \n",
       "...                                     ...          ...       ...  ...   \n",
       "70464  Super Terminais Comércio e Indústria       Manaus  Amazonas   AM   \n",
       "70465  Super Terminais Comércio e Indústria       Manaus  Amazonas   AM   \n",
       "70466  Super Terminais Comércio e Indústria       Manaus  Amazonas   AM   \n",
       "70467  Super Terminais Comércio e Indústria       Manaus  Amazonas   AM   \n",
       "70468  Super Terminais Comércio e Indústria       Manaus  Amazonas   AM   \n",
       "\n",
       "       Região Geográfica  Nº da Capitania Nº do IMO  \n",
       "0                  Norte              NaN       NaN  \n",
       "1                  Norte              NaN       NaN  \n",
       "2                  Norte              NaN       NaN  \n",
       "3                  Norte              NaN       NaN  \n",
       "4                  Norte              NaN       NaN  \n",
       "...                  ...              ...       ...  \n",
       "70464              Norte       0011436409       NaN  \n",
       "70465              Norte       0011432624       NaN  \n",
       "70466              Norte       0011432624       NaN  \n",
       "70467              Norte       0011432624       NaN  \n",
       "70468              Norte       0011432624       NaN  \n",
       "\n",
       "[70469 rows x 26 columns]"
      ]
     },
     "execution_count": 26,
     "metadata": {},
     "output_type": "execute_result"
    }
   ],
   "source": [
    "atrac"
   ]
  },
  {
   "cell_type": "code",
   "execution_count": 27,
   "id": "711dbdfb",
   "metadata": {
    "scrolled": false
   },
   "outputs": [
    {
     "data": {
      "text/plain": [
       "Index(['IDAtracacao', 'CDTUP', 'IDBerco', 'Berço', 'Porto Atracação',\n",
       "       'Apelido Instalação Portuária', 'Complexo Portuário',\n",
       "       'Tipo da Autoridade Portuária', 'Data Atracação', 'Data Chegada',\n",
       "       'Data Desatracação', 'Data Início Operação', 'Data Término Operação',\n",
       "       'Ano', 'Mes', 'Tipo de Operação', 'Tipo de Navegação da Atracação',\n",
       "       'Nacionalidade do Armador', 'FlagMCOperacaoAtracacao', 'Terminal',\n",
       "       'Município', 'UF', 'SGUF', 'Região Geográfica', 'Nº da Capitania',\n",
       "       'Nº do IMO'],\n",
       "      dtype='object')"
      ]
     },
     "execution_count": 27,
     "metadata": {},
     "output_type": "execute_result"
    }
   ],
   "source": [
    "#Colunas de atrac\n",
    "\n",
    "atrac.columns\n",
    "\n",
    "#'Nº da Capitania' não tem função para o trabalho"
   ]
  },
  {
   "cell_type": "code",
   "execution_count": 28,
   "id": "e910fbda",
   "metadata": {
    "scrolled": false
   },
   "outputs": [],
   "source": [
    "atrac = atrac[['IDAtracacao', 'Porto Atracação',\n",
    "       'Apelido Instalação Portuária', 'Complexo Portuário',\n",
    "       'Tipo da Autoridade Portuária', 'Data Atracação', 'Data Chegada',\n",
    "       'Data Desatracação', 'Data Início Operação', 'Data Término Operação',\n",
    "       'Ano', 'Mes', 'Tipo de Navegação da Atracação',\n",
    "       'Nacionalidade do Armador', 'Terminal',\n",
    "       'Município', 'UF', 'SGUF', 'Região Geográfica']]\n",
    "\n",
    "#atrac[['IDAtracacao', 'Porto Atracação',\n",
    "#       'Apelido Instalação Portuária', 'Complexo Portuário',\n",
    "#       'Tipo da Autoridade Portuária', 'Data Atracação', 'Data Chegada',\n",
    "#       'Data Desatracação', 'Data Início Operação', 'Data Término Operação',\n",
    "#       'Ano', 'Mes', 'Tipo de Navegação da Atracação',\n",
    "#       'Nacionalidade do Armador', 'Terminal',\n",
    "#       'Município', 'UF', 'SGUF', 'Região Geográfica']].head()\n",
    "\n",
    "#Como essa tabela é suporte, poucas colunas vão interessar. Uma vez que será extraído dela o local dos portos e terminais.\n",
    "#Colunas não selecionadas:\n",
    "#'IDBerco', 'CDTUP', 'Berço', 'Tipo de Operação',\n",
    "#'FlagMCOperacaoAtracacao', 'Nº da Capitania' e 'Nº do IMO' têm pouca relevância no estudo."
   ]
  },
  {
   "cell_type": "code",
   "execution_count": 29,
   "id": "715bc577",
   "metadata": {
    "scrolled": true
   },
   "outputs": [
    {
     "data": {
      "text/plain": [
       "Santos                           5488\n",
       "Vitória                          4546\n",
       "Vila do Conde - Belém            4496\n",
       "Manaus                           3803\n",
       "Rio Grande                       3619\n",
       "Porto Velho                      2577\n",
       "Corumbá                          2427\n",
       "Santarém                         2185\n",
       "Paranaguá - Antonina             2171\n",
       "Rio de Janeiro -  Niterói        2071\n",
       "Porto Alegre                     1991\n",
       "Itaqui                           1199\n",
       "São Francisco do Sul             1162\n",
       "Aratu - Salvador                  746\n",
       "Pecém - Fortaleza                 489\n",
       "Óbidos                            435\n",
       "Itajaí                            367\n",
       "Itaguaí                           340\n",
       "Maceió                            326\n",
       "Não Classificado                  308\n",
       "Imbituba                          229\n",
       "Angra dos Reis                    184\n",
       "Tomé Açu                          154\n",
       "São Sebastião                     140\n",
       "Cabedelo (Instalação Isolada)     117\n",
       "São João da Barra                  97\n",
       "Natal                              75\n",
       "Almeirim                           40\n",
       "Forno                              19\n",
       "Suape - Recife                      3\n",
       "Name: Complexo Portuário, dtype: int64"
      ]
     },
     "execution_count": 29,
     "metadata": {},
     "output_type": "execute_result"
    }
   ],
   "source": [
    "#'Apelido Instalação Portuária' é mantido por ora por segurança.\n",
    "\n",
    "atrac[atrac['Apelido Instalação Portuária'].isna()]['Complexo Portuário'].value_counts()"
   ]
  },
  {
   "cell_type": "code",
   "execution_count": 30,
   "id": "79a0260a",
   "metadata": {},
   "outputs": [
    {
     "data": {
      "text/plain": [
       "1.0    38515\n",
       "2.0    30482\n",
       "0.0     1165\n",
       "Name: Nacionalidade do Armador, dtype: int64"
      ]
     },
     "execution_count": 30,
     "metadata": {},
     "output_type": "execute_result"
    }
   ],
   "source": [
    "atrac['Nacionalidade do Armador'].value_counts()"
   ]
  },
  {
   "cell_type": "code",
   "execution_count": null,
   "id": "9b2b26d8",
   "metadata": {
    "scrolled": true
   },
   "outputs": [],
   "source": [
    "#atrac"
   ]
  },
  {
   "cell_type": "markdown",
   "id": "c83886b6",
   "metadata": {},
   "source": [
    "###############################################################################################################################"
   ]
  },
  {
   "cell_type": "markdown",
   "id": "38f51629",
   "metadata": {},
   "source": [
    "Juntando cargas e atrac"
   ]
  },
  {
   "cell_type": "code",
   "execution_count": 35,
   "id": "580259d8",
   "metadata": {},
   "outputs": [],
   "source": [
    "cargas_atrac = cargas.merge(atrac, how='inner', on='IDAtracacao')"
   ]
  },
  {
   "cell_type": "code",
   "execution_count": 38,
   "id": "63e00173",
   "metadata": {
    "scrolled": true
   },
   "outputs": [
    {
     "name": "stdout",
     "output_type": "stream",
     "text": [
      "<class 'pandas.core.frame.DataFrame'>\n",
      "Int64Index: 1523472 entries, 0 to 1523471\n",
      "Data columns (total 29 columns):\n",
      " #   Column                          Non-Null Count    Dtype  \n",
      "---  ------                          --------------    -----  \n",
      " 0   IDCarga                         1523472 non-null  int64  \n",
      " 1   IDAtracacao                     1523472 non-null  int64  \n",
      " 2   Origem                          1523472 non-null  object \n",
      " 3   Destino                         1523472 non-null  object \n",
      " 4   Tipo Operação da Carga          1523472 non-null  object \n",
      " 5   Carga Geral Acondicionamento    1523472 non-null  object \n",
      " 6   ConteinerEstado                 1523472 non-null  object \n",
      " 7   Tipo Navegação                  1523472 non-null  object \n",
      " 8   FlagConteinerTamanho            1523472 non-null  int32  \n",
      " 9   Sentido                         1523472 non-null  object \n",
      " 10  TEU                             1523472 non-null  int32  \n",
      " 11  Porto Atracação                 1523472 non-null  object \n",
      " 12  Apelido Instalação Portuária    456994 non-null   object \n",
      " 13  Complexo Portuário              1523472 non-null  object \n",
      " 14  Tipo da Autoridade Portuária    1523472 non-null  object \n",
      " 15  Data Atracação                  1523472 non-null  object \n",
      " 16  Data Chegada                    1523472 non-null  object \n",
      " 17  Data Desatracação               1523472 non-null  object \n",
      " 18  Data Início Operação            1523472 non-null  object \n",
      " 19  Data Término Operação           1523472 non-null  object \n",
      " 20  Ano                             1523472 non-null  int64  \n",
      " 21  Mes                             1523472 non-null  object \n",
      " 22  Tipo de Navegação da Atracação  1523472 non-null  object \n",
      " 23  Nacionalidade do Armador        1523472 non-null  float64\n",
      " 24  Terminal                        1523472 non-null  object \n",
      " 25  Município                       1523472 non-null  object \n",
      " 26  UF                              1523472 non-null  object \n",
      " 27  SGUF                            1523472 non-null  object \n",
      " 28  Região Geográfica               1523472 non-null  object \n",
      "dtypes: float64(1), int32(2), int64(3), object(23)\n",
      "memory usage: 337.1+ MB\n"
     ]
    }
   ],
   "source": [
    "cargas_atrac.info()"
   ]
  },
  {
   "cell_type": "code",
   "execution_count": 43,
   "id": "709b4e19",
   "metadata": {},
   "outputs": [
    {
     "data": {
      "text/plain": [
       "nov    139878\n",
       "dez    139023\n",
       "out    137969\n",
       "jul    137116\n",
       "ago    133615\n",
       "mar    129376\n",
       "mai    129219\n",
       "jun    120885\n",
       "set    116209\n",
       "jan    115422\n",
       "abr    113773\n",
       "fev    110987\n",
       "Name: Mes, dtype: int64"
      ]
     },
     "execution_count": 43,
     "metadata": {},
     "output_type": "execute_result"
    }
   ],
   "source": [
    "cargas_atrac['Mes'].value_counts()"
   ]
  },
  {
   "cell_type": "markdown",
   "id": "edc9bc72",
   "metadata": {},
   "source": [
    "###############################################################################################################################"
   ]
  },
  {
   "cell_type": "markdown",
   "id": "540c95c3",
   "metadata": {},
   "source": [
    "################################################ Agri Outlook ##################################################################"
   ]
  },
  {
   "cell_type": "code",
   "execution_count": 31,
   "id": "3046d8ab",
   "metadata": {},
   "outputs": [
    {
     "data": {
      "text/plain": [
       "Index(['COUNTRY', 'Country', 'COMMODITY', 'Commodity', 'VARIABLE', 'Variable',\n",
       "       'TIME', 'Time', 'Value', 'Flag Codes', 'Flags'],\n",
       "      dtype='object')"
      ]
     },
     "execution_count": 31,
     "metadata": {},
     "output_type": "execute_result"
    }
   ],
   "source": [
    "#Colunas do agri outlook\n",
    "\n",
    "agri_outlook.columns"
   ]
  },
  {
   "cell_type": "code",
   "execution_count": 44,
   "id": "b0cd5505",
   "metadata": {},
   "outputs": [],
   "source": [
    "agri_outlook = agri_outlook[['Commodity','Variable','Time','Value']] \n",
    "\n",
    "#Mantive 'Variable' pois soa interessante o porque do dado"
   ]
  },
  {
   "cell_type": "code",
   "execution_count": 48,
   "id": "67c727fc",
   "metadata": {},
   "outputs": [
    {
     "data": {
      "text/plain": [
       "Production, kt (for Biofuels in millions of litres)                           125\n",
       "Imports, kt (for Biofuels in millions of litres)                              110\n",
       "Producer price, local currency/t (for Biofuels local currency/ 100 litres)    110\n",
       "Exports, kt (for Biofuels in millions of litres)                              110\n",
       "Consumption, kt (for Biofuels in millions of litres)                          105\n",
       "Trade balance, kt (for Biofuels in millions of litres)                        100\n",
       "Food, kt                                                                       80\n",
       "Consumption per capita, kg                                                     75\n",
       "Ending stocks, kt (for Biofuels in millions of litres)                         65\n",
       "Yield                                                                          40\n",
       "Other use, kt (for Biofuels in millions of litres)                             30\n",
       "Area harvested, 000 ha                                                         25\n",
       "Feed, kt                                                                       25\n",
       "Biofuel use, kt                                                                20\n",
       "Crush, kt                                                                      10\n",
       "Cow inventory, 000 hd                                                          10\n",
       "Name: Variable, dtype: int64"
      ]
     },
     "execution_count": 48,
     "metadata": {},
     "output_type": "execute_result"
    }
   ],
   "source": [
    "agri_outlook['Variable'].value_counts()"
   ]
  },
  {
   "cell_type": "code",
   "execution_count": 54,
   "id": "019834ba",
   "metadata": {},
   "outputs": [],
   "source": [
    "novos_nomes = agri_outlook['Variable'].str.split(\",\",expand=True)"
   ]
  },
  {
   "cell_type": "code",
   "execution_count": 56,
   "id": "53b8fd92",
   "metadata": {},
   "outputs": [
    {
     "data": {
      "text/plain": [
       "0           Production\n",
       "1           Production\n",
       "2           Production\n",
       "3           Production\n",
       "4           Production\n",
       "             ...      \n",
       "1035    Producer price\n",
       "1036    Producer price\n",
       "1037    Producer price\n",
       "1038    Producer price\n",
       "1039    Producer price\n",
       "Name: 0, Length: 1040, dtype: object"
      ]
     },
     "execution_count": 56,
     "metadata": {},
     "output_type": "execute_result"
    }
   ],
   "source": [
    "novos_nomes[0]"
   ]
  },
  {
   "cell_type": "code",
   "execution_count": 57,
   "id": "f5d087dd",
   "metadata": {},
   "outputs": [],
   "source": [
    "agri_outlook['Variable']=novos_nomes[0]"
   ]
  },
  {
   "cell_type": "code",
   "execution_count": 68,
   "id": "0434b147",
   "metadata": {},
   "outputs": [],
   "source": [
    "agri_outlook['Chave_var_comm'] = agri_outlook['Commodity']+\" - \"+agri_outlook['Variable']"
   ]
  },
  {
   "cell_type": "code",
   "execution_count": 72,
   "id": "71c6efc6",
   "metadata": {
    "scrolled": true
   },
   "outputs": [],
   "source": [
    "agri_outlook.drop(columns=['Variable','Commodity'], inplace=True)"
   ]
  },
  {
   "cell_type": "code",
   "execution_count": 93,
   "id": "8affb650",
   "metadata": {
    "scrolled": false
   },
   "outputs": [],
   "source": [
    "df_dummies_agri = pd.get_dummies(agri_outlook,columns=['Chave_var_comm'])"
   ]
  },
  {
   "cell_type": "code",
   "execution_count": 94,
   "id": "3aa860e8",
   "metadata": {
    "scrolled": true
   },
   "outputs": [
    {
     "data": {
      "text/html": [
       "<div>\n",
       "<style scoped>\n",
       "    .dataframe tbody tr th:only-of-type {\n",
       "        vertical-align: middle;\n",
       "    }\n",
       "\n",
       "    .dataframe tbody tr th {\n",
       "        vertical-align: top;\n",
       "    }\n",
       "\n",
       "    .dataframe thead th {\n",
       "        text-align: right;\n",
       "    }\n",
       "</style>\n",
       "<table border=\"1\" class=\"dataframe\">\n",
       "  <thead>\n",
       "    <tr style=\"text-align: right;\">\n",
       "      <th></th>\n",
       "      <th>Time</th>\n",
       "      <th>Value</th>\n",
       "      <th>Chave_var_comm_Beef and veal (cwe) - Consumption</th>\n",
       "      <th>Chave_var_comm_Beef and veal (cwe) - Consumption per capita</th>\n",
       "      <th>Chave_var_comm_Beef and veal (cwe) - Cow inventory</th>\n",
       "      <th>Chave_var_comm_Beef and veal (cwe) - Ending stocks</th>\n",
       "      <th>Chave_var_comm_Beef and veal (cwe) - Exports</th>\n",
       "      <th>Chave_var_comm_Beef and veal (cwe) - Food</th>\n",
       "      <th>Chave_var_comm_Beef and veal (cwe) - Imports</th>\n",
       "      <th>Chave_var_comm_Beef and veal (cwe) - Producer price</th>\n",
       "      <th>...</th>\n",
       "      <th>Chave_var_comm_White sugar (rse) - Producer price</th>\n",
       "      <th>Chave_var_comm_White sugar (rse) - Trade balance</th>\n",
       "      <th>Chave_var_comm_Wholemilk powder (pw) - Consumption</th>\n",
       "      <th>Chave_var_comm_Wholemilk powder (pw) - Consumption per capita</th>\n",
       "      <th>Chave_var_comm_Wholemilk powder (pw) - Exports</th>\n",
       "      <th>Chave_var_comm_Wholemilk powder (pw) - Food</th>\n",
       "      <th>Chave_var_comm_Wholemilk powder (pw) - Imports</th>\n",
       "      <th>Chave_var_comm_Wholemilk powder (pw) - Producer price</th>\n",
       "      <th>Chave_var_comm_Wholemilk powder (pw) - Production</th>\n",
       "      <th>Chave_var_comm_Wholemilk powder (pw) - Trade balance</th>\n",
       "    </tr>\n",
       "  </thead>\n",
       "  <tbody>\n",
       "    <tr>\n",
       "      <th>0</th>\n",
       "      <td>2015</td>\n",
       "      <td>5423.046719</td>\n",
       "      <td>0</td>\n",
       "      <td>0</td>\n",
       "      <td>0</td>\n",
       "      <td>0</td>\n",
       "      <td>0</td>\n",
       "      <td>0</td>\n",
       "      <td>0</td>\n",
       "      <td>0</td>\n",
       "      <td>...</td>\n",
       "      <td>0</td>\n",
       "      <td>0</td>\n",
       "      <td>0</td>\n",
       "      <td>0</td>\n",
       "      <td>0</td>\n",
       "      <td>0</td>\n",
       "      <td>0</td>\n",
       "      <td>0</td>\n",
       "      <td>0</td>\n",
       "      <td>0</td>\n",
       "    </tr>\n",
       "    <tr>\n",
       "      <th>1</th>\n",
       "      <td>2016</td>\n",
       "      <td>5659.012314</td>\n",
       "      <td>0</td>\n",
       "      <td>0</td>\n",
       "      <td>0</td>\n",
       "      <td>0</td>\n",
       "      <td>0</td>\n",
       "      <td>0</td>\n",
       "      <td>0</td>\n",
       "      <td>0</td>\n",
       "      <td>...</td>\n",
       "      <td>0</td>\n",
       "      <td>0</td>\n",
       "      <td>0</td>\n",
       "      <td>0</td>\n",
       "      <td>0</td>\n",
       "      <td>0</td>\n",
       "      <td>0</td>\n",
       "      <td>0</td>\n",
       "      <td>0</td>\n",
       "      <td>0</td>\n",
       "    </tr>\n",
       "    <tr>\n",
       "      <th>2</th>\n",
       "      <td>2017</td>\n",
       "      <td>5642.048576</td>\n",
       "      <td>0</td>\n",
       "      <td>0</td>\n",
       "      <td>0</td>\n",
       "      <td>0</td>\n",
       "      <td>0</td>\n",
       "      <td>0</td>\n",
       "      <td>0</td>\n",
       "      <td>0</td>\n",
       "      <td>...</td>\n",
       "      <td>0</td>\n",
       "      <td>0</td>\n",
       "      <td>0</td>\n",
       "      <td>0</td>\n",
       "      <td>0</td>\n",
       "      <td>0</td>\n",
       "      <td>0</td>\n",
       "      <td>0</td>\n",
       "      <td>0</td>\n",
       "      <td>0</td>\n",
       "    </tr>\n",
       "    <tr>\n",
       "      <th>3</th>\n",
       "      <td>2018</td>\n",
       "      <td>5791.486958</td>\n",
       "      <td>0</td>\n",
       "      <td>0</td>\n",
       "      <td>0</td>\n",
       "      <td>0</td>\n",
       "      <td>0</td>\n",
       "      <td>0</td>\n",
       "      <td>0</td>\n",
       "      <td>0</td>\n",
       "      <td>...</td>\n",
       "      <td>0</td>\n",
       "      <td>0</td>\n",
       "      <td>0</td>\n",
       "      <td>0</td>\n",
       "      <td>0</td>\n",
       "      <td>0</td>\n",
       "      <td>0</td>\n",
       "      <td>0</td>\n",
       "      <td>0</td>\n",
       "      <td>0</td>\n",
       "    </tr>\n",
       "    <tr>\n",
       "      <th>4</th>\n",
       "      <td>2019</td>\n",
       "      <td>5733.874286</td>\n",
       "      <td>0</td>\n",
       "      <td>0</td>\n",
       "      <td>0</td>\n",
       "      <td>0</td>\n",
       "      <td>0</td>\n",
       "      <td>0</td>\n",
       "      <td>0</td>\n",
       "      <td>0</td>\n",
       "      <td>...</td>\n",
       "      <td>0</td>\n",
       "      <td>0</td>\n",
       "      <td>0</td>\n",
       "      <td>0</td>\n",
       "      <td>0</td>\n",
       "      <td>0</td>\n",
       "      <td>0</td>\n",
       "      <td>0</td>\n",
       "      <td>0</td>\n",
       "      <td>0</td>\n",
       "    </tr>\n",
       "  </tbody>\n",
       "</table>\n",
       "<p>5 rows × 210 columns</p>\n",
       "</div>"
      ],
      "text/plain": [
       "   Time        Value  Chave_var_comm_Beef and veal (cwe) - Consumption  \\\n",
       "0  2015  5423.046719                                                 0   \n",
       "1  2016  5659.012314                                                 0   \n",
       "2  2017  5642.048576                                                 0   \n",
       "3  2018  5791.486958                                                 0   \n",
       "4  2019  5733.874286                                                 0   \n",
       "\n",
       "   Chave_var_comm_Beef and veal (cwe) - Consumption per capita  \\\n",
       "0                                                  0             \n",
       "1                                                  0             \n",
       "2                                                  0             \n",
       "3                                                  0             \n",
       "4                                                  0             \n",
       "\n",
       "   Chave_var_comm_Beef and veal (cwe) - Cow inventory  \\\n",
       "0                                                  0    \n",
       "1                                                  0    \n",
       "2                                                  0    \n",
       "3                                                  0    \n",
       "4                                                  0    \n",
       "\n",
       "   Chave_var_comm_Beef and veal (cwe) - Ending stocks  \\\n",
       "0                                                  0    \n",
       "1                                                  0    \n",
       "2                                                  0    \n",
       "3                                                  0    \n",
       "4                                                  0    \n",
       "\n",
       "   Chave_var_comm_Beef and veal (cwe) - Exports  \\\n",
       "0                                             0   \n",
       "1                                             0   \n",
       "2                                             0   \n",
       "3                                             0   \n",
       "4                                             0   \n",
       "\n",
       "   Chave_var_comm_Beef and veal (cwe) - Food  \\\n",
       "0                                          0   \n",
       "1                                          0   \n",
       "2                                          0   \n",
       "3                                          0   \n",
       "4                                          0   \n",
       "\n",
       "   Chave_var_comm_Beef and veal (cwe) - Imports  \\\n",
       "0                                             0   \n",
       "1                                             0   \n",
       "2                                             0   \n",
       "3                                             0   \n",
       "4                                             0   \n",
       "\n",
       "   Chave_var_comm_Beef and veal (cwe) - Producer price  ...  \\\n",
       "0                                                  0    ...   \n",
       "1                                                  0    ...   \n",
       "2                                                  0    ...   \n",
       "3                                                  0    ...   \n",
       "4                                                  0    ...   \n",
       "\n",
       "   Chave_var_comm_White sugar (rse) - Producer price  \\\n",
       "0                                                  0   \n",
       "1                                                  0   \n",
       "2                                                  0   \n",
       "3                                                  0   \n",
       "4                                                  0   \n",
       "\n",
       "   Chave_var_comm_White sugar (rse) - Trade balance  \\\n",
       "0                                                 0   \n",
       "1                                                 0   \n",
       "2                                                 0   \n",
       "3                                                 0   \n",
       "4                                                 0   \n",
       "\n",
       "   Chave_var_comm_Wholemilk powder (pw) - Consumption  \\\n",
       "0                                                  0    \n",
       "1                                                  0    \n",
       "2                                                  0    \n",
       "3                                                  0    \n",
       "4                                                  0    \n",
       "\n",
       "   Chave_var_comm_Wholemilk powder (pw) - Consumption per capita  \\\n",
       "0                                                  0               \n",
       "1                                                  0               \n",
       "2                                                  0               \n",
       "3                                                  0               \n",
       "4                                                  0               \n",
       "\n",
       "   Chave_var_comm_Wholemilk powder (pw) - Exports  \\\n",
       "0                                               0   \n",
       "1                                               0   \n",
       "2                                               0   \n",
       "3                                               0   \n",
       "4                                               0   \n",
       "\n",
       "   Chave_var_comm_Wholemilk powder (pw) - Food  \\\n",
       "0                                            0   \n",
       "1                                            0   \n",
       "2                                            0   \n",
       "3                                            0   \n",
       "4                                            0   \n",
       "\n",
       "   Chave_var_comm_Wholemilk powder (pw) - Imports  \\\n",
       "0                                               0   \n",
       "1                                               0   \n",
       "2                                               0   \n",
       "3                                               0   \n",
       "4                                               0   \n",
       "\n",
       "   Chave_var_comm_Wholemilk powder (pw) - Producer price  \\\n",
       "0                                                  0       \n",
       "1                                                  0       \n",
       "2                                                  0       \n",
       "3                                                  0       \n",
       "4                                                  0       \n",
       "\n",
       "   Chave_var_comm_Wholemilk powder (pw) - Production  \\\n",
       "0                                                  0   \n",
       "1                                                  0   \n",
       "2                                                  0   \n",
       "3                                                  0   \n",
       "4                                                  0   \n",
       "\n",
       "   Chave_var_comm_Wholemilk powder (pw) - Trade balance  \n",
       "0                                                  0     \n",
       "1                                                  0     \n",
       "2                                                  0     \n",
       "3                                                  0     \n",
       "4                                                  0     \n",
       "\n",
       "[5 rows x 210 columns]"
      ]
     },
     "execution_count": 94,
     "metadata": {},
     "output_type": "execute_result"
    }
   ],
   "source": [
    "df_dummies_agri.head()"
   ]
  },
  {
   "cell_type": "code",
   "execution_count": 96,
   "id": "4f0c3c0d",
   "metadata": {},
   "outputs": [],
   "source": [
    "for i in range(0,len(df_dummies_agri)):\n",
    "    for j in range(2,len(df_dummies_agri.columns.to_list())):\n",
    "        df_dummies_agri.iloc[i,j] = df_dummies_agri.iloc[i,1] * df_dummies_agri.iloc[i,j]  "
   ]
  },
  {
   "cell_type": "code",
   "execution_count": 99,
   "id": "28686996",
   "metadata": {},
   "outputs": [],
   "source": [
    "df_dummies_agri_agg = df_dummies_agri.groupby('Time').sum()\n",
    "df_dummies_agri_agg.drop(columns=['Value'],inplace=True)"
   ]
  },
  {
   "cell_type": "code",
   "execution_count": 100,
   "id": "b877971c",
   "metadata": {
    "scrolled": true
   },
   "outputs": [
    {
     "data": {
      "text/html": [
       "<div>\n",
       "<style scoped>\n",
       "    .dataframe tbody tr th:only-of-type {\n",
       "        vertical-align: middle;\n",
       "    }\n",
       "\n",
       "    .dataframe tbody tr th {\n",
       "        vertical-align: top;\n",
       "    }\n",
       "\n",
       "    .dataframe thead th {\n",
       "        text-align: right;\n",
       "    }\n",
       "</style>\n",
       "<table border=\"1\" class=\"dataframe\">\n",
       "  <thead>\n",
       "    <tr style=\"text-align: right;\">\n",
       "      <th></th>\n",
       "      <th>Chave_var_comm_Beef and veal (cwe) - Consumption</th>\n",
       "      <th>Chave_var_comm_Beef and veal (cwe) - Consumption per capita</th>\n",
       "      <th>Chave_var_comm_Beef and veal (cwe) - Cow inventory</th>\n",
       "      <th>Chave_var_comm_Beef and veal (cwe) - Ending stocks</th>\n",
       "      <th>Chave_var_comm_Beef and veal (cwe) - Exports</th>\n",
       "      <th>Chave_var_comm_Beef and veal (cwe) - Food</th>\n",
       "      <th>Chave_var_comm_Beef and veal (cwe) - Imports</th>\n",
       "      <th>Chave_var_comm_Beef and veal (cwe) - Producer price</th>\n",
       "      <th>Chave_var_comm_Beef and veal (cwe) - Production</th>\n",
       "      <th>Chave_var_comm_Beef and veal (cwe) - Trade balance</th>\n",
       "      <th>...</th>\n",
       "      <th>Chave_var_comm_White sugar (rse) - Producer price</th>\n",
       "      <th>Chave_var_comm_White sugar (rse) - Trade balance</th>\n",
       "      <th>Chave_var_comm_Wholemilk powder (pw) - Consumption</th>\n",
       "      <th>Chave_var_comm_Wholemilk powder (pw) - Consumption per capita</th>\n",
       "      <th>Chave_var_comm_Wholemilk powder (pw) - Exports</th>\n",
       "      <th>Chave_var_comm_Wholemilk powder (pw) - Food</th>\n",
       "      <th>Chave_var_comm_Wholemilk powder (pw) - Imports</th>\n",
       "      <th>Chave_var_comm_Wholemilk powder (pw) - Producer price</th>\n",
       "      <th>Chave_var_comm_Wholemilk powder (pw) - Production</th>\n",
       "      <th>Chave_var_comm_Wholemilk powder (pw) - Trade balance</th>\n",
       "    </tr>\n",
       "    <tr>\n",
       "      <th>Time</th>\n",
       "      <th></th>\n",
       "      <th></th>\n",
       "      <th></th>\n",
       "      <th></th>\n",
       "      <th></th>\n",
       "      <th></th>\n",
       "      <th></th>\n",
       "      <th></th>\n",
       "      <th></th>\n",
       "      <th></th>\n",
       "      <th></th>\n",
       "      <th></th>\n",
       "      <th></th>\n",
       "      <th></th>\n",
       "      <th></th>\n",
       "      <th></th>\n",
       "      <th></th>\n",
       "      <th></th>\n",
       "      <th></th>\n",
       "      <th></th>\n",
       "      <th></th>\n",
       "    </tr>\n",
       "  </thead>\n",
       "  <tbody>\n",
       "    <tr>\n",
       "      <th>2015</th>\n",
       "      <td>8976.079060</td>\n",
       "      <td>30.907241</td>\n",
       "      <td>52730.65745</td>\n",
       "      <td>0.0</td>\n",
       "      <td>1725.996754</td>\n",
       "      <td>8976.079060</td>\n",
       "      <td>93.819177</td>\n",
       "      <td>6572.366737</td>\n",
       "      <td>10608.25664</td>\n",
       "      <td>1632.177578</td>\n",
       "      <td>...</td>\n",
       "      <td>1151.206988</td>\n",
       "      <td>9643.371758</td>\n",
       "      <td>593.782421</td>\n",
       "      <td>2.920807</td>\n",
       "      <td>9.616232</td>\n",
       "      <td>593.782421</td>\n",
       "      <td>47.908834</td>\n",
       "      <td>6791.639220</td>\n",
       "      <td>555.489819</td>\n",
       "      <td>-38.292602</td>\n",
       "    </tr>\n",
       "    <tr>\n",
       "      <th>2016</th>\n",
       "      <td>9069.934419</td>\n",
       "      <td>30.996547</td>\n",
       "      <td>52371.83229</td>\n",
       "      <td>0.0</td>\n",
       "      <td>1729.482612</td>\n",
       "      <td>9069.934419</td>\n",
       "      <td>94.313580</td>\n",
       "      <td>6619.278597</td>\n",
       "      <td>10705.10345</td>\n",
       "      <td>1635.169032</td>\n",
       "      <td>...</td>\n",
       "      <td>1044.756828</td>\n",
       "      <td>9628.525938</td>\n",
       "      <td>606.658695</td>\n",
       "      <td>2.961799</td>\n",
       "      <td>9.321286</td>\n",
       "      <td>606.658695</td>\n",
       "      <td>48.929020</td>\n",
       "      <td>7068.430159</td>\n",
       "      <td>567.050961</td>\n",
       "      <td>-39.607734</td>\n",
       "    </tr>\n",
       "    <tr>\n",
       "      <th>2017</th>\n",
       "      <td>9208.506177</td>\n",
       "      <td>31.244412</td>\n",
       "      <td>52801.46068</td>\n",
       "      <td>0.0</td>\n",
       "      <td>1802.482784</td>\n",
       "      <td>9208.506177</td>\n",
       "      <td>94.492876</td>\n",
       "      <td>6972.223818</td>\n",
       "      <td>10916.49609</td>\n",
       "      <td>1707.989908</td>\n",
       "      <td>...</td>\n",
       "      <td>1087.976629</td>\n",
       "      <td>9083.088569</td>\n",
       "      <td>618.811304</td>\n",
       "      <td>2.999462</td>\n",
       "      <td>9.819252</td>\n",
       "      <td>618.811304</td>\n",
       "      <td>49.440650</td>\n",
       "      <td>7360.301315</td>\n",
       "      <td>579.189906</td>\n",
       "      <td>-39.621398</td>\n",
       "    </tr>\n",
       "    <tr>\n",
       "      <th>2018</th>\n",
       "      <td>9320.236587</td>\n",
       "      <td>31.406417</td>\n",
       "      <td>52529.80261</td>\n",
       "      <td>0.0</td>\n",
       "      <td>1835.443246</td>\n",
       "      <td>9320.236587</td>\n",
       "      <td>94.559498</td>\n",
       "      <td>7274.130990</td>\n",
       "      <td>11061.12034</td>\n",
       "      <td>1740.883748</td>\n",
       "      <td>...</td>\n",
       "      <td>1141.558778</td>\n",
       "      <td>10378.108060</td>\n",
       "      <td>630.495061</td>\n",
       "      <td>3.035115</td>\n",
       "      <td>10.378969</td>\n",
       "      <td>630.495061</td>\n",
       "      <td>50.501973</td>\n",
       "      <td>7634.814315</td>\n",
       "      <td>590.372057</td>\n",
       "      <td>-40.123003</td>\n",
       "    </tr>\n",
       "    <tr>\n",
       "      <th>2019</th>\n",
       "      <td>9339.610847</td>\n",
       "      <td>31.264778</td>\n",
       "      <td>52332.69831</td>\n",
       "      <td>0.0</td>\n",
       "      <td>1924.315717</td>\n",
       "      <td>9339.610847</td>\n",
       "      <td>94.584882</td>\n",
       "      <td>7406.214783</td>\n",
       "      <td>11169.34168</td>\n",
       "      <td>1829.730835</td>\n",
       "      <td>...</td>\n",
       "      <td>1166.874293</td>\n",
       "      <td>10781.395620</td>\n",
       "      <td>643.328290</td>\n",
       "      <td>3.076530</td>\n",
       "      <td>10.671056</td>\n",
       "      <td>643.328290</td>\n",
       "      <td>51.509701</td>\n",
       "      <td>7935.485765</td>\n",
       "      <td>602.489645</td>\n",
       "      <td>-40.838645</td>\n",
       "    </tr>\n",
       "  </tbody>\n",
       "</table>\n",
       "<p>5 rows × 208 columns</p>\n",
       "</div>"
      ],
      "text/plain": [
       "      Chave_var_comm_Beef and veal (cwe) - Consumption  \\\n",
       "Time                                                     \n",
       "2015                                       8976.079060   \n",
       "2016                                       9069.934419   \n",
       "2017                                       9208.506177   \n",
       "2018                                       9320.236587   \n",
       "2019                                       9339.610847   \n",
       "\n",
       "      Chave_var_comm_Beef and veal (cwe) - Consumption per capita  \\\n",
       "Time                                                                \n",
       "2015                                          30.907241             \n",
       "2016                                          30.996547             \n",
       "2017                                          31.244412             \n",
       "2018                                          31.406417             \n",
       "2019                                          31.264778             \n",
       "\n",
       "      Chave_var_comm_Beef and veal (cwe) - Cow inventory  \\\n",
       "Time                                                       \n",
       "2015                                        52730.65745    \n",
       "2016                                        52371.83229    \n",
       "2017                                        52801.46068    \n",
       "2018                                        52529.80261    \n",
       "2019                                        52332.69831    \n",
       "\n",
       "      Chave_var_comm_Beef and veal (cwe) - Ending stocks  \\\n",
       "Time                                                       \n",
       "2015                                                0.0    \n",
       "2016                                                0.0    \n",
       "2017                                                0.0    \n",
       "2018                                                0.0    \n",
       "2019                                                0.0    \n",
       "\n",
       "      Chave_var_comm_Beef and veal (cwe) - Exports  \\\n",
       "Time                                                 \n",
       "2015                                   1725.996754   \n",
       "2016                                   1729.482612   \n",
       "2017                                   1802.482784   \n",
       "2018                                   1835.443246   \n",
       "2019                                   1924.315717   \n",
       "\n",
       "      Chave_var_comm_Beef and veal (cwe) - Food  \\\n",
       "Time                                              \n",
       "2015                                8976.079060   \n",
       "2016                                9069.934419   \n",
       "2017                                9208.506177   \n",
       "2018                                9320.236587   \n",
       "2019                                9339.610847   \n",
       "\n",
       "      Chave_var_comm_Beef and veal (cwe) - Imports  \\\n",
       "Time                                                 \n",
       "2015                                     93.819177   \n",
       "2016                                     94.313580   \n",
       "2017                                     94.492876   \n",
       "2018                                     94.559498   \n",
       "2019                                     94.584882   \n",
       "\n",
       "      Chave_var_comm_Beef and veal (cwe) - Producer price  \\\n",
       "Time                                                        \n",
       "2015                                        6572.366737     \n",
       "2016                                        6619.278597     \n",
       "2017                                        6972.223818     \n",
       "2018                                        7274.130990     \n",
       "2019                                        7406.214783     \n",
       "\n",
       "      Chave_var_comm_Beef and veal (cwe) - Production  \\\n",
       "Time                                                    \n",
       "2015                                      10608.25664   \n",
       "2016                                      10705.10345   \n",
       "2017                                      10916.49609   \n",
       "2018                                      11061.12034   \n",
       "2019                                      11169.34168   \n",
       "\n",
       "      Chave_var_comm_Beef and veal (cwe) - Trade balance  ...  \\\n",
       "Time                                                      ...   \n",
       "2015                                        1632.177578   ...   \n",
       "2016                                        1635.169032   ...   \n",
       "2017                                        1707.989908   ...   \n",
       "2018                                        1740.883748   ...   \n",
       "2019                                        1829.730835   ...   \n",
       "\n",
       "      Chave_var_comm_White sugar (rse) - Producer price  \\\n",
       "Time                                                      \n",
       "2015                                        1151.206988   \n",
       "2016                                        1044.756828   \n",
       "2017                                        1087.976629   \n",
       "2018                                        1141.558778   \n",
       "2019                                        1166.874293   \n",
       "\n",
       "      Chave_var_comm_White sugar (rse) - Trade balance  \\\n",
       "Time                                                     \n",
       "2015                                       9643.371758   \n",
       "2016                                       9628.525938   \n",
       "2017                                       9083.088569   \n",
       "2018                                      10378.108060   \n",
       "2019                                      10781.395620   \n",
       "\n",
       "      Chave_var_comm_Wholemilk powder (pw) - Consumption  \\\n",
       "Time                                                       \n",
       "2015                                         593.782421    \n",
       "2016                                         606.658695    \n",
       "2017                                         618.811304    \n",
       "2018                                         630.495061    \n",
       "2019                                         643.328290    \n",
       "\n",
       "      Chave_var_comm_Wholemilk powder (pw) - Consumption per capita  \\\n",
       "Time                                                                  \n",
       "2015                                           2.920807               \n",
       "2016                                           2.961799               \n",
       "2017                                           2.999462               \n",
       "2018                                           3.035115               \n",
       "2019                                           3.076530               \n",
       "\n",
       "      Chave_var_comm_Wholemilk powder (pw) - Exports  \\\n",
       "Time                                                   \n",
       "2015                                        9.616232   \n",
       "2016                                        9.321286   \n",
       "2017                                        9.819252   \n",
       "2018                                       10.378969   \n",
       "2019                                       10.671056   \n",
       "\n",
       "      Chave_var_comm_Wholemilk powder (pw) - Food  \\\n",
       "Time                                                \n",
       "2015                                   593.782421   \n",
       "2016                                   606.658695   \n",
       "2017                                   618.811304   \n",
       "2018                                   630.495061   \n",
       "2019                                   643.328290   \n",
       "\n",
       "      Chave_var_comm_Wholemilk powder (pw) - Imports  \\\n",
       "Time                                                   \n",
       "2015                                       47.908834   \n",
       "2016                                       48.929020   \n",
       "2017                                       49.440650   \n",
       "2018                                       50.501973   \n",
       "2019                                       51.509701   \n",
       "\n",
       "      Chave_var_comm_Wholemilk powder (pw) - Producer price  \\\n",
       "Time                                                          \n",
       "2015                                        6791.639220       \n",
       "2016                                        7068.430159       \n",
       "2017                                        7360.301315       \n",
       "2018                                        7634.814315       \n",
       "2019                                        7935.485765       \n",
       "\n",
       "      Chave_var_comm_Wholemilk powder (pw) - Production  \\\n",
       "Time                                                      \n",
       "2015                                         555.489819   \n",
       "2016                                         567.050961   \n",
       "2017                                         579.189906   \n",
       "2018                                         590.372057   \n",
       "2019                                         602.489645   \n",
       "\n",
       "      Chave_var_comm_Wholemilk powder (pw) - Trade balance  \n",
       "Time                                                        \n",
       "2015                                         -38.292602     \n",
       "2016                                         -39.607734     \n",
       "2017                                         -39.621398     \n",
       "2018                                         -40.123003     \n",
       "2019                                         -40.838645     \n",
       "\n",
       "[5 rows x 208 columns]"
      ]
     },
     "execution_count": 100,
     "metadata": {},
     "output_type": "execute_result"
    }
   ],
   "source": [
    "df_dummies_agri_agg"
   ]
  },
  {
   "cell_type": "markdown",
   "id": "b74cd25b",
   "metadata": {},
   "source": [
    "df_dummies_agri.loc[(df_dummies_agri['Commodity_Biodiesel'] == 1) &\n",
    "                   (df_dummies_agri['Time'] == 2019)]"
   ]
  },
  {
   "cell_type": "markdown",
   "id": "aea59fba",
   "metadata": {},
   "source": [
    "###############################################################################################################################"
   ]
  },
  {
   "cell_type": "markdown",
   "id": "a1d6e64e",
   "metadata": {},
   "source": [
    "################################################ Commod. Price ################################################################"
   ]
  },
  {
   "cell_type": "code",
   "execution_count": null,
   "id": "3c939fd4",
   "metadata": {},
   "outputs": [],
   "source": [
    "comm_price.columns"
   ]
  },
  {
   "cell_type": "code",
   "execution_count": null,
   "id": "c2bf59c4",
   "metadata": {},
   "outputs": [],
   "source": [
    "comm_price"
   ]
  },
  {
   "cell_type": "code",
   "execution_count": null,
   "id": "6ce3f6cb",
   "metadata": {
    "scrolled": true
   },
   "outputs": [],
   "source": [
    "#Transforma a tabela pivotada numa tabela normal\n",
    "\n",
    "comm_price = pd.DataFrame(comm_price.to_records())\n",
    "#comm_price"
   ]
  },
  {
   "cell_type": "code",
   "execution_count": null,
   "id": "7ac279d4",
   "metadata": {},
   "outputs": [],
   "source": [
    "#Ajuda a tabela para um modo utilizável\n",
    "#Temos que alterar melhor essa tabela para ela conversar com as demais *******************\n",
    "#Trocar as linhas pelas colunas\n",
    "\n",
    "comm_price.columns = comm_price.iloc[0]\n",
    "comm_price = comm_price.drop([1,2,3,4])\n",
    "comm_price = comm_price.set_index('PERIOD', drop=True)\n",
    "\n",
    "#comm_price"
   ]
  },
  {
   "cell_type": "code",
   "execution_count": null,
   "id": "da595a2e",
   "metadata": {
    "scrolled": true
   },
   "outputs": [],
   "source": [
    "comm_price = comm_price.transpose()\n",
    "comm_price = comm_price.drop('PERIOD', axis=1).reset_index()\n",
    "\n",
    "#comm_price.head()"
   ]
  },
  {
   "cell_type": "code",
   "execution_count": null,
   "id": "d349f17c",
   "metadata": {},
   "outputs": [],
   "source": [
    "#É preciso trocar a coluna PERIOD\n",
    "\n",
    "meses_comm_price = pd.read_csv(\"C:/Users/Sea Group/Documents/TCC/OECD/Meses_2015_2019.csv\")\n",
    "#meses_comm_price"
   ]
  },
  {
   "cell_type": "code",
   "execution_count": null,
   "id": "e0632901",
   "metadata": {},
   "outputs": [],
   "source": [
    "#Ajusta o nome da coluna bem como seus valores\n",
    "\n",
    "comm_price[0] = meses_comm_price['Mes/ano']\n",
    "comm_price.rename(columns={0:'Mes/ano'}, inplace=True)"
   ]
  },
  {
   "cell_type": "code",
   "execution_count": null,
   "id": "593e4df7",
   "metadata": {},
   "outputs": [],
   "source": [
    "comm_price.columns"
   ]
  },
  {
   "cell_type": "code",
   "execution_count": null,
   "id": "3cc09f74",
   "metadata": {
    "scrolled": false
   },
   "outputs": [],
   "source": [
    "comm_price"
   ]
  },
  {
   "cell_type": "markdown",
   "id": "225b2cbe",
   "metadata": {},
   "source": [
    "###############################################################################################################################"
   ]
  },
  {
   "cell_type": "markdown",
   "id": "64826bff",
   "metadata": {},
   "source": [
    "################################################ PIB ##########################################################################"
   ]
  },
  {
   "cell_type": "code",
   "execution_count": null,
   "id": "72cef782",
   "metadata": {},
   "outputs": [],
   "source": [
    "pib = pib[['Transaction', 'MEASURE', 'Measure',\n",
    "       'TIME', 'Year', 'Unit Code', 'PowerCode Code', 'PowerCode',\n",
    "       'Reference Period Code', 'Reference Period', 'Value', 'Flag Codes',\n",
    "       'Flags']]"
   ]
  },
  {
   "cell_type": "code",
   "execution_count": null,
   "id": "7df441d4",
   "metadata": {},
   "outputs": [],
   "source": [
    "pib['Year'].value_counts()"
   ]
  },
  {
   "cell_type": "code",
   "execution_count": null,
   "id": "234fe161",
   "metadata": {},
   "outputs": [],
   "source": [
    "pib.columns"
   ]
  },
  {
   "cell_type": "code",
   "execution_count": null,
   "id": "d01c4583",
   "metadata": {
    "scrolled": true
   },
   "outputs": [],
   "source": [
    "pib.head()"
   ]
  },
  {
   "cell_type": "code",
   "execution_count": null,
   "id": "1f995c16",
   "metadata": {
    "scrolled": true
   },
   "outputs": [],
   "source": [
    "pib.loc[pib['Transaction'] == 'Wages and salaries']"
   ]
  },
  {
   "cell_type": "code",
   "execution_count": null,
   "id": "c6f6dab6",
   "metadata": {
    "scrolled": true
   },
   "outputs": [],
   "source": [
    "pib['Transaction'].value_counts()"
   ]
  },
  {
   "cell_type": "code",
   "execution_count": null,
   "id": "b25f4257",
   "metadata": {},
   "outputs": [],
   "source": [
    "#Talvez essa base mais atrapalhe do que ajude. Primeiro que são levantamentos anuais,\n",
    "#segundo que há pouco dados para cada \"Transaction\" "
   ]
  },
  {
   "cell_type": "code",
   "execution_count": null,
   "id": "26e4421a",
   "metadata": {
    "scrolled": true
   },
   "outputs": [],
   "source": [
    "#Os componentes do PIB apresentados nessa tabela talvez não nos ajudem se vistos isoladamente. \n",
    "#O valor \"condensado\" do PIB é mais útil ***************** PROCURAR ESSA INFO *************\n",
    "\n",
    "#Verificar como um valor singular pode influenciar no algoritimo ML. Como um valor representativo, como o PIB (somente), pode \n",
    "#influenciar o ML \n",
    "#************************* VER COM O PROFESSOR\n",
    "\n",
    "pib"
   ]
  },
  {
   "cell_type": "markdown",
   "id": "8263a369",
   "metadata": {},
   "source": [
    "###############################################################################################################################"
   ]
  },
  {
   "cell_type": "markdown",
   "id": "1c4fa8a8",
   "metadata": {},
   "source": [
    "############################################### Prod. Sales ###################################################################"
   ]
  },
  {
   "cell_type": "code",
   "execution_count": null,
   "id": "ecc10166",
   "metadata": {},
   "outputs": [],
   "source": [
    "prod_sales.columns"
   ]
  },
  {
   "cell_type": "code",
   "execution_count": null,
   "id": "ecf0f5a8",
   "metadata": {},
   "outputs": [],
   "source": [
    "#Dados MENSAIS. Selção das colunas relevantes\n",
    "\n",
    "prod_sales = prod_sales[['Subject', 'LOCATION', 'Country',\n",
    "       'TIME', 'Time', 'PowerCode Code', 'PowerCode',\n",
    "       'Reference Period Code', 'Reference Period', 'Value']]"
   ]
  },
  {
   "cell_type": "code",
   "execution_count": null,
   "id": "0d62cdb3",
   "metadata": {},
   "outputs": [],
   "source": [
    "#Seleção apenas de EUA e UE por serem grandes polos ligados ao COMEX BR\n",
    "\n",
    "prod_sales = prod_sales.loc[prod_sales['Country'].isin(['Euro area','Brazil', 'United States'])]"
   ]
  },
  {
   "cell_type": "code",
   "execution_count": null,
   "id": "a254cd3d",
   "metadata": {
    "scrolled": true
   },
   "outputs": [],
   "source": [
    "#Analisar quais \"Subject\" são relevantes\n",
    "\n",
    "#'Production of total industry sa, Index' e 'Total retail trade (Volume) sa, Index' são bons indicadores\n",
    "\n",
    "prod_sales['Subject'].value_counts()"
   ]
  },
  {
   "cell_type": "markdown",
   "id": "e2ba8d6c",
   "metadata": {},
   "source": [
    "#Teste para atestar a referencia do index - achamos q seja a média do ano para cada categoria - o resultado é um pouco diferente\n",
    "prod_sales.loc[(prod_sales['Reference Period Code'] == '2015_100') &\n",
    "              (prod_sales['Subject'] == 'Production of total industry sa, Index') &\n",
    "              (prod_sales['LOCATION'] == 'USA')]['Value'].mean()"
   ]
  },
  {
   "cell_type": "code",
   "execution_count": null,
   "id": "95f27242",
   "metadata": {
    "scrolled": true
   },
   "outputs": [],
   "source": [
    "prod_sales.reset_index(drop=True, inplace=True)\n",
    "prod_sales"
   ]
  },
  {
   "cell_type": "markdown",
   "id": "b2ca8afc",
   "metadata": {},
   "source": [
    "###############################################################################################################################"
   ]
  },
  {
   "cell_type": "markdown",
   "id": "3152cebf",
   "metadata": {},
   "source": [
    "############################################### Tx. Desocupação ###############################################################"
   ]
  },
  {
   "cell_type": "code",
   "execution_count": null,
   "id": "69b86855",
   "metadata": {
    "scrolled": true
   },
   "outputs": [],
   "source": [
    "#Não alterei nada. Tabela está boa para ser utilizada\n",
    "taxa_desocupacao.head()"
   ]
  },
  {
   "cell_type": "code",
   "execution_count": null,
   "id": "98ed42a5",
   "metadata": {},
   "outputs": [],
   "source": [
    "taxa_desocupacao"
   ]
  },
  {
   "cell_type": "markdown",
   "id": "f6bfe36e",
   "metadata": {},
   "source": [
    "###############################################################################################################################"
   ]
  },
  {
   "cell_type": "markdown",
   "id": "5fc6a846",
   "metadata": {},
   "source": [
    "####################################################### Infra Invest ##########################################################"
   ]
  },
  {
   "cell_type": "code",
   "execution_count": null,
   "id": "d9f2730a",
   "metadata": {
    "scrolled": true
   },
   "outputs": [],
   "source": [
    "infra_invest.columns"
   ]
  },
  {
   "cell_type": "code",
   "execution_count": null,
   "id": "27db06fb",
   "metadata": {},
   "outputs": [],
   "source": [
    "#Como ali em cima pegamos apenas EUA e UE, é pertinente aqui pegarmos EUA e GER (país europeu mais forte)\n",
    "\n",
    "infra_invest = infra_invest[['Country', 'Variable', 'Measure',\n",
    "       'YEAR', 'Year', 'Value']]"
   ]
  },
  {
   "cell_type": "code",
   "execution_count": null,
   "id": "c190d71d",
   "metadata": {},
   "outputs": [],
   "source": [
    "infra_invest = infra_invest.loc[(infra_invest['Country'].isin(['United States','Germany'])) &\n",
    "                               (infra_invest['Measure']== \"Euro\")]"
   ]
  },
  {
   "cell_type": "code",
   "execution_count": null,
   "id": "25793fd7",
   "metadata": {
    "scrolled": true
   },
   "outputs": [],
   "source": [
    "infra_invest.reset_index(drop=True, inplace=True)\n",
    "infra_invest"
   ]
  },
  {
   "cell_type": "code",
   "execution_count": null,
   "id": "d36b1c85",
   "metadata": {},
   "outputs": [],
   "source": [
    "#Ponderar que o material usado na tabela \"infra\" são transportados a granel."
   ]
  },
  {
   "cell_type": "markdown",
   "id": "64a3f504",
   "metadata": {},
   "source": [
    "###############################################################################################################################"
   ]
  },
  {
   "cell_type": "markdown",
   "id": "ea31f2c5",
   "metadata": {},
   "source": [
    "################################################## Weel-being #################################################################"
   ]
  },
  {
   "cell_type": "code",
   "execution_count": null,
   "id": "413fb2ad",
   "metadata": {
    "scrolled": false
   },
   "outputs": [],
   "source": [
    "weel_being_15.columns"
   ]
  },
  {
   "cell_type": "code",
   "execution_count": null,
   "id": "f1d3eca5",
   "metadata": {},
   "outputs": [],
   "source": [
    "weel_being_15 = weel_being_15[['TYPE_VAR', 'Indicator','Time', 'Value']]"
   ]
  },
  {
   "cell_type": "code",
   "execution_count": null,
   "id": "a57b0b96",
   "metadata": {
    "scrolled": true
   },
   "outputs": [],
   "source": [
    "#weel_being_15.head()"
   ]
  },
  {
   "cell_type": "code",
   "execution_count": null,
   "id": "0cd43970",
   "metadata": {},
   "outputs": [],
   "source": [
    "#Apenas esses indicadores pois são os únicos com 5 medições (2015-19)\n",
    "\n",
    "weel_being_15 = weel_being_15.loc[weel_being_15['Indicator'].isin(['Social support','Feeling safe at night',\n",
    "                                                                   'Households with internet access at home',\n",
    "                                                                  'Employment rate'])]"
   ]
  },
  {
   "cell_type": "code",
   "execution_count": null,
   "id": "c7a63c82",
   "metadata": {},
   "outputs": [],
   "source": [
    "weel_being_15"
   ]
  },
  {
   "cell_type": "markdown",
   "id": "f79a4d1d",
   "metadata": {},
   "source": [
    "###############################################################################################################################"
   ]
  },
  {
   "cell_type": "markdown",
   "id": "01848d0b",
   "metadata": {},
   "source": [
    "######################################################### Dolar ###############################################################"
   ]
  },
  {
   "cell_type": "code",
   "execution_count": null,
   "id": "a0da3c39",
   "metadata": {
    "scrolled": true
   },
   "outputs": [],
   "source": [
    "dolar.head()"
   ]
  },
  {
   "cell_type": "markdown",
   "id": "cc32b680",
   "metadata": {},
   "source": [
    "###############################################################################################################################"
   ]
  },
  {
   "cell_type": "markdown",
   "id": "d4ca0a6c",
   "metadata": {},
   "source": [
    "As linhas a seguir não contemplam nada do que foi feito acima. Abaixo apenas está linhas que restaram de outra versão."
   ]
  },
  {
   "cell_type": "code",
   "execution_count": null,
   "id": "4531d531",
   "metadata": {},
   "outputs": [],
   "source": []
  },
  {
   "cell_type": "code",
   "execution_count": null,
   "id": "f90e210d",
   "metadata": {},
   "outputs": [],
   "source": []
  },
  {
   "cell_type": "code",
   "execution_count": null,
   "id": "34201529",
   "metadata": {},
   "outputs": [],
   "source": [
    "#Join os dois dfs - Cargas e Atracação\n",
    "\n",
    "#df_joined = pd.merge(carga_cont_CAB, atrac, on='IDAtracacao', how='left')\n",
    "#df_joined"
   ]
  },
  {
   "cell_type": "code",
   "execution_count": null,
   "id": "30393a68",
   "metadata": {
    "scrolled": true
   },
   "outputs": [],
   "source": [
    "#Associando a sigla da Origem com o Município\n",
    "\n",
    "#df_joined.groupby('Origem').Município.value_counts()"
   ]
  },
  {
   "cell_type": "code",
   "execution_count": null,
   "id": "bd659603",
   "metadata": {
    "scrolled": true
   },
   "outputs": [],
   "source": [
    "#Associando a sigla da Origem com o Terminal\n",
    "\n",
    "#df_joined.groupby('Origem').Terminal.value_counts()"
   ]
  }
 ],
 "metadata": {
  "kernelspec": {
   "display_name": "Python 3",
   "language": "python",
   "name": "python3"
  },
  "language_info": {
   "codemirror_mode": {
    "name": "ipython",
    "version": 3
   },
   "file_extension": ".py",
   "mimetype": "text/x-python",
   "name": "python",
   "nbconvert_exporter": "python",
   "pygments_lexer": "ipython3",
   "version": "3.8.8"
  }
 },
 "nbformat": 4,
 "nbformat_minor": 5
}
