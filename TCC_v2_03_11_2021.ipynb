{
 "cells": [
  {
   "cell_type": "code",
   "execution_count": 1,
   "id": "5fd9e70a",
   "metadata": {},
   "outputs": [
    {
     "name": "stdout",
     "output_type": "stream",
     "text": [
      "Setup ok\n"
     ]
    }
   ],
   "source": [
    "import pandas as pd\n",
    "import numpy as np\n",
    "print(\"Setup ok\")"
   ]
  },
  {
   "cell_type": "code",
   "execution_count": 2,
   "id": "fa6580fd",
   "metadata": {
    "scrolled": true
   },
   "outputs": [
    {
     "name": "stderr",
     "output_type": "stream",
     "text": [
      "C:\\ProgramData\\Anaconda3\\lib\\site-packages\\IPython\\core\\interactiveshell.py:3165: DtypeWarning: Columns (12,17,24) have mixed types.Specify dtype option on import or set low_memory=False.\n",
      "  has_raised = await self.run_ast_nodes(code_ast.body, cell_name,\n",
      "C:\\ProgramData\\Anaconda3\\lib\\site-packages\\IPython\\core\\interactiveshell.py:3165: DtypeWarning: Columns (12,24) have mixed types.Specify dtype option on import or set low_memory=False.\n",
      "  has_raised = await self.run_ast_nodes(code_ast.body, cell_name,\n"
     ]
    },
    {
     "name": "stdout",
     "output_type": "stream",
     "text": [
      "ok\n"
     ]
    }
   ],
   "source": [
    "cargas = pd.DataFrame()\n",
    "atrac = pd.DataFrame()\n",
    "\n",
    "for ano in range(2015,2020):    \n",
    "    cargas_temp = pd.read_csv(f'C:/Users/Sea Group/Documents/TCC/BD_ANTAQ/{ano}/{ano}Carga.txt',sep =\";\")\n",
    "    cargas = pd.concat([cargas,cargas_temp], ignore_index=True)\n",
    "    \n",
    "    atrac_temp = pd.read_csv(f'C:/Users/Sea Group/Documents/TCC/BD_ANTAQ/{ano}/{ano}Atracacao.txt',sep =\";\") \n",
    "    atrac = pd.concat([atrac,atrac_temp], ignore_index=True)\n",
    "\n",
    "agri_outlook = pd.read_csv(\"C:/Users/Sea Group/Documents/TCC/OECD/Agricultural Outlook.csv\")\n",
    "\n",
    "comm_price = pd.read_csv(\"C:/Users/Sea Group/Documents/TCC/OECD/Commodity prices, monthly.csv\")\n",
    "\n",
    "pib = pd.read_csv(\"C:/Users/Sea Group/Documents/TCC/OECD/Gross domestic product (GDP).csv\")\n",
    "\n",
    "prod_sales = pd.read_csv(\"C:/Users/Sea Group/Documents/TCC/OECD/Production and Sales (MEI).csv\")\n",
    "\n",
    "taxa_desocupacao = pd.read_csv(\"C:/Users/Sea Group/Documents/TCC/OECD/Taxa de desocupação.csv\",sep =\";\")\n",
    "\n",
    "infra_invest = pd.read_csv(\"C:/Users/Sea Group/Documents/TCC/OECD/Transport infrastructure investment and maintenance spending.csv\")\n",
    "\n",
    "weel_being_15 = pd.read_csv(\"C:/Users/Sea Group/Documents/TCC/OECD/Well-being 2015.csv\")\n",
    "\n",
    "dolar = pd.read_csv(\"C:/Users/Sea Group/Documents/TCC/OECD/USD_BRL Dados Históricos.csv\")\n",
    "\n",
    "#Acho que a capacidade de produção de aço não ajuda. Visto que estamos analisando a movimentacao de cntrs\n",
    "#stell_capacity = pd.read_csv(\"C:/Users/Sea Group/Documents/TCC/OECD/Steel Making Capacity.csv\")\n",
    "\n",
    "print(\"ok\")"
   ]
  },
  {
   "cell_type": "markdown",
   "id": "64ede0ab",
   "metadata": {},
   "source": [
    "##########################################  TRATAMENTO DE cargas  #############################################################"
   ]
  },
  {
   "cell_type": "code",
   "execution_count": null,
   "id": "5d3973c9",
   "metadata": {
    "scrolled": false
   },
   "outputs": [],
   "source": [
    "#Colunas de cargas\n",
    "\n",
    "cargas.columns"
   ]
  },
  {
   "cell_type": "markdown",
   "id": "ea0964bb",
   "metadata": {},
   "source": [
    "#Observar que o PIB deve ser linkado com a DATA DE CHEGADA\n",
    "#Além disso, podemos fazer algumas análises de gráficos pré modelagem para introduzirmos o assunto\n",
    "\n",
    "#atrac[['Data Atracação', 'Data Chegada',\n",
    "#       'Data Desatracação', 'Data Início Operação', 'Data Término Operação',\n",
    "#       'Ano', 'Mes']]"
   ]
  },
  {
   "cell_type": "code",
   "execution_count": null,
   "id": "092df4b1",
   "metadata": {},
   "outputs": [],
   "source": [
    "cargas['FlagAutorizacao'].value_counts()"
   ]
  },
  {
   "cell_type": "code",
   "execution_count": null,
   "id": "1b7ae76a",
   "metadata": {},
   "outputs": [],
   "source": [
    "cargas['FlagConteinerTamanho'].value_counts()"
   ]
  },
  {
   "cell_type": "code",
   "execution_count": 3,
   "id": "3443f779",
   "metadata": {
    "scrolled": true
   },
   "outputs": [],
   "source": [
    "cargas = cargas[['IDCarga', 'IDAtracacao', 'Origem', 'Destino',\n",
    "       'Tipo Operação da Carga', 'Carga Geral Acondicionamento',\n",
    "       'ConteinerEstado', 'Tipo Navegação', 'FlagConteinerTamanho',\n",
    "       'Sentido', 'TEU']]\n",
    "\n",
    "#cargas[['IDCarga', 'IDAtracacao', 'Origem', 'Destino', 'CDMercadoria',\n",
    "#       'Tipo Operação da Carga', 'Carga Geral Acondicionamento',\n",
    "#       'ConteinerEstado', 'Tipo Navegação', 'FlagConteinerTamanho',\n",
    "#       'Sentido', 'TEU', 'QTCarga']].head()\n",
    "\n",
    "#Colunas não selecionadas:\n",
    "#       'FlagAutorizacao', 'FlagCabotagem',\n",
    "#       'FlagCabotagemMovimentacao', 'FlagLongoCurso',\n",
    "#       'FlagMCOperacaoCarga', 'FlagOffshore', 'FlagTransporteViaInterioir',\n",
    "#       'Percurso Transporte em vias Interiores'\n",
    "#Por motido de irrelevância. Em 'Percurso Transporte em vias Interiores' a coluna 'Tipo Navegação' já traz as infos necessárias\n",
    "#'STNaturezaCarga','STSH2' e 'STSH4': Exclusivo ou Compartilhado. Irrelevante para o projeto\n",
    "#'Natureza da Carga': totalmente completa como \"Carga Conteinerizada\". Logo, não é necessária sua presença\n",
    "#'VLPesoCargaBruta' é proporcional a coluna 'TEU', logo não será utilizada\n",
    "#'QTCarga' é igual ao TEU"
   ]
  },
  {
   "cell_type": "code",
   "execution_count": 4,
   "id": "25efff65",
   "metadata": {
    "scrolled": false
   },
   "outputs": [
    {
     "data": {
      "text/html": [
       "<div>\n",
       "<style scoped>\n",
       "    .dataframe tbody tr th:only-of-type {\n",
       "        vertical-align: middle;\n",
       "    }\n",
       "\n",
       "    .dataframe tbody tr th {\n",
       "        vertical-align: top;\n",
       "    }\n",
       "\n",
       "    .dataframe thead th {\n",
       "        text-align: right;\n",
       "    }\n",
       "</style>\n",
       "<table border=\"1\" class=\"dataframe\">\n",
       "  <thead>\n",
       "    <tr style=\"text-align: right;\">\n",
       "      <th></th>\n",
       "      <th>IDCarga</th>\n",
       "      <th>IDAtracacao</th>\n",
       "      <th>Origem</th>\n",
       "      <th>Destino</th>\n",
       "      <th>Tipo Operação da Carga</th>\n",
       "      <th>Carga Geral Acondicionamento</th>\n",
       "      <th>ConteinerEstado</th>\n",
       "      <th>Tipo Navegação</th>\n",
       "      <th>FlagConteinerTamanho</th>\n",
       "      <th>Sentido</th>\n",
       "      <th>TEU</th>\n",
       "    </tr>\n",
       "  </thead>\n",
       "  <tbody>\n",
       "    <tr>\n",
       "      <th>0</th>\n",
       "      <td>13809822</td>\n",
       "      <td>659251</td>\n",
       "      <td>BRSP008</td>\n",
       "      <td>BRCE001</td>\n",
       "      <td>Transbordo</td>\n",
       "      <td>Conteinerizada</td>\n",
       "      <td>Cheio</td>\n",
       "      <td>Cabotagem</td>\n",
       "      <td>20</td>\n",
       "      <td>Embarcados</td>\n",
       "      <td>29</td>\n",
       "    </tr>\n",
       "    <tr>\n",
       "      <th>1</th>\n",
       "      <td>13809823</td>\n",
       "      <td>659251</td>\n",
       "      <td>BRSP008</td>\n",
       "      <td>BRCE001</td>\n",
       "      <td>Transbordo</td>\n",
       "      <td>Conteinerizada</td>\n",
       "      <td>Cheio</td>\n",
       "      <td>Cabotagem</td>\n",
       "      <td>40</td>\n",
       "      <td>Embarcados</td>\n",
       "      <td>152</td>\n",
       "    </tr>\n",
       "    <tr>\n",
       "      <th>2</th>\n",
       "      <td>13809824</td>\n",
       "      <td>659251</td>\n",
       "      <td>BRSP008</td>\n",
       "      <td>BRSUA</td>\n",
       "      <td>Transbordo</td>\n",
       "      <td>Conteinerizada</td>\n",
       "      <td>Cheio</td>\n",
       "      <td>Cabotagem</td>\n",
       "      <td>40</td>\n",
       "      <td>Embarcados</td>\n",
       "      <td>62</td>\n",
       "    </tr>\n",
       "    <tr>\n",
       "      <th>3</th>\n",
       "      <td>13809825</td>\n",
       "      <td>659251</td>\n",
       "      <td>BRSP008</td>\n",
       "      <td>BRAM006</td>\n",
       "      <td>Transbordo</td>\n",
       "      <td>Conteinerizada</td>\n",
       "      <td>Cheio</td>\n",
       "      <td>Cabotagem</td>\n",
       "      <td>40</td>\n",
       "      <td>Embarcados</td>\n",
       "      <td>10</td>\n",
       "    </tr>\n",
       "    <tr>\n",
       "      <th>4</th>\n",
       "      <td>13809826</td>\n",
       "      <td>659251</td>\n",
       "      <td>BRSP008</td>\n",
       "      <td>BRAM006</td>\n",
       "      <td>Transbordo</td>\n",
       "      <td>Conteinerizada</td>\n",
       "      <td>Cheio</td>\n",
       "      <td>Cabotagem</td>\n",
       "      <td>20</td>\n",
       "      <td>Embarcados</td>\n",
       "      <td>15</td>\n",
       "    </tr>\n",
       "  </tbody>\n",
       "</table>\n",
       "</div>"
      ],
      "text/plain": [
       "    IDCarga  IDAtracacao   Origem  Destino Tipo Operação da Carga  \\\n",
       "0  13809822       659251  BRSP008  BRCE001             Transbordo   \n",
       "1  13809823       659251  BRSP008  BRCE001             Transbordo   \n",
       "2  13809824       659251  BRSP008    BRSUA             Transbordo   \n",
       "3  13809825       659251  BRSP008  BRAM006             Transbordo   \n",
       "4  13809826       659251  BRSP008  BRAM006             Transbordo   \n",
       "\n",
       "  Carga Geral Acondicionamento ConteinerEstado Tipo Navegação  \\\n",
       "0               Conteinerizada           Cheio      Cabotagem   \n",
       "1               Conteinerizada           Cheio      Cabotagem   \n",
       "2               Conteinerizada           Cheio      Cabotagem   \n",
       "3               Conteinerizada           Cheio      Cabotagem   \n",
       "4               Conteinerizada           Cheio      Cabotagem   \n",
       "\n",
       "   FlagConteinerTamanho     Sentido  TEU  \n",
       "0                    20  Embarcados   29  \n",
       "1                    40  Embarcados  152  \n",
       "2                    40  Embarcados   62  \n",
       "3                    40  Embarcados   10  \n",
       "4                    20  Embarcados   15  "
      ]
     },
     "execution_count": 4,
     "metadata": {},
     "output_type": "execute_result"
    }
   ],
   "source": [
    "#'Carga Geral Acondicionamento' é dividida em Contenerizada e Solta. \n",
    "#As linhas com valores NaN são dropados abaixo\n",
    "#1667696 (com valor); 46821 (NaN)\n",
    "\n",
    "cargas = cargas[cargas['Carga Geral Acondicionamento'] == \"Conteinerizada\"]\n",
    "\n",
    "#Tira-se os TEUs decimais \n",
    "cargas = cargas.loc[(cargas['FlagConteinerTamanho'] != 'OUTROS') &\n",
    "                    (cargas['FlagConteinerTamanho'].notnull())]\n",
    "cargas['FlagConteinerTamanho'].replace({'40.0':'40','20.0':'20'}, inplace=True)\n",
    "\n",
    "#Ajuste do tipo da coluna\n",
    "cargas['FlagConteinerTamanho'] = cargas['FlagConteinerTamanho'].astype('int')\n",
    "cargas['TEU'] = cargas['TEU'].astype('int')\n",
    "\n",
    "cargas.reset_index(drop=True, inplace=True)\n",
    "cargas.head()"
   ]
  },
  {
   "cell_type": "code",
   "execution_count": 5,
   "id": "5a225b85",
   "metadata": {},
   "outputs": [],
   "source": [
    "#'ConteinerEstado' é dividida em Cheio e Vazio.\n",
    "#As linhas com valores NaN foram dropadas abaixo, tanto que a coluna \"TEU\" está zerada nas linhas com NaN em ConteinerEstado\n",
    "\n",
    "cargas = cargas[cargas['ConteinerEstado'].notnull()]\n",
    "#cargas.head()"
   ]
  },
  {
   "cell_type": "code",
   "execution_count": null,
   "id": "801057d1",
   "metadata": {
    "scrolled": false
   },
   "outputs": [],
   "source": [
    "#'FlagConteinerTamanho' é complementada por 'TEU' e 'QTCarga'\n",
    "#A coluna tem o valor \"OUTROS\" que pode ganhar o valor de 20 ou 40 a depender das colunas complementares\n",
    "#Quando isso for feito, deve-se mudar o tipo da coluna para float\n",
    "#Os valores OUTROS equivalem a pouco menos do que 1% dos dados.\n",
    "\n",
    "cargas['FlagConteinerTamanho'].value_counts()"
   ]
  },
  {
   "cell_type": "code",
   "execution_count": 6,
   "id": "faddf573",
   "metadata": {},
   "outputs": [],
   "source": [
    "#'Sentido' é dividida em Desembarcados, Embarcados e Não informados\n",
    "#Os valores \"Não Informados\" são ignorados abaixo, uma vez q representam nem 2% de cada outro valor e nem 1% de todos os valores\n",
    "\n",
    "cargas = cargas[cargas['Sentido']!= \"Não Informado\"]"
   ]
  },
  {
   "cell_type": "code",
   "execution_count": null,
   "id": "ce6950e7",
   "metadata": {
    "scrolled": false
   },
   "outputs": [],
   "source": [
    "cargas.head()\n",
    "\n",
    "#'Tipo Navegação': um mesmo cntr pode ser usado na cabotagem e no longo curso? *********************"
   ]
  },
  {
   "cell_type": "code",
   "execution_count": null,
   "id": "d25aa50b",
   "metadata": {
    "scrolled": true
   },
   "outputs": [],
   "source": [
    "cargas.info()"
   ]
  },
  {
   "cell_type": "markdown",
   "id": "983dc369",
   "metadata": {},
   "source": [
    "###############################################################################################################################"
   ]
  },
  {
   "cell_type": "markdown",
   "id": "c34dcea3",
   "metadata": {},
   "source": [
    "##########################################  TRATAMENTO DE atrac  ##############################################################"
   ]
  },
  {
   "cell_type": "code",
   "execution_count": null,
   "id": "8cf40660",
   "metadata": {},
   "outputs": [],
   "source": [
    "atrac"
   ]
  },
  {
   "cell_type": "code",
   "execution_count": null,
   "id": "711dbdfb",
   "metadata": {
    "scrolled": false
   },
   "outputs": [],
   "source": [
    "#Colunas de atrac\n",
    "\n",
    "atrac.columns\n",
    "\n",
    "#'Nº da Capitania' não tem função para o trabalho"
   ]
  },
  {
   "cell_type": "code",
   "execution_count": 7,
   "id": "e910fbda",
   "metadata": {
    "scrolled": false
   },
   "outputs": [],
   "source": [
    "atrac = atrac[['IDAtracacao', 'Porto Atracação',\n",
    "       'Apelido Instalação Portuária', 'Complexo Portuário',\n",
    "       'Tipo da Autoridade Portuária', 'Data Atracação', 'Data Chegada',\n",
    "       'Data Desatracação', 'Data Início Operação', 'Data Término Operação',\n",
    "       'Ano', 'Mes', 'Tipo de Navegação da Atracação', 'Terminal',\n",
    "       'Município', 'UF', 'SGUF', 'Região Geográfica']]\n",
    "\n",
    "#atrac[['IDAtracacao', 'Porto Atracação',\n",
    "#       'Apelido Instalação Portuária', 'Complexo Portuário',\n",
    "#       'Tipo da Autoridade Portuária', 'Data Atracação', 'Data Chegada',\n",
    "#       'Data Desatracação', 'Data Início Operação', 'Data Término Operação',\n",
    "#       'Ano', 'Mes', 'Tipo de Navegação da Atracação',\n",
    "#       'Nacionalidade do Armador', 'Terminal',\n",
    "#       'Município', 'UF', 'SGUF', 'Região Geográfica']].head()\n",
    "\n",
    "#Como essa tabela é suporte, poucas colunas vão interessar. Uma vez que será extraído dela o local dos portos e terminais.\n",
    "#Colunas não selecionadas:\n",
    "#'IDBerco', 'CDTUP', 'Berço', 'Tipo de Operação',\n",
    "#'FlagMCOperacaoAtracacao', 'Nº da Capitania' e 'Nº do IMO' têm pouca relevância no estudo."
   ]
  },
  {
   "cell_type": "code",
   "execution_count": null,
   "id": "715bc577",
   "metadata": {
    "scrolled": true
   },
   "outputs": [],
   "source": [
    "#'Apelido Instalação Portuária' é mantido por ora por segurança.\n",
    "\n",
    "atrac[atrac['Apelido Instalação Portuária'].isna()]['Complexo Portuário'].value_counts()"
   ]
  },
  {
   "cell_type": "code",
   "execution_count": 8,
   "id": "79a0260a",
   "metadata": {},
   "outputs": [
    {
     "data": {
      "text/plain": [
       "1.0    228936\n",
       "2.0    134240\n",
       "0.0      1514\n",
       "Name: Nacionalidade do Armador, dtype: int64"
      ]
     },
     "execution_count": 8,
     "metadata": {},
     "output_type": "execute_result"
    }
   ],
   "source": [
    "atrac['Nacionalidade do Armador'].value_counts()"
   ]
  },
  {
   "cell_type": "code",
   "execution_count": null,
   "id": "9b2b26d8",
   "metadata": {
    "scrolled": true
   },
   "outputs": [],
   "source": [
    "#atrac"
   ]
  },
  {
   "cell_type": "code",
   "execution_count": 9,
   "id": "966860f6",
   "metadata": {},
   "outputs": [],
   "source": [
    "#Pega apenas \"dd\" da Data Inicio Operacao, e renomeia a coluna\n",
    "atrac['Data Início Operação'] = atrac['Data Início Operação'].str.slice(0,2)\n",
    "atrac.rename(columns={'Data Início Operação':'Dia'}, inplace=True)"
   ]
  },
  {
   "cell_type": "markdown",
   "id": "c83886b6",
   "metadata": {},
   "source": [
    "###############################################################################################################################"
   ]
  },
  {
   "cell_type": "markdown",
   "id": "38f51629",
   "metadata": {},
   "source": [
    "Juntando cargas e atrac"
   ]
  },
  {
   "cell_type": "code",
   "execution_count": 10,
   "id": "580259d8",
   "metadata": {},
   "outputs": [],
   "source": [
    "cargas_atrac = cargas.merge(atrac, how='inner', on='IDAtracacao')"
   ]
  },
  {
   "cell_type": "code",
   "execution_count": null,
   "id": "63e00173",
   "metadata": {
    "scrolled": true
   },
   "outputs": [],
   "source": [
    "cargas_atrac.info()"
   ]
  },
  {
   "cell_type": "code",
   "execution_count": null,
   "id": "709b4e19",
   "metadata": {},
   "outputs": [],
   "source": [
    "cargas_atrac['Mes'].value_counts()"
   ]
  },
  {
   "cell_type": "code",
   "execution_count": 37,
   "id": "27f0f49f",
   "metadata": {
    "scrolled": false
   },
   "outputs": [
    {
     "data": {
      "text/plain": [
       "Index(['IDCarga', 'IDAtracacao', 'Origem', 'Destino', 'Tipo Operação da Carga',\n",
       "       'Carga Geral Acondicionamento', 'ConteinerEstado', 'Tipo Navegação',\n",
       "       'FlagConteinerTamanho', 'Sentido', 'TEU', 'Porto Atracação',\n",
       "       'Apelido Instalação Portuária', 'Complexo Portuário',\n",
       "       'Tipo da Autoridade Portuária', 'Data Atracação', 'Data Chegada',\n",
       "       'Data Desatracação', 'Dia', 'Data Término Operação', 'Ano', 'Mes',\n",
       "       'Tipo de Navegação da Atracação', 'Nacionalidade do Armador',\n",
       "       'Terminal', 'Município', 'UF', 'SGUF', 'Região Geográfica'],\n",
       "      dtype='object')"
      ]
     },
     "execution_count": 37,
     "metadata": {},
     "output_type": "execute_result"
    }
   ],
   "source": [
    "cargas_atrac.columns"
   ]
  },
  {
   "cell_type": "code",
   "execution_count": 38,
   "id": "4e336b88",
   "metadata": {
    "scrolled": true
   },
   "outputs": [
    {
     "data": {
      "text/html": [
       "<div>\n",
       "<style scoped>\n",
       "    .dataframe tbody tr th:only-of-type {\n",
       "        vertical-align: middle;\n",
       "    }\n",
       "\n",
       "    .dataframe tbody tr th {\n",
       "        vertical-align: top;\n",
       "    }\n",
       "\n",
       "    .dataframe thead th {\n",
       "        text-align: right;\n",
       "    }\n",
       "</style>\n",
       "<table border=\"1\" class=\"dataframe\">\n",
       "  <thead>\n",
       "    <tr style=\"text-align: right;\">\n",
       "      <th></th>\n",
       "      <th>IDCarga</th>\n",
       "      <th>IDAtracacao</th>\n",
       "      <th>Origem</th>\n",
       "      <th>Destino</th>\n",
       "      <th>Tipo Operação da Carga</th>\n",
       "      <th>Carga Geral Acondicionamento</th>\n",
       "      <th>ConteinerEstado</th>\n",
       "      <th>Tipo Navegação</th>\n",
       "      <th>FlagConteinerTamanho</th>\n",
       "      <th>Sentido</th>\n",
       "      <th>...</th>\n",
       "      <th>Data Término Operação</th>\n",
       "      <th>Ano</th>\n",
       "      <th>Mes</th>\n",
       "      <th>Tipo de Navegação da Atracação</th>\n",
       "      <th>Nacionalidade do Armador</th>\n",
       "      <th>Terminal</th>\n",
       "      <th>Município</th>\n",
       "      <th>UF</th>\n",
       "      <th>SGUF</th>\n",
       "      <th>Região Geográfica</th>\n",
       "    </tr>\n",
       "  </thead>\n",
       "  <tbody>\n",
       "    <tr>\n",
       "      <th>0</th>\n",
       "      <td>13809822</td>\n",
       "      <td>659251</td>\n",
       "      <td>BRSP008</td>\n",
       "      <td>BRCE001</td>\n",
       "      <td>Transbordo</td>\n",
       "      <td>Conteinerizada</td>\n",
       "      <td>Cheio</td>\n",
       "      <td>Cabotagem</td>\n",
       "      <td>20</td>\n",
       "      <td>Embarcados</td>\n",
       "      <td>...</td>\n",
       "      <td>03/01/2015 18:39:00</td>\n",
       "      <td>2015</td>\n",
       "      <td>jan</td>\n",
       "      <td>Cabotagem</td>\n",
       "      <td>2.0</td>\n",
       "      <td>DP World Santos</td>\n",
       "      <td>Santos</td>\n",
       "      <td>São Paulo</td>\n",
       "      <td>SP</td>\n",
       "      <td>Sudeste</td>\n",
       "    </tr>\n",
       "    <tr>\n",
       "      <th>1</th>\n",
       "      <td>13809823</td>\n",
       "      <td>659251</td>\n",
       "      <td>BRSP008</td>\n",
       "      <td>BRCE001</td>\n",
       "      <td>Transbordo</td>\n",
       "      <td>Conteinerizada</td>\n",
       "      <td>Cheio</td>\n",
       "      <td>Cabotagem</td>\n",
       "      <td>40</td>\n",
       "      <td>Embarcados</td>\n",
       "      <td>...</td>\n",
       "      <td>03/01/2015 18:39:00</td>\n",
       "      <td>2015</td>\n",
       "      <td>jan</td>\n",
       "      <td>Cabotagem</td>\n",
       "      <td>2.0</td>\n",
       "      <td>DP World Santos</td>\n",
       "      <td>Santos</td>\n",
       "      <td>São Paulo</td>\n",
       "      <td>SP</td>\n",
       "      <td>Sudeste</td>\n",
       "    </tr>\n",
       "    <tr>\n",
       "      <th>2</th>\n",
       "      <td>13809824</td>\n",
       "      <td>659251</td>\n",
       "      <td>BRSP008</td>\n",
       "      <td>BRSUA</td>\n",
       "      <td>Transbordo</td>\n",
       "      <td>Conteinerizada</td>\n",
       "      <td>Cheio</td>\n",
       "      <td>Cabotagem</td>\n",
       "      <td>40</td>\n",
       "      <td>Embarcados</td>\n",
       "      <td>...</td>\n",
       "      <td>03/01/2015 18:39:00</td>\n",
       "      <td>2015</td>\n",
       "      <td>jan</td>\n",
       "      <td>Cabotagem</td>\n",
       "      <td>2.0</td>\n",
       "      <td>DP World Santos</td>\n",
       "      <td>Santos</td>\n",
       "      <td>São Paulo</td>\n",
       "      <td>SP</td>\n",
       "      <td>Sudeste</td>\n",
       "    </tr>\n",
       "    <tr>\n",
       "      <th>3</th>\n",
       "      <td>13809825</td>\n",
       "      <td>659251</td>\n",
       "      <td>BRSP008</td>\n",
       "      <td>BRAM006</td>\n",
       "      <td>Transbordo</td>\n",
       "      <td>Conteinerizada</td>\n",
       "      <td>Cheio</td>\n",
       "      <td>Cabotagem</td>\n",
       "      <td>40</td>\n",
       "      <td>Embarcados</td>\n",
       "      <td>...</td>\n",
       "      <td>03/01/2015 18:39:00</td>\n",
       "      <td>2015</td>\n",
       "      <td>jan</td>\n",
       "      <td>Cabotagem</td>\n",
       "      <td>2.0</td>\n",
       "      <td>DP World Santos</td>\n",
       "      <td>Santos</td>\n",
       "      <td>São Paulo</td>\n",
       "      <td>SP</td>\n",
       "      <td>Sudeste</td>\n",
       "    </tr>\n",
       "    <tr>\n",
       "      <th>4</th>\n",
       "      <td>13809826</td>\n",
       "      <td>659251</td>\n",
       "      <td>BRSP008</td>\n",
       "      <td>BRAM006</td>\n",
       "      <td>Transbordo</td>\n",
       "      <td>Conteinerizada</td>\n",
       "      <td>Cheio</td>\n",
       "      <td>Cabotagem</td>\n",
       "      <td>20</td>\n",
       "      <td>Embarcados</td>\n",
       "      <td>...</td>\n",
       "      <td>03/01/2015 18:39:00</td>\n",
       "      <td>2015</td>\n",
       "      <td>jan</td>\n",
       "      <td>Cabotagem</td>\n",
       "      <td>2.0</td>\n",
       "      <td>DP World Santos</td>\n",
       "      <td>Santos</td>\n",
       "      <td>São Paulo</td>\n",
       "      <td>SP</td>\n",
       "      <td>Sudeste</td>\n",
       "    </tr>\n",
       "  </tbody>\n",
       "</table>\n",
       "<p>5 rows × 29 columns</p>\n",
       "</div>"
      ],
      "text/plain": [
       "    IDCarga  IDAtracacao   Origem  Destino Tipo Operação da Carga  \\\n",
       "0  13809822       659251  BRSP008  BRCE001             Transbordo   \n",
       "1  13809823       659251  BRSP008  BRCE001             Transbordo   \n",
       "2  13809824       659251  BRSP008    BRSUA             Transbordo   \n",
       "3  13809825       659251  BRSP008  BRAM006             Transbordo   \n",
       "4  13809826       659251  BRSP008  BRAM006             Transbordo   \n",
       "\n",
       "  Carga Geral Acondicionamento ConteinerEstado Tipo Navegação  \\\n",
       "0               Conteinerizada           Cheio      Cabotagem   \n",
       "1               Conteinerizada           Cheio      Cabotagem   \n",
       "2               Conteinerizada           Cheio      Cabotagem   \n",
       "3               Conteinerizada           Cheio      Cabotagem   \n",
       "4               Conteinerizada           Cheio      Cabotagem   \n",
       "\n",
       "   FlagConteinerTamanho     Sentido  ...  Data Término Operação   Ano  Mes  \\\n",
       "0                    20  Embarcados  ...    03/01/2015 18:39:00  2015  jan   \n",
       "1                    40  Embarcados  ...    03/01/2015 18:39:00  2015  jan   \n",
       "2                    40  Embarcados  ...    03/01/2015 18:39:00  2015  jan   \n",
       "3                    40  Embarcados  ...    03/01/2015 18:39:00  2015  jan   \n",
       "4                    20  Embarcados  ...    03/01/2015 18:39:00  2015  jan   \n",
       "\n",
       "  Tipo de Navegação da Atracação Nacionalidade do Armador         Terminal  \\\n",
       "0                      Cabotagem                      2.0  DP World Santos   \n",
       "1                      Cabotagem                      2.0  DP World Santos   \n",
       "2                      Cabotagem                      2.0  DP World Santos   \n",
       "3                      Cabotagem                      2.0  DP World Santos   \n",
       "4                      Cabotagem                      2.0  DP World Santos   \n",
       "\n",
       "  Município         UF SGUF Região Geográfica  \n",
       "0    Santos  São Paulo   SP           Sudeste  \n",
       "1    Santos  São Paulo   SP           Sudeste  \n",
       "2    Santos  São Paulo   SP           Sudeste  \n",
       "3    Santos  São Paulo   SP           Sudeste  \n",
       "4    Santos  São Paulo   SP           Sudeste  \n",
       "\n",
       "[5 rows x 29 columns]"
      ]
     },
     "execution_count": 38,
     "metadata": {},
     "output_type": "execute_result"
    }
   ],
   "source": [
    "cargas_atrac.head()\n",
    "\n",
    "#Notar que as colunas IDCarga, Origem, Destino, Carga Geral Acondicionamento, ConteinerEstado,\n",
    "# Sentido,"
   ]
  },
  {
   "cell_type": "code",
   "execution_count": 39,
   "id": "8945c2ed",
   "metadata": {},
   "outputs": [
    {
     "data": {
      "text/plain": [
       "Conteinerizada    2962843\n",
       "Name: Carga Geral Acondicionamento, dtype: int64"
      ]
     },
     "execution_count": 39,
     "metadata": {},
     "output_type": "execute_result"
    }
   ],
   "source": [
    "cargas_atrac['Carga Geral Acondicionamento'].value_counts()"
   ]
  },
  {
   "cell_type": "code",
   "execution_count": 11,
   "id": "de9f3e4a",
   "metadata": {
    "scrolled": false
   },
   "outputs": [],
   "source": [
    "#A base fica muito pesada ao longo do tratamento, como o projeto é estudar apenas as movimentações portuárias em Santos, \n",
    "#é sugerido que apenas dados com Município = Santos sejam mantidos. \n",
    "# A ação ainda não foi feita **\n",
    "\n",
    "cargas_atrac = cargas_atrac.loc[(cargas_atrac['Município'] == 'Santos') |\n",
    "                                  (cargas_atrac['Município'] =='Guarujá')]"
   ]
  },
  {
   "cell_type": "markdown",
   "id": "edc9bc72",
   "metadata": {},
   "source": [
    "###############################################################################################################################"
   ]
  },
  {
   "cell_type": "markdown",
   "id": "540c95c3",
   "metadata": {},
   "source": [
    "################################################ Agri Outlook ##################################################################"
   ]
  },
  {
   "cell_type": "code",
   "execution_count": null,
   "id": "3046d8ab",
   "metadata": {},
   "outputs": [],
   "source": [
    "#Colunas do agri outlook\n",
    "\n",
    "agri_outlook.columns"
   ]
  },
  {
   "cell_type": "code",
   "execution_count": 12,
   "id": "b0cd5505",
   "metadata": {},
   "outputs": [],
   "source": [
    "agri_outlook = agri_outlook[['Commodity','Variable','Time','Value']] \n",
    "\n",
    "#Mantive 'Variable' pois soa interessante o porque do dado"
   ]
  },
  {
   "cell_type": "code",
   "execution_count": null,
   "id": "67c727fc",
   "metadata": {},
   "outputs": [],
   "source": [
    "agri_outlook['Variable'].value_counts()"
   ]
  },
  {
   "cell_type": "code",
   "execution_count": 13,
   "id": "019834ba",
   "metadata": {},
   "outputs": [],
   "source": [
    "novos_nomes = agri_outlook['Variable'].str.split(\",\",expand=True)"
   ]
  },
  {
   "cell_type": "code",
   "execution_count": null,
   "id": "53b8fd92",
   "metadata": {},
   "outputs": [],
   "source": [
    "novos_nomes[0]"
   ]
  },
  {
   "cell_type": "code",
   "execution_count": 14,
   "id": "f5d087dd",
   "metadata": {},
   "outputs": [],
   "source": [
    "agri_outlook['Variable']=novos_nomes[0]"
   ]
  },
  {
   "cell_type": "code",
   "execution_count": 15,
   "id": "0434b147",
   "metadata": {},
   "outputs": [],
   "source": [
    "agri_outlook['Chave_var_comm'] = agri_outlook['Commodity']+\" - \"+agri_outlook['Variable']"
   ]
  },
  {
   "cell_type": "code",
   "execution_count": 16,
   "id": "71c6efc6",
   "metadata": {
    "scrolled": true
   },
   "outputs": [],
   "source": [
    "agri_outlook.drop(columns=['Variable','Commodity'], inplace=True)"
   ]
  },
  {
   "cell_type": "code",
   "execution_count": 17,
   "id": "8affb650",
   "metadata": {
    "scrolled": false
   },
   "outputs": [],
   "source": [
    "df_dummies_agri = pd.get_dummies(agri_outlook,columns=['Chave_var_comm'])"
   ]
  },
  {
   "cell_type": "code",
   "execution_count": null,
   "id": "3aa860e8",
   "metadata": {
    "scrolled": true
   },
   "outputs": [],
   "source": [
    "df_dummies_agri.head()"
   ]
  },
  {
   "cell_type": "code",
   "execution_count": 18,
   "id": "4f0c3c0d",
   "metadata": {},
   "outputs": [],
   "source": [
    "for i in range(0,len(df_dummies_agri)):\n",
    "    for j in range(2,len(df_dummies_agri.columns.to_list())):\n",
    "        df_dummies_agri.iloc[i,j] = df_dummies_agri.iloc[i,1] * df_dummies_agri.iloc[i,j]  "
   ]
  },
  {
   "cell_type": "code",
   "execution_count": 19,
   "id": "28686996",
   "metadata": {},
   "outputs": [],
   "source": [
    "df_dummies_agri_agg = df_dummies_agri.groupby('Time').sum()\n",
    "df_dummies_agri_agg.drop(columns=['Value'],inplace=True)"
   ]
  },
  {
   "cell_type": "code",
   "execution_count": null,
   "id": "b877971c",
   "metadata": {
    "scrolled": true
   },
   "outputs": [],
   "source": [
    "df_dummies_agri_agg.head()"
   ]
  },
  {
   "cell_type": "markdown",
   "id": "b74cd25b",
   "metadata": {},
   "source": [
    "df_dummies_agri.loc[(df_dummies_agri['Commodity_Biodiesel'] == 1) &\n",
    "                   (df_dummies_agri['Time'] == 2019)]"
   ]
  },
  {
   "cell_type": "code",
   "execution_count": null,
   "id": "f0c1aec7",
   "metadata": {},
   "outputs": [],
   "source": [
    "cargas_atrac.shape"
   ]
  },
  {
   "cell_type": "code",
   "execution_count": 20,
   "id": "591b787e",
   "metadata": {
    "scrolled": true
   },
   "outputs": [],
   "source": [
    "#Junção da tabela cargas_atrac com a agri\n",
    "cargas_atrac_agri = cargas_atrac.merge(df_dummies_agri_agg, how='inner', left_on='Ano', right_index=True)"
   ]
  },
  {
   "cell_type": "code",
   "execution_count": null,
   "id": "a45c2226",
   "metadata": {},
   "outputs": [],
   "source": [
    "#cargas_atrac_agri.info()"
   ]
  },
  {
   "cell_type": "markdown",
   "id": "6eaa73b9",
   "metadata": {},
   "source": [
    "###############################################################################################################################"
   ]
  },
  {
   "cell_type": "markdown",
   "id": "a1d6e64e",
   "metadata": {},
   "source": [
    "################################################ Commod. Price ################################################################"
   ]
  },
  {
   "cell_type": "code",
   "execution_count": null,
   "id": "3c939fd4",
   "metadata": {},
   "outputs": [],
   "source": [
    "comm_price.columns"
   ]
  },
  {
   "cell_type": "code",
   "execution_count": null,
   "id": "c2bf59c4",
   "metadata": {},
   "outputs": [],
   "source": [
    "comm_price"
   ]
  },
  {
   "cell_type": "code",
   "execution_count": 21,
   "id": "6ce3f6cb",
   "metadata": {
    "scrolled": true
   },
   "outputs": [],
   "source": [
    "#Transforma a tabela pivotada numa tabela normal\n",
    "\n",
    "comm_price = pd.DataFrame(comm_price.to_records())\n",
    "#comm_price"
   ]
  },
  {
   "cell_type": "code",
   "execution_count": 22,
   "id": "7ac279d4",
   "metadata": {},
   "outputs": [],
   "source": [
    "#Ajuda a tabela para um modo utilizável\n",
    "#Temos que alterar melhor essa tabela para ela conversar com as demais *******************\n",
    "#Trocar as linhas pelas colunas\n",
    "\n",
    "comm_price.columns = comm_price.iloc[0]\n",
    "comm_price = comm_price.drop([1,2,3,4])\n",
    "comm_price = comm_price.set_index('PERIOD', drop=True)\n",
    "\n",
    "#comm_price"
   ]
  },
  {
   "cell_type": "code",
   "execution_count": 23,
   "id": "da595a2e",
   "metadata": {
    "scrolled": true
   },
   "outputs": [],
   "source": [
    "comm_price = comm_price.transpose()\n",
    "comm_price = comm_price.drop('PERIOD', axis=1).reset_index()\n",
    "\n",
    "#comm_price.head()"
   ]
  },
  {
   "cell_type": "code",
   "execution_count": 24,
   "id": "d349f17c",
   "metadata": {},
   "outputs": [],
   "source": [
    "#É preciso trocar a coluna PERIOD\n",
    "\n",
    "meses_comm_price = pd.read_csv(\"C:/Users/Sea Group/Documents/TCC/OECD/Meses_2015_2019.csv\")\n",
    "#meses_comm_price"
   ]
  },
  {
   "cell_type": "code",
   "execution_count": 25,
   "id": "e0632901",
   "metadata": {},
   "outputs": [],
   "source": [
    "#Ajusta o nome da coluna bem como seus valores\n",
    "\n",
    "comm_price[0] = meses_comm_price['Mes/ano']\n",
    "comm_price.rename(columns={0:'Mes/ano'}, inplace=True)"
   ]
  },
  {
   "cell_type": "code",
   "execution_count": null,
   "id": "593e4df7",
   "metadata": {
    "scrolled": true
   },
   "outputs": [],
   "source": [
    "comm_price.columns"
   ]
  },
  {
   "cell_type": "code",
   "execution_count": null,
   "id": "3cc09f74",
   "metadata": {
    "scrolled": true
   },
   "outputs": [],
   "source": [
    "comm_price.head()"
   ]
  },
  {
   "cell_type": "code",
   "execution_count": 26,
   "id": "72a359a0",
   "metadata": {
    "scrolled": true
   },
   "outputs": [
    {
     "data": {
      "text/html": [
       "<div>\n",
       "<style scoped>\n",
       "    .dataframe tbody tr th:only-of-type {\n",
       "        vertical-align: middle;\n",
       "    }\n",
       "\n",
       "    .dataframe tbody tr th {\n",
       "        vertical-align: top;\n",
       "    }\n",
       "\n",
       "    .dataframe thead th {\n",
       "        text-align: right;\n",
       "    }\n",
       "</style>\n",
       "<table border=\"1\" class=\"dataframe\">\n",
       "  <thead>\n",
       "    <tr style=\"text-align: right;\">\n",
       "      <th></th>\n",
       "      <th>0</th>\n",
       "      <th>1</th>\n",
       "    </tr>\n",
       "  </thead>\n",
       "  <tbody>\n",
       "    <tr>\n",
       "      <th>0</th>\n",
       "      <td>jan</td>\n",
       "      <td>2015</td>\n",
       "    </tr>\n",
       "    <tr>\n",
       "      <th>1</th>\n",
       "      <td>fev</td>\n",
       "      <td>2015</td>\n",
       "    </tr>\n",
       "    <tr>\n",
       "      <th>2</th>\n",
       "      <td>mar</td>\n",
       "      <td>2015</td>\n",
       "    </tr>\n",
       "    <tr>\n",
       "      <th>3</th>\n",
       "      <td>abr</td>\n",
       "      <td>2015</td>\n",
       "    </tr>\n",
       "    <tr>\n",
       "      <th>4</th>\n",
       "      <td>mai</td>\n",
       "      <td>2015</td>\n",
       "    </tr>\n",
       "    <tr>\n",
       "      <th>5</th>\n",
       "      <td>jun</td>\n",
       "      <td>2015</td>\n",
       "    </tr>\n",
       "    <tr>\n",
       "      <th>6</th>\n",
       "      <td>jul</td>\n",
       "      <td>2015</td>\n",
       "    </tr>\n",
       "    <tr>\n",
       "      <th>7</th>\n",
       "      <td>ago</td>\n",
       "      <td>2015</td>\n",
       "    </tr>\n",
       "    <tr>\n",
       "      <th>8</th>\n",
       "      <td>set</td>\n",
       "      <td>2015</td>\n",
       "    </tr>\n",
       "    <tr>\n",
       "      <th>9</th>\n",
       "      <td>out</td>\n",
       "      <td>2015</td>\n",
       "    </tr>\n",
       "    <tr>\n",
       "      <th>10</th>\n",
       "      <td>nov</td>\n",
       "      <td>2015</td>\n",
       "    </tr>\n",
       "    <tr>\n",
       "      <th>11</th>\n",
       "      <td>dez</td>\n",
       "      <td>2015</td>\n",
       "    </tr>\n",
       "    <tr>\n",
       "      <th>12</th>\n",
       "      <td>jan</td>\n",
       "      <td>2016</td>\n",
       "    </tr>\n",
       "    <tr>\n",
       "      <th>13</th>\n",
       "      <td>fev</td>\n",
       "      <td>2016</td>\n",
       "    </tr>\n",
       "    <tr>\n",
       "      <th>14</th>\n",
       "      <td>mar</td>\n",
       "      <td>2016</td>\n",
       "    </tr>\n",
       "    <tr>\n",
       "      <th>15</th>\n",
       "      <td>abr</td>\n",
       "      <td>2016</td>\n",
       "    </tr>\n",
       "    <tr>\n",
       "      <th>16</th>\n",
       "      <td>mai</td>\n",
       "      <td>2016</td>\n",
       "    </tr>\n",
       "    <tr>\n",
       "      <th>17</th>\n",
       "      <td>jun</td>\n",
       "      <td>2016</td>\n",
       "    </tr>\n",
       "    <tr>\n",
       "      <th>18</th>\n",
       "      <td>jul</td>\n",
       "      <td>2016</td>\n",
       "    </tr>\n",
       "    <tr>\n",
       "      <th>19</th>\n",
       "      <td>ago</td>\n",
       "      <td>2016</td>\n",
       "    </tr>\n",
       "    <tr>\n",
       "      <th>20</th>\n",
       "      <td>set</td>\n",
       "      <td>2016</td>\n",
       "    </tr>\n",
       "    <tr>\n",
       "      <th>21</th>\n",
       "      <td>out</td>\n",
       "      <td>2016</td>\n",
       "    </tr>\n",
       "    <tr>\n",
       "      <th>22</th>\n",
       "      <td>nov</td>\n",
       "      <td>2016</td>\n",
       "    </tr>\n",
       "    <tr>\n",
       "      <th>23</th>\n",
       "      <td>dez</td>\n",
       "      <td>2016</td>\n",
       "    </tr>\n",
       "    <tr>\n",
       "      <th>24</th>\n",
       "      <td>jan</td>\n",
       "      <td>2017</td>\n",
       "    </tr>\n",
       "    <tr>\n",
       "      <th>25</th>\n",
       "      <td>fev</td>\n",
       "      <td>2017</td>\n",
       "    </tr>\n",
       "    <tr>\n",
       "      <th>26</th>\n",
       "      <td>mar</td>\n",
       "      <td>2017</td>\n",
       "    </tr>\n",
       "    <tr>\n",
       "      <th>27</th>\n",
       "      <td>abr</td>\n",
       "      <td>2017</td>\n",
       "    </tr>\n",
       "    <tr>\n",
       "      <th>28</th>\n",
       "      <td>mai</td>\n",
       "      <td>2017</td>\n",
       "    </tr>\n",
       "    <tr>\n",
       "      <th>29</th>\n",
       "      <td>jun</td>\n",
       "      <td>2017</td>\n",
       "    </tr>\n",
       "    <tr>\n",
       "      <th>30</th>\n",
       "      <td>jul</td>\n",
       "      <td>2017</td>\n",
       "    </tr>\n",
       "    <tr>\n",
       "      <th>31</th>\n",
       "      <td>ago</td>\n",
       "      <td>2017</td>\n",
       "    </tr>\n",
       "    <tr>\n",
       "      <th>32</th>\n",
       "      <td>set</td>\n",
       "      <td>2017</td>\n",
       "    </tr>\n",
       "    <tr>\n",
       "      <th>33</th>\n",
       "      <td>out</td>\n",
       "      <td>2017</td>\n",
       "    </tr>\n",
       "    <tr>\n",
       "      <th>34</th>\n",
       "      <td>nov</td>\n",
       "      <td>2017</td>\n",
       "    </tr>\n",
       "    <tr>\n",
       "      <th>35</th>\n",
       "      <td>dez</td>\n",
       "      <td>2017</td>\n",
       "    </tr>\n",
       "    <tr>\n",
       "      <th>36</th>\n",
       "      <td>jan</td>\n",
       "      <td>2018</td>\n",
       "    </tr>\n",
       "    <tr>\n",
       "      <th>37</th>\n",
       "      <td>fev</td>\n",
       "      <td>2018</td>\n",
       "    </tr>\n",
       "    <tr>\n",
       "      <th>38</th>\n",
       "      <td>mar</td>\n",
       "      <td>2018</td>\n",
       "    </tr>\n",
       "    <tr>\n",
       "      <th>39</th>\n",
       "      <td>abr</td>\n",
       "      <td>2018</td>\n",
       "    </tr>\n",
       "    <tr>\n",
       "      <th>40</th>\n",
       "      <td>mai</td>\n",
       "      <td>2018</td>\n",
       "    </tr>\n",
       "    <tr>\n",
       "      <th>41</th>\n",
       "      <td>jun</td>\n",
       "      <td>2018</td>\n",
       "    </tr>\n",
       "    <tr>\n",
       "      <th>42</th>\n",
       "      <td>jul</td>\n",
       "      <td>2018</td>\n",
       "    </tr>\n",
       "    <tr>\n",
       "      <th>43</th>\n",
       "      <td>ago</td>\n",
       "      <td>2018</td>\n",
       "    </tr>\n",
       "    <tr>\n",
       "      <th>44</th>\n",
       "      <td>set</td>\n",
       "      <td>2018</td>\n",
       "    </tr>\n",
       "    <tr>\n",
       "      <th>45</th>\n",
       "      <td>out</td>\n",
       "      <td>2018</td>\n",
       "    </tr>\n",
       "    <tr>\n",
       "      <th>46</th>\n",
       "      <td>nov</td>\n",
       "      <td>2018</td>\n",
       "    </tr>\n",
       "    <tr>\n",
       "      <th>47</th>\n",
       "      <td>dez</td>\n",
       "      <td>2018</td>\n",
       "    </tr>\n",
       "    <tr>\n",
       "      <th>48</th>\n",
       "      <td>jan</td>\n",
       "      <td>2019</td>\n",
       "    </tr>\n",
       "    <tr>\n",
       "      <th>49</th>\n",
       "      <td>fev</td>\n",
       "      <td>2019</td>\n",
       "    </tr>\n",
       "    <tr>\n",
       "      <th>50</th>\n",
       "      <td>mar</td>\n",
       "      <td>2019</td>\n",
       "    </tr>\n",
       "    <tr>\n",
       "      <th>51</th>\n",
       "      <td>abr</td>\n",
       "      <td>2019</td>\n",
       "    </tr>\n",
       "    <tr>\n",
       "      <th>52</th>\n",
       "      <td>mai</td>\n",
       "      <td>2019</td>\n",
       "    </tr>\n",
       "    <tr>\n",
       "      <th>53</th>\n",
       "      <td>jun</td>\n",
       "      <td>2019</td>\n",
       "    </tr>\n",
       "    <tr>\n",
       "      <th>54</th>\n",
       "      <td>jul</td>\n",
       "      <td>2019</td>\n",
       "    </tr>\n",
       "    <tr>\n",
       "      <th>55</th>\n",
       "      <td>ago</td>\n",
       "      <td>2019</td>\n",
       "    </tr>\n",
       "    <tr>\n",
       "      <th>56</th>\n",
       "      <td>set</td>\n",
       "      <td>2019</td>\n",
       "    </tr>\n",
       "    <tr>\n",
       "      <th>57</th>\n",
       "      <td>out</td>\n",
       "      <td>2019</td>\n",
       "    </tr>\n",
       "    <tr>\n",
       "      <th>58</th>\n",
       "      <td>nov</td>\n",
       "      <td>2019</td>\n",
       "    </tr>\n",
       "    <tr>\n",
       "      <th>59</th>\n",
       "      <td>dez</td>\n",
       "      <td>2019</td>\n",
       "    </tr>\n",
       "  </tbody>\n",
       "</table>\n",
       "</div>"
      ],
      "text/plain": [
       "      0     1\n",
       "0   jan  2015\n",
       "1   fev  2015\n",
       "2   mar  2015\n",
       "3   abr  2015\n",
       "4   mai  2015\n",
       "5   jun  2015\n",
       "6   jul  2015\n",
       "7   ago  2015\n",
       "8   set  2015\n",
       "9   out  2015\n",
       "10  nov  2015\n",
       "11  dez  2015\n",
       "12  jan  2016\n",
       "13  fev  2016\n",
       "14  mar  2016\n",
       "15  abr  2016\n",
       "16  mai  2016\n",
       "17  jun  2016\n",
       "18  jul  2016\n",
       "19  ago  2016\n",
       "20  set  2016\n",
       "21  out  2016\n",
       "22  nov  2016\n",
       "23  dez  2016\n",
       "24  jan  2017\n",
       "25  fev  2017\n",
       "26  mar  2017\n",
       "27  abr  2017\n",
       "28  mai  2017\n",
       "29  jun  2017\n",
       "30  jul  2017\n",
       "31  ago  2017\n",
       "32  set  2017\n",
       "33  out  2017\n",
       "34  nov  2017\n",
       "35  dez  2017\n",
       "36  jan  2018\n",
       "37  fev  2018\n",
       "38  mar  2018\n",
       "39  abr  2018\n",
       "40  mai  2018\n",
       "41  jun  2018\n",
       "42  jul  2018\n",
       "43  ago  2018\n",
       "44  set  2018\n",
       "45  out  2018\n",
       "46  nov  2018\n",
       "47  dez  2018\n",
       "48  jan  2019\n",
       "49  fev  2019\n",
       "50  mar  2019\n",
       "51  abr  2019\n",
       "52  mai  2019\n",
       "53  jun  2019\n",
       "54  jul  2019\n",
       "55  ago  2019\n",
       "56  set  2019\n",
       "57  out  2019\n",
       "58  nov  2019\n",
       "59  dez  2019"
      ]
     },
     "execution_count": 26,
     "metadata": {},
     "output_type": "execute_result"
    }
   ],
   "source": [
    "#Coluna Mes/ano tratada\n",
    "mes_ano_trat = comm_price['Mes/ano'].str.split(\"/\",expand=True)\n",
    "mes_ano_trat[1] = mes_ano_trat[1].map({'15':2015,'16':2016,'17':2017,'18':2018,'19':2019})\n",
    "mes_ano_trat"
   ]
  },
  {
   "cell_type": "code",
   "execution_count": 27,
   "id": "cea68c91",
   "metadata": {},
   "outputs": [],
   "source": [
    "comm_price.drop(columns=['Mes/ano'], inplace=True)\n",
    "comm_price[['Mes','Ano']] = mes_ano_trat"
   ]
  },
  {
   "cell_type": "code",
   "execution_count": null,
   "id": "d0634627",
   "metadata": {
    "scrolled": true
   },
   "outputs": [],
   "source": [
    "comm_price.head()"
   ]
  },
  {
   "cell_type": "code",
   "execution_count": 28,
   "id": "51e89df8",
   "metadata": {},
   "outputs": [],
   "source": [
    "cargas_atrac_agri_cprice = cargas_atrac_agri.merge(comm_price, how='inner', on=['Mes','Ano'])"
   ]
  },
  {
   "cell_type": "markdown",
   "id": "225b2cbe",
   "metadata": {},
   "source": [
    "###############################################################################################################################"
   ]
  },
  {
   "cell_type": "markdown",
   "id": "64826bff",
   "metadata": {},
   "source": [
    "################################################ PIB ##########################################################################"
   ]
  },
  {
   "cell_type": "code",
   "execution_count": 29,
   "id": "72cef782",
   "metadata": {},
   "outputs": [],
   "source": [
    "pib = pib[['Transaction', 'MEASURE', 'Measure',\n",
    "       'TIME', 'Year', 'Unit Code', 'PowerCode Code', 'PowerCode',\n",
    "       'Reference Period Code', 'Reference Period', 'Value', 'Unit','Flag Codes',\n",
    "       'Flags']]"
   ]
  },
  {
   "cell_type": "code",
   "execution_count": null,
   "id": "7df441d4",
   "metadata": {
    "scrolled": true
   },
   "outputs": [],
   "source": [
    "pib['Transaction'].value_counts()"
   ]
  },
  {
   "cell_type": "code",
   "execution_count": null,
   "id": "234fe161",
   "metadata": {},
   "outputs": [],
   "source": [
    "pib.columns"
   ]
  },
  {
   "cell_type": "code",
   "execution_count": null,
   "id": "d01c4583",
   "metadata": {
    "scrolled": true
   },
   "outputs": [],
   "source": [
    "pib.head()"
   ]
  },
  {
   "cell_type": "code",
   "execution_count": null,
   "id": "6d417240",
   "metadata": {},
   "outputs": [],
   "source": [
    "a = pib['Transaction']"
   ]
  },
  {
   "cell_type": "code",
   "execution_count": 30,
   "id": "3842d2c7",
   "metadata": {},
   "outputs": [],
   "source": [
    "#Chave que contempla a transaction com a unidade de medida\n",
    "pib['Chave'] = pib['Transaction'] + pib['Unit']"
   ]
  },
  {
   "cell_type": "code",
   "execution_count": 31,
   "id": "acae4854",
   "metadata": {},
   "outputs": [
    {
     "data": {
      "text/html": [
       "<div>\n",
       "<style scoped>\n",
       "    .dataframe tbody tr th:only-of-type {\n",
       "        vertical-align: middle;\n",
       "    }\n",
       "\n",
       "    .dataframe tbody tr th {\n",
       "        vertical-align: top;\n",
       "    }\n",
       "\n",
       "    .dataframe thead th {\n",
       "        text-align: right;\n",
       "    }\n",
       "</style>\n",
       "<table border=\"1\" class=\"dataframe\">\n",
       "  <thead>\n",
       "    <tr style=\"text-align: right;\">\n",
       "      <th></th>\n",
       "      <th>Year</th>\n",
       "      <th>Value</th>\n",
       "      <th>Chave_Agriculture, forestry and fishing (ISIC rev4)Brazilian Real</th>\n",
       "      <th>Chave_Agriculture, forestry and fishing (ISIC rev4)Index</th>\n",
       "      <th>Chave_Agriculture, forestry and fishing (ISIC rev4)Percentage</th>\n",
       "      <th>Chave_Agriculture, forestry and fishing (ISIC rev4)US Dollar</th>\n",
       "      <th>Chave_Changes in inventories and acquisitions less disposals of valuablesBrazilian Real</th>\n",
       "      <th>Chave_Changes in inventories and acquisitions less disposals of valuablesUS Dollar</th>\n",
       "      <th>Chave_Changes in inventoriesBrazilian Real</th>\n",
       "      <th>Chave_Changes in inventoriesUS Dollar</th>\n",
       "      <th>...</th>\n",
       "      <th>Chave_Wages and salariesBrazilian Real</th>\n",
       "      <th>Chave_Wages and salariesUS Dollar</th>\n",
       "      <th>Chave_of which: Actual individual consumptionBrazilian Real</th>\n",
       "      <th>Chave_of which: Actual individual consumptionUS Dollar</th>\n",
       "      <th>Chave_of which: Manufacturing (ISIC rev 4)Brazilian Real</th>\n",
       "      <th>Chave_of which: Manufacturing (ISIC rev 4)US Dollar</th>\n",
       "      <th>Chave_of which: Manufacturing (ISIC rev4)Brazilian Real</th>\n",
       "      <th>Chave_of which: Manufacturing (ISIC rev4)Index</th>\n",
       "      <th>Chave_of which: Manufacturing (ISIC rev4)Percentage</th>\n",
       "      <th>Chave_of which: Manufacturing (ISIC rev4)US Dollar</th>\n",
       "    </tr>\n",
       "  </thead>\n",
       "  <tbody>\n",
       "    <tr>\n",
       "      <th>0</th>\n",
       "      <td>2015</td>\n",
       "      <td>6064933.0</td>\n",
       "      <td>0</td>\n",
       "      <td>0</td>\n",
       "      <td>0</td>\n",
       "      <td>0</td>\n",
       "      <td>0</td>\n",
       "      <td>0</td>\n",
       "      <td>0</td>\n",
       "      <td>0</td>\n",
       "      <td>...</td>\n",
       "      <td>0</td>\n",
       "      <td>0</td>\n",
       "      <td>0</td>\n",
       "      <td>0</td>\n",
       "      <td>0</td>\n",
       "      <td>0</td>\n",
       "      <td>0</td>\n",
       "      <td>0</td>\n",
       "      <td>0</td>\n",
       "      <td>0</td>\n",
       "    </tr>\n",
       "    <tr>\n",
       "      <th>1</th>\n",
       "      <td>2016</td>\n",
       "      <td>6244271.0</td>\n",
       "      <td>0</td>\n",
       "      <td>0</td>\n",
       "      <td>0</td>\n",
       "      <td>0</td>\n",
       "      <td>0</td>\n",
       "      <td>0</td>\n",
       "      <td>0</td>\n",
       "      <td>0</td>\n",
       "      <td>...</td>\n",
       "      <td>0</td>\n",
       "      <td>0</td>\n",
       "      <td>0</td>\n",
       "      <td>0</td>\n",
       "      <td>0</td>\n",
       "      <td>0</td>\n",
       "      <td>0</td>\n",
       "      <td>0</td>\n",
       "      <td>0</td>\n",
       "      <td>0</td>\n",
       "    </tr>\n",
       "    <tr>\n",
       "      <th>2</th>\n",
       "      <td>2017</td>\n",
       "      <td>6538182.0</td>\n",
       "      <td>0</td>\n",
       "      <td>0</td>\n",
       "      <td>0</td>\n",
       "      <td>0</td>\n",
       "      <td>0</td>\n",
       "      <td>0</td>\n",
       "      <td>0</td>\n",
       "      <td>0</td>\n",
       "      <td>...</td>\n",
       "      <td>0</td>\n",
       "      <td>0</td>\n",
       "      <td>0</td>\n",
       "      <td>0</td>\n",
       "      <td>0</td>\n",
       "      <td>0</td>\n",
       "      <td>0</td>\n",
       "      <td>0</td>\n",
       "      <td>0</td>\n",
       "      <td>0</td>\n",
       "    </tr>\n",
       "    <tr>\n",
       "      <th>3</th>\n",
       "      <td>2018</td>\n",
       "      <td>6976559.0</td>\n",
       "      <td>0</td>\n",
       "      <td>0</td>\n",
       "      <td>0</td>\n",
       "      <td>0</td>\n",
       "      <td>0</td>\n",
       "      <td>0</td>\n",
       "      <td>0</td>\n",
       "      <td>0</td>\n",
       "      <td>...</td>\n",
       "      <td>0</td>\n",
       "      <td>0</td>\n",
       "      <td>0</td>\n",
       "      <td>0</td>\n",
       "      <td>0</td>\n",
       "      <td>0</td>\n",
       "      <td>0</td>\n",
       "      <td>0</td>\n",
       "      <td>0</td>\n",
       "      <td>0</td>\n",
       "    </tr>\n",
       "    <tr>\n",
       "      <th>4</th>\n",
       "      <td>2015</td>\n",
       "      <td>1069397.0</td>\n",
       "      <td>0</td>\n",
       "      <td>0</td>\n",
       "      <td>0</td>\n",
       "      <td>0</td>\n",
       "      <td>0</td>\n",
       "      <td>0</td>\n",
       "      <td>0</td>\n",
       "      <td>0</td>\n",
       "      <td>...</td>\n",
       "      <td>0</td>\n",
       "      <td>0</td>\n",
       "      <td>0</td>\n",
       "      <td>0</td>\n",
       "      <td>0</td>\n",
       "      <td>0</td>\n",
       "      <td>0</td>\n",
       "      <td>0</td>\n",
       "      <td>0</td>\n",
       "      <td>0</td>\n",
       "    </tr>\n",
       "  </tbody>\n",
       "</table>\n",
       "<p>5 rows × 167 columns</p>\n",
       "</div>"
      ],
      "text/plain": [
       "   Year      Value  \\\n",
       "0  2015  6064933.0   \n",
       "1  2016  6244271.0   \n",
       "2  2017  6538182.0   \n",
       "3  2018  6976559.0   \n",
       "4  2015  1069397.0   \n",
       "\n",
       "   Chave_Agriculture, forestry and fishing (ISIC rev4)Brazilian Real  \\\n",
       "0                                                  0                   \n",
       "1                                                  0                   \n",
       "2                                                  0                   \n",
       "3                                                  0                   \n",
       "4                                                  0                   \n",
       "\n",
       "   Chave_Agriculture, forestry and fishing (ISIC rev4)Index  \\\n",
       "0                                                  0          \n",
       "1                                                  0          \n",
       "2                                                  0          \n",
       "3                                                  0          \n",
       "4                                                  0          \n",
       "\n",
       "   Chave_Agriculture, forestry and fishing (ISIC rev4)Percentage  \\\n",
       "0                                                  0               \n",
       "1                                                  0               \n",
       "2                                                  0               \n",
       "3                                                  0               \n",
       "4                                                  0               \n",
       "\n",
       "   Chave_Agriculture, forestry and fishing (ISIC rev4)US Dollar  \\\n",
       "0                                                  0              \n",
       "1                                                  0              \n",
       "2                                                  0              \n",
       "3                                                  0              \n",
       "4                                                  0              \n",
       "\n",
       "   Chave_Changes in inventories and acquisitions less disposals of valuablesBrazilian Real  \\\n",
       "0                                                  0                                         \n",
       "1                                                  0                                         \n",
       "2                                                  0                                         \n",
       "3                                                  0                                         \n",
       "4                                                  0                                         \n",
       "\n",
       "   Chave_Changes in inventories and acquisitions less disposals of valuablesUS Dollar  \\\n",
       "0                                                  0                                    \n",
       "1                                                  0                                    \n",
       "2                                                  0                                    \n",
       "3                                                  0                                    \n",
       "4                                                  0                                    \n",
       "\n",
       "   Chave_Changes in inventoriesBrazilian Real  \\\n",
       "0                                           0   \n",
       "1                                           0   \n",
       "2                                           0   \n",
       "3                                           0   \n",
       "4                                           0   \n",
       "\n",
       "   Chave_Changes in inventoriesUS Dollar  ...  \\\n",
       "0                                      0  ...   \n",
       "1                                      0  ...   \n",
       "2                                      0  ...   \n",
       "3                                      0  ...   \n",
       "4                                      0  ...   \n",
       "\n",
       "   Chave_Wages and salariesBrazilian Real  Chave_Wages and salariesUS Dollar  \\\n",
       "0                                       0                                  0   \n",
       "1                                       0                                  0   \n",
       "2                                       0                                  0   \n",
       "3                                       0                                  0   \n",
       "4                                       0                                  0   \n",
       "\n",
       "   Chave_of which: Actual individual consumptionBrazilian Real  \\\n",
       "0                                                  0             \n",
       "1                                                  0             \n",
       "2                                                  0             \n",
       "3                                                  0             \n",
       "4                                                  0             \n",
       "\n",
       "   Chave_of which: Actual individual consumptionUS Dollar  \\\n",
       "0                                                  0        \n",
       "1                                                  0        \n",
       "2                                                  0        \n",
       "3                                                  0        \n",
       "4                                                  0        \n",
       "\n",
       "   Chave_of which: Manufacturing (ISIC rev 4)Brazilian Real  \\\n",
       "0                                                  0          \n",
       "1                                                  0          \n",
       "2                                                  0          \n",
       "3                                                  0          \n",
       "4                                                  0          \n",
       "\n",
       "   Chave_of which: Manufacturing (ISIC rev 4)US Dollar  \\\n",
       "0                                                  0     \n",
       "1                                                  0     \n",
       "2                                                  0     \n",
       "3                                                  0     \n",
       "4                                                  0     \n",
       "\n",
       "   Chave_of which: Manufacturing (ISIC rev4)Brazilian Real  \\\n",
       "0                                                  0         \n",
       "1                                                  0         \n",
       "2                                                  0         \n",
       "3                                                  0         \n",
       "4                                                  0         \n",
       "\n",
       "   Chave_of which: Manufacturing (ISIC rev4)Index  \\\n",
       "0                                               0   \n",
       "1                                               0   \n",
       "2                                               0   \n",
       "3                                               0   \n",
       "4                                               0   \n",
       "\n",
       "   Chave_of which: Manufacturing (ISIC rev4)Percentage  \\\n",
       "0                                                  0     \n",
       "1                                                  0     \n",
       "2                                                  0     \n",
       "3                                                  0     \n",
       "4                                                  0     \n",
       "\n",
       "   Chave_of which: Manufacturing (ISIC rev4)US Dollar  \n",
       "0                                                  0   \n",
       "1                                                  0   \n",
       "2                                                  0   \n",
       "3                                                  0   \n",
       "4                                                  0   \n",
       "\n",
       "[5 rows x 167 columns]"
      ]
     },
     "execution_count": 31,
     "metadata": {},
     "output_type": "execute_result"
    }
   ],
   "source": [
    "#Ajusta PIB\n",
    "df_demmies_transaction_name = pd.get_dummies(pib,columns=['Chave'])\n",
    "col = [0,1,2,3,5,6,7,8,9,11,12,13]\n",
    "df_demmies_transaction_name.drop(df_demmies_transaction_name.columns[col], axis=1,inplace=True)\n",
    "df_demmies_transaction_name.head()"
   ]
  },
  {
   "cell_type": "code",
   "execution_count": 32,
   "id": "c66258d5",
   "metadata": {},
   "outputs": [],
   "source": [
    "#Seleciona as colunas a serem dropadas\n",
    "drop_list = [col for col in df_demmies_transaction_name.columns if ('Brazilian Real' in col) or\n",
    "                                                                    ('Percentage' in col) or \n",
    "                                                                     ('Index' in col)]"
   ]
  },
  {
   "cell_type": "code",
   "execution_count": 33,
   "id": "fa14f61b",
   "metadata": {},
   "outputs": [],
   "source": [
    "#Drop das especificadas\n",
    "df_demmies_transaction_name = df_demmies_transaction_name.drop(columns=drop_list)"
   ]
  },
  {
   "cell_type": "code",
   "execution_count": null,
   "id": "88e35fd7",
   "metadata": {},
   "outputs": [],
   "source": [
    "df_demmies_transaction_name.columns"
   ]
  },
  {
   "cell_type": "markdown",
   "id": "45a80352",
   "metadata": {},
   "source": [
    "df_demmies_transaction_name.info()"
   ]
  },
  {
   "cell_type": "code",
   "execution_count": 34,
   "id": "5c5c3ddf",
   "metadata": {},
   "outputs": [],
   "source": [
    "df_demmies_transaction_name['Value'] = df_demmies_transaction_name['Value'].astype(float)\n",
    "for i in range(0,len(df_demmies_transaction_name)):\n",
    "    for j in range(2,len(df_demmies_transaction_name.columns.to_list())):\n",
    "        df_demmies_transaction_name.iloc[i,j] = df_demmies_transaction_name.iloc[i,1] * df_demmies_transaction_name.iloc[i,j]"
   ]
  },
  {
   "cell_type": "code",
   "execution_count": 35,
   "id": "e6813de8",
   "metadata": {},
   "outputs": [],
   "source": [
    "df_demmies_transaction_name = df_demmies_transaction_name.groupby(by='Year').sum().drop(columns='Value')#, inplace=True)"
   ]
  },
  {
   "cell_type": "code",
   "execution_count": 36,
   "id": "1b1a3fd8",
   "metadata": {
    "scrolled": true
   },
   "outputs": [
    {
     "ename": "MemoryError",
     "evalue": "Unable to allocate 3.69 GiB for an array with shape (208, 2378902) and data type float64",
     "output_type": "error",
     "traceback": [
      "\u001b[1;31m---------------------------------------------------------------------------\u001b[0m",
      "\u001b[1;31mMemoryError\u001b[0m                               Traceback (most recent call last)",
      "\u001b[1;32m<ipython-input-36-a97ddbee87d4>\u001b[0m in \u001b[0;36m<module>\u001b[1;34m\u001b[0m\n\u001b[0;32m      1\u001b[0m \u001b[1;31m#Join do pib com as demais\u001b[0m\u001b[1;33m\u001b[0m\u001b[1;33m\u001b[0m\u001b[1;33m\u001b[0m\u001b[0m\n\u001b[1;32m----> 2\u001b[1;33m cargas_atrac_agri_cprice_pib = cargas_atrac_agri_cprice.merge(df_demmies_transaction_name, how='inner',\n\u001b[0m\u001b[0;32m      3\u001b[0m                                                               left_on='Ano', right_on='Year')\n",
      "\u001b[1;32mC:\\ProgramData\\Anaconda3\\lib\\site-packages\\pandas\\core\\frame.py\u001b[0m in \u001b[0;36mmerge\u001b[1;34m(self, right, how, on, left_on, right_on, left_index, right_index, sort, suffixes, copy, indicator, validate)\u001b[0m\n\u001b[0;32m   8193\u001b[0m         \u001b[1;32mfrom\u001b[0m \u001b[0mpandas\u001b[0m\u001b[1;33m.\u001b[0m\u001b[0mcore\u001b[0m\u001b[1;33m.\u001b[0m\u001b[0mreshape\u001b[0m\u001b[1;33m.\u001b[0m\u001b[0mmerge\u001b[0m \u001b[1;32mimport\u001b[0m \u001b[0mmerge\u001b[0m\u001b[1;33m\u001b[0m\u001b[1;33m\u001b[0m\u001b[0m\n\u001b[0;32m   8194\u001b[0m \u001b[1;33m\u001b[0m\u001b[0m\n\u001b[1;32m-> 8195\u001b[1;33m         return merge(\n\u001b[0m\u001b[0;32m   8196\u001b[0m             \u001b[0mself\u001b[0m\u001b[1;33m,\u001b[0m\u001b[1;33m\u001b[0m\u001b[1;33m\u001b[0m\u001b[0m\n\u001b[0;32m   8197\u001b[0m             \u001b[0mright\u001b[0m\u001b[1;33m,\u001b[0m\u001b[1;33m\u001b[0m\u001b[1;33m\u001b[0m\u001b[0m\n",
      "\u001b[1;32mC:\\ProgramData\\Anaconda3\\lib\\site-packages\\pandas\\core\\reshape\\merge.py\u001b[0m in \u001b[0;36mmerge\u001b[1;34m(left, right, how, on, left_on, right_on, left_index, right_index, sort, suffixes, copy, indicator, validate)\u001b[0m\n\u001b[0;32m     87\u001b[0m         \u001b[0mvalidate\u001b[0m\u001b[1;33m=\u001b[0m\u001b[0mvalidate\u001b[0m\u001b[1;33m,\u001b[0m\u001b[1;33m\u001b[0m\u001b[1;33m\u001b[0m\u001b[0m\n\u001b[0;32m     88\u001b[0m     )\n\u001b[1;32m---> 89\u001b[1;33m     \u001b[1;32mreturn\u001b[0m \u001b[0mop\u001b[0m\u001b[1;33m.\u001b[0m\u001b[0mget_result\u001b[0m\u001b[1;33m(\u001b[0m\u001b[1;33m)\u001b[0m\u001b[1;33m\u001b[0m\u001b[1;33m\u001b[0m\u001b[0m\n\u001b[0m\u001b[0;32m     90\u001b[0m \u001b[1;33m\u001b[0m\u001b[0m\n\u001b[0;32m     91\u001b[0m \u001b[1;33m\u001b[0m\u001b[0m\n",
      "\u001b[1;32mC:\\ProgramData\\Anaconda3\\lib\\site-packages\\pandas\\core\\reshape\\merge.py\u001b[0m in \u001b[0;36mget_result\u001b[1;34m(self)\u001b[0m\n\u001b[0;32m    691\u001b[0m         \u001b[0mrindexers\u001b[0m \u001b[1;33m=\u001b[0m \u001b[1;33m{\u001b[0m\u001b[1;36m1\u001b[0m\u001b[1;33m:\u001b[0m \u001b[0mright_indexer\u001b[0m\u001b[1;33m}\u001b[0m \u001b[1;32mif\u001b[0m \u001b[0mright_indexer\u001b[0m \u001b[1;32mis\u001b[0m \u001b[1;32mnot\u001b[0m \u001b[1;32mNone\u001b[0m \u001b[1;32melse\u001b[0m \u001b[1;33m{\u001b[0m\u001b[1;33m}\u001b[0m\u001b[1;33m\u001b[0m\u001b[1;33m\u001b[0m\u001b[0m\n\u001b[0;32m    692\u001b[0m \u001b[1;33m\u001b[0m\u001b[0m\n\u001b[1;32m--> 693\u001b[1;33m         result_data = concatenate_block_managers(\n\u001b[0m\u001b[0;32m    694\u001b[0m             \u001b[1;33m[\u001b[0m\u001b[1;33m(\u001b[0m\u001b[0mself\u001b[0m\u001b[1;33m.\u001b[0m\u001b[0mleft\u001b[0m\u001b[1;33m.\u001b[0m\u001b[0m_mgr\u001b[0m\u001b[1;33m,\u001b[0m \u001b[0mlindexers\u001b[0m\u001b[1;33m)\u001b[0m\u001b[1;33m,\u001b[0m \u001b[1;33m(\u001b[0m\u001b[0mself\u001b[0m\u001b[1;33m.\u001b[0m\u001b[0mright\u001b[0m\u001b[1;33m.\u001b[0m\u001b[0m_mgr\u001b[0m\u001b[1;33m,\u001b[0m \u001b[0mrindexers\u001b[0m\u001b[1;33m)\u001b[0m\u001b[1;33m]\u001b[0m\u001b[1;33m,\u001b[0m\u001b[1;33m\u001b[0m\u001b[1;33m\u001b[0m\u001b[0m\n\u001b[0;32m    695\u001b[0m             \u001b[0maxes\u001b[0m\u001b[1;33m=\u001b[0m\u001b[1;33m[\u001b[0m\u001b[0mllabels\u001b[0m\u001b[1;33m.\u001b[0m\u001b[0mappend\u001b[0m\u001b[1;33m(\u001b[0m\u001b[0mrlabels\u001b[0m\u001b[1;33m)\u001b[0m\u001b[1;33m,\u001b[0m \u001b[0mjoin_index\u001b[0m\u001b[1;33m]\u001b[0m\u001b[1;33m,\u001b[0m\u001b[1;33m\u001b[0m\u001b[1;33m\u001b[0m\u001b[0m\n",
      "\u001b[1;32mC:\\ProgramData\\Anaconda3\\lib\\site-packages\\pandas\\core\\internals\\concat.py\u001b[0m in \u001b[0;36mconcatenate_block_managers\u001b[1;34m(mgrs_indexers, axes, concat_axis, copy)\u001b[0m\n\u001b[0;32m     81\u001b[0m         \u001b[1;32melse\u001b[0m\u001b[1;33m:\u001b[0m\u001b[1;33m\u001b[0m\u001b[1;33m\u001b[0m\u001b[0m\n\u001b[0;32m     82\u001b[0m             b = make_block(\n\u001b[1;32m---> 83\u001b[1;33m                 \u001b[0m_concatenate_join_units\u001b[0m\u001b[1;33m(\u001b[0m\u001b[0mjoin_units\u001b[0m\u001b[1;33m,\u001b[0m \u001b[0mconcat_axis\u001b[0m\u001b[1;33m,\u001b[0m \u001b[0mcopy\u001b[0m\u001b[1;33m=\u001b[0m\u001b[0mcopy\u001b[0m\u001b[1;33m)\u001b[0m\u001b[1;33m,\u001b[0m\u001b[1;33m\u001b[0m\u001b[1;33m\u001b[0m\u001b[0m\n\u001b[0m\u001b[0;32m     84\u001b[0m                 \u001b[0mplacement\u001b[0m\u001b[1;33m=\u001b[0m\u001b[0mplacement\u001b[0m\u001b[1;33m,\u001b[0m\u001b[1;33m\u001b[0m\u001b[1;33m\u001b[0m\u001b[0m\n\u001b[0;32m     85\u001b[0m                 \u001b[0mndim\u001b[0m\u001b[1;33m=\u001b[0m\u001b[0mlen\u001b[0m\u001b[1;33m(\u001b[0m\u001b[0maxes\u001b[0m\u001b[1;33m)\u001b[0m\u001b[1;33m,\u001b[0m\u001b[1;33m\u001b[0m\u001b[1;33m\u001b[0m\u001b[0m\n",
      "\u001b[1;32mC:\\ProgramData\\Anaconda3\\lib\\site-packages\\pandas\\core\\internals\\concat.py\u001b[0m in \u001b[0;36m_concatenate_join_units\u001b[1;34m(join_units, concat_axis, copy)\u001b[0m\n\u001b[0;32m    311\u001b[0m     \u001b[0mempty_dtype\u001b[0m\u001b[1;33m,\u001b[0m \u001b[0mupcasted_na\u001b[0m \u001b[1;33m=\u001b[0m \u001b[0m_get_empty_dtype_and_na\u001b[0m\u001b[1;33m(\u001b[0m\u001b[0mjoin_units\u001b[0m\u001b[1;33m)\u001b[0m\u001b[1;33m\u001b[0m\u001b[1;33m\u001b[0m\u001b[0m\n\u001b[0;32m    312\u001b[0m \u001b[1;33m\u001b[0m\u001b[0m\n\u001b[1;32m--> 313\u001b[1;33m     to_concat = [\n\u001b[0m\u001b[0;32m    314\u001b[0m         \u001b[0mju\u001b[0m\u001b[1;33m.\u001b[0m\u001b[0mget_reindexed_values\u001b[0m\u001b[1;33m(\u001b[0m\u001b[0mempty_dtype\u001b[0m\u001b[1;33m=\u001b[0m\u001b[0mempty_dtype\u001b[0m\u001b[1;33m,\u001b[0m \u001b[0mupcasted_na\u001b[0m\u001b[1;33m=\u001b[0m\u001b[0mupcasted_na\u001b[0m\u001b[1;33m)\u001b[0m\u001b[1;33m\u001b[0m\u001b[1;33m\u001b[0m\u001b[0m\n\u001b[0;32m    315\u001b[0m         \u001b[1;32mfor\u001b[0m \u001b[0mju\u001b[0m \u001b[1;32min\u001b[0m \u001b[0mjoin_units\u001b[0m\u001b[1;33m\u001b[0m\u001b[1;33m\u001b[0m\u001b[0m\n",
      "\u001b[1;32mC:\\ProgramData\\Anaconda3\\lib\\site-packages\\pandas\\core\\internals\\concat.py\u001b[0m in \u001b[0;36m<listcomp>\u001b[1;34m(.0)\u001b[0m\n\u001b[0;32m    312\u001b[0m \u001b[1;33m\u001b[0m\u001b[0m\n\u001b[0;32m    313\u001b[0m     to_concat = [\n\u001b[1;32m--> 314\u001b[1;33m         \u001b[0mju\u001b[0m\u001b[1;33m.\u001b[0m\u001b[0mget_reindexed_values\u001b[0m\u001b[1;33m(\u001b[0m\u001b[0mempty_dtype\u001b[0m\u001b[1;33m=\u001b[0m\u001b[0mempty_dtype\u001b[0m\u001b[1;33m,\u001b[0m \u001b[0mupcasted_na\u001b[0m\u001b[1;33m=\u001b[0m\u001b[0mupcasted_na\u001b[0m\u001b[1;33m)\u001b[0m\u001b[1;33m\u001b[0m\u001b[1;33m\u001b[0m\u001b[0m\n\u001b[0m\u001b[0;32m    315\u001b[0m         \u001b[1;32mfor\u001b[0m \u001b[0mju\u001b[0m \u001b[1;32min\u001b[0m \u001b[0mjoin_units\u001b[0m\u001b[1;33m\u001b[0m\u001b[1;33m\u001b[0m\u001b[0m\n\u001b[0;32m    316\u001b[0m     ]\n",
      "\u001b[1;32mC:\\ProgramData\\Anaconda3\\lib\\site-packages\\pandas\\core\\internals\\concat.py\u001b[0m in \u001b[0;36mget_reindexed_values\u001b[1;34m(self, empty_dtype, upcasted_na)\u001b[0m\n\u001b[0;32m    296\u001b[0m         \u001b[1;32melse\u001b[0m\u001b[1;33m:\u001b[0m\u001b[1;33m\u001b[0m\u001b[1;33m\u001b[0m\u001b[0m\n\u001b[0;32m    297\u001b[0m             \u001b[1;32mfor\u001b[0m \u001b[0max\u001b[0m\u001b[1;33m,\u001b[0m \u001b[0mindexer\u001b[0m \u001b[1;32min\u001b[0m \u001b[0mself\u001b[0m\u001b[1;33m.\u001b[0m\u001b[0mindexers\u001b[0m\u001b[1;33m.\u001b[0m\u001b[0mitems\u001b[0m\u001b[1;33m(\u001b[0m\u001b[1;33m)\u001b[0m\u001b[1;33m:\u001b[0m\u001b[1;33m\u001b[0m\u001b[1;33m\u001b[0m\u001b[0m\n\u001b[1;32m--> 298\u001b[1;33m                 \u001b[0mvalues\u001b[0m \u001b[1;33m=\u001b[0m \u001b[0malgos\u001b[0m\u001b[1;33m.\u001b[0m\u001b[0mtake_nd\u001b[0m\u001b[1;33m(\u001b[0m\u001b[0mvalues\u001b[0m\u001b[1;33m,\u001b[0m \u001b[0mindexer\u001b[0m\u001b[1;33m,\u001b[0m \u001b[0maxis\u001b[0m\u001b[1;33m=\u001b[0m\u001b[0max\u001b[0m\u001b[1;33m,\u001b[0m \u001b[0mfill_value\u001b[0m\u001b[1;33m=\u001b[0m\u001b[0mfill_value\u001b[0m\u001b[1;33m)\u001b[0m\u001b[1;33m\u001b[0m\u001b[1;33m\u001b[0m\u001b[0m\n\u001b[0m\u001b[0;32m    299\u001b[0m \u001b[1;33m\u001b[0m\u001b[0m\n\u001b[0;32m    300\u001b[0m         \u001b[1;32mreturn\u001b[0m \u001b[0mvalues\u001b[0m\u001b[1;33m\u001b[0m\u001b[1;33m\u001b[0m\u001b[0m\n",
      "\u001b[1;32mC:\\ProgramData\\Anaconda3\\lib\\site-packages\\pandas\\core\\algorithms.py\u001b[0m in \u001b[0;36mtake_nd\u001b[1;34m(arr, indexer, axis, out, fill_value, allow_fill)\u001b[0m\n\u001b[0;32m   1752\u001b[0m             \u001b[0mout\u001b[0m \u001b[1;33m=\u001b[0m \u001b[0mnp\u001b[0m\u001b[1;33m.\u001b[0m\u001b[0mempty\u001b[0m\u001b[1;33m(\u001b[0m\u001b[0mout_shape\u001b[0m\u001b[1;33m,\u001b[0m \u001b[0mdtype\u001b[0m\u001b[1;33m=\u001b[0m\u001b[0mdtype\u001b[0m\u001b[1;33m,\u001b[0m \u001b[0morder\u001b[0m\u001b[1;33m=\u001b[0m\u001b[1;34m\"F\"\u001b[0m\u001b[1;33m)\u001b[0m\u001b[1;33m\u001b[0m\u001b[1;33m\u001b[0m\u001b[0m\n\u001b[0;32m   1753\u001b[0m         \u001b[1;32melse\u001b[0m\u001b[1;33m:\u001b[0m\u001b[1;33m\u001b[0m\u001b[1;33m\u001b[0m\u001b[0m\n\u001b[1;32m-> 1754\u001b[1;33m             \u001b[0mout\u001b[0m \u001b[1;33m=\u001b[0m \u001b[0mnp\u001b[0m\u001b[1;33m.\u001b[0m\u001b[0mempty\u001b[0m\u001b[1;33m(\u001b[0m\u001b[0mout_shape\u001b[0m\u001b[1;33m,\u001b[0m \u001b[0mdtype\u001b[0m\u001b[1;33m=\u001b[0m\u001b[0mdtype\u001b[0m\u001b[1;33m)\u001b[0m\u001b[1;33m\u001b[0m\u001b[1;33m\u001b[0m\u001b[0m\n\u001b[0m\u001b[0;32m   1755\u001b[0m \u001b[1;33m\u001b[0m\u001b[0m\n\u001b[0;32m   1756\u001b[0m     func = _get_take_nd_function(\n",
      "\u001b[1;31mMemoryError\u001b[0m: Unable to allocate 3.69 GiB for an array with shape (208, 2378902) and data type float64"
     ]
    }
   ],
   "source": [
    "#Join do pib com as demais\n",
    "cargas_atrac_agri_cprice_pib = cargas_atrac_agri_cprice.merge(df_demmies_transaction_name, how='inner',\n",
    "                                                              left_on='Ano', right_on='Year')"
   ]
  },
  {
   "cell_type": "markdown",
   "id": "72f48f32",
   "metadata": {
    "scrolled": true
   },
   "source": [
    "pib.loc[pib['Transaction'] == 'Wages and salaries']"
   ]
  },
  {
   "cell_type": "markdown",
   "id": "c8c8a241",
   "metadata": {
    "scrolled": true
   },
   "source": [
    "pib['Transaction'].value_counts()"
   ]
  },
  {
   "cell_type": "code",
   "execution_count": null,
   "id": "b25f4257",
   "metadata": {},
   "outputs": [],
   "source": [
    "#Talvez essa base mais atrapalhe do que ajude. Primeiro que são levantamentos anuais,\n",
    "#segundo que há pouco dados para cada \"Transaction\" "
   ]
  },
  {
   "cell_type": "code",
   "execution_count": null,
   "id": "26e4421a",
   "metadata": {
    "scrolled": true
   },
   "outputs": [],
   "source": [
    "#Os componentes do PIB apresentados nessa tabela talvez não nos ajudem se vistos isoladamente. \n",
    "#O valor \"condensado\" do PIB é mais útil ***************** PROCURAR ESSA INFO *************\n",
    "\n",
    "#Verificar como um valor singular pode influenciar no algoritimo ML. Como um valor representativo, como o PIB (somente), pode \n",
    "#influenciar o ML \n",
    "#************************* VER COM O PROFESSOR\n",
    "\n",
    "pib"
   ]
  },
  {
   "cell_type": "markdown",
   "id": "8263a369",
   "metadata": {},
   "source": [
    "###############################################################################################################################"
   ]
  },
  {
   "cell_type": "markdown",
   "id": "1c4fa8a8",
   "metadata": {},
   "source": [
    "############################################### Prod. Sales ###################################################################"
   ]
  },
  {
   "cell_type": "code",
   "execution_count": null,
   "id": "ecc10166",
   "metadata": {
    "scrolled": true
   },
   "outputs": [],
   "source": [
    "prod_sales.columns"
   ]
  },
  {
   "cell_type": "code",
   "execution_count": null,
   "id": "ddc5d906",
   "metadata": {
    "scrolled": true
   },
   "outputs": [],
   "source": [
    "prod_sales.head()"
   ]
  },
  {
   "cell_type": "code",
   "execution_count": null,
   "id": "d05cc9f4",
   "metadata": {
    "scrolled": true
   },
   "outputs": [],
   "source": [
    "#Escolhido a mesma referencia para os dados. Tinhamos outra referencia (2015)\n",
    "prod_sales =prod_sales.loc[prod_sales['Reference Period']=='2010=100']"
   ]
  },
  {
   "cell_type": "code",
   "execution_count": null,
   "id": "6270b600",
   "metadata": {},
   "outputs": [],
   "source": [
    "prod_sales.loc[prod_sales['Reference Period']=='2010=100']['TIME'].value_counts().sort_values(0)"
   ]
  },
  {
   "cell_type": "code",
   "execution_count": null,
   "id": "ecf0f5a8",
   "metadata": {},
   "outputs": [],
   "source": [
    "#Dados MENSAIS. Selção das colunas relevantes\n",
    "#'Reference Period' = \n",
    "\n",
    "prod_sales = prod_sales[['Subject', 'LOCATION', 'Country',\n",
    "        'Time', 'Value']]"
   ]
  },
  {
   "cell_type": "code",
   "execution_count": null,
   "id": "8270d262",
   "metadata": {},
   "outputs": [],
   "source": [
    "#Seleção apenas de EUA e UE por serem grandes polos ligados ao COMEX BR\n",
    "\n",
    "prod_sales = prod_sales.loc[prod_sales['Country'].isin(['Euro area','Brazil', 'United States'])]"
   ]
  },
  {
   "cell_type": "code",
   "execution_count": null,
   "id": "fc49f284",
   "metadata": {},
   "outputs": [],
   "source": [
    "#Cria chave para ajustar a tabela\n",
    "prod_sales['Chave'] = prod_sales['Subject'] + prod_sales['Country']"
   ]
  },
  {
   "cell_type": "code",
   "execution_count": null,
   "id": "9d85bb15",
   "metadata": {
    "scrolled": true
   },
   "outputs": [],
   "source": [
    "#Ajusta a tabela\n",
    "dummies_prod_sales = pd.get_dummies(prod_sales,columns=['Chave'])\n",
    "dummies_prod_sales.head()"
   ]
  },
  {
   "cell_type": "code",
   "execution_count": null,
   "id": "7bdbff58",
   "metadata": {},
   "outputs": [],
   "source": [
    "dummies_prod_sales['Value'] = dummies_prod_sales['Value'].astype(float)\n",
    "for i in range(0,len(dummies_prod_sales)):\n",
    "    for j in range(4,len(dummies_prod_sales.columns.to_list())):\n",
    "        dummies_prod_sales.iloc[i,j] = dummies_prod_sales.iloc[i,4] * dummies_prod_sales.iloc[i,j]"
   ]
  },
  {
   "cell_type": "code",
   "execution_count": null,
   "id": "63454fed",
   "metadata": {},
   "outputs": [],
   "source": [
    "#Dropa colunas nao mais necessárias\n",
    "dummies_prod_sales.drop(dummies_prod_sales.columns[[0,1,2,4]], axis=1,inplace=True)"
   ]
  },
  {
   "cell_type": "code",
   "execution_count": null,
   "id": "50e13dfa",
   "metadata": {
    "scrolled": true
   },
   "outputs": [],
   "source": [
    "#Alguns dados estao zerados, sugestão: substituir pela média, ou, úlitmo valor\n",
    "dummies_prod_sales = dummies_prod_sales.groupby(by='Time').sum().reset_index()\n",
    "dummies_prod_sales.head()"
   ]
  },
  {
   "cell_type": "code",
   "execution_count": null,
   "id": "4345da36",
   "metadata": {},
   "outputs": [],
   "source": [
    "#criando nomes para duas novas colunas\n",
    "novos_nomes2 = dummies_prod_sales['Time'].str.split(\"-\",expand=True)\n",
    "dummies_prod_sales[['Mes', 'Ano']] = novos_nomes2\n",
    "\n",
    "#Ajusta nomes dos meses\n",
    "dummies_prod_sales['Mes'].replace({'Jan':'jan','Fev':'fev','Mar':'mar','Apr':'abr','May':'mai','Jun':'jun',\n",
    "                                  'Jul':'jul','Aug':'ago','Sep':'set','Oct':'out','Nov':'nov','Dec':'dez'}, inplace=True)"
   ]
  },
  {
   "cell_type": "code",
   "execution_count": null,
   "id": "252d2654",
   "metadata": {},
   "outputs": [],
   "source": [
    "#Dropa coluna Value\n",
    "dummies_prod_sales.drop(dummies_prod_sales.columns[0], axis=1,inplace=True)"
   ]
  },
  {
   "cell_type": "code",
   "execution_count": null,
   "id": "70de5b6c",
   "metadata": {
    "scrolled": true
   },
   "outputs": [],
   "source": [
    "dummies_prod_sales.info()"
   ]
  },
  {
   "cell_type": "code",
   "execution_count": null,
   "id": "b82c93c4",
   "metadata": {
    "scrolled": true
   },
   "outputs": [],
   "source": [
    "dummies_prod_sales['Ano'] = dummies_prod_sales['Ano'].astype(int)"
   ]
  },
  {
   "cell_type": "code",
   "execution_count": null,
   "id": "ac7dccde",
   "metadata": {},
   "outputs": [],
   "source": [
    "cargas_atrac_agri_cprice_pib['Mes'].value_counts()"
   ]
  },
  {
   "cell_type": "code",
   "execution_count": null,
   "id": "a254cd3d",
   "metadata": {
    "scrolled": false
   },
   "outputs": [],
   "source": [
    "#Join prod_sales com as demais\n",
    "cargas_atrac_agri_cprice_pib_psales = cargas_atrac_agri_cprice_pib.merge(dummies_prod_sales, how='inner', on=['Mes', 'Ano'])"
   ]
  },
  {
   "cell_type": "markdown",
   "id": "e2ba8d6c",
   "metadata": {},
   "source": [
    "#Teste para atestar a referencia do index - achamos q seja a média do ano para cada categoria - o resultado é um pouco diferente\n",
    "prod_sales.loc[(prod_sales['Reference Period Code'] == '2015_100') &\n",
    "              (prod_sales['Subject'] == 'Production of total industry sa, Index') &\n",
    "              (prod_sales['LOCATION'] == 'USA')]['Value'].mean()"
   ]
  },
  {
   "cell_type": "markdown",
   "id": "dd669d2f",
   "metadata": {
    "scrolled": true
   },
   "source": [
    "prod_sales.reset_index(drop=True, inplace=True)\n",
    "prod_sales"
   ]
  },
  {
   "cell_type": "markdown",
   "id": "b2ca8afc",
   "metadata": {},
   "source": [
    "###############################################################################################################################"
   ]
  },
  {
   "cell_type": "markdown",
   "id": "3152cebf",
   "metadata": {},
   "source": [
    "############################################### Tx. Desocupação ###############################################################"
   ]
  },
  {
   "cell_type": "code",
   "execution_count": null,
   "id": "69b86855",
   "metadata": {
    "scrolled": true
   },
   "outputs": [],
   "source": [
    "#Não alterei nada. Tabela está boa para ser utilizada\n",
    "taxa_desocupacao.head()"
   ]
  },
  {
   "cell_type": "code",
   "execution_count": null,
   "id": "98ed42a5",
   "metadata": {},
   "outputs": [],
   "source": [
    "nova_col_txocup = taxa_desocupacao['Mes/Ano'].str.split('/', expand=True)"
   ]
  },
  {
   "cell_type": "code",
   "execution_count": null,
   "id": "2753a5a5",
   "metadata": {},
   "outputs": [],
   "source": [
    "taxa_desocupacao.drop(columns='Mes/Ano', inplace=True)"
   ]
  },
  {
   "cell_type": "code",
   "execution_count": null,
   "id": "8d360393",
   "metadata": {},
   "outputs": [],
   "source": [
    "taxa_desocupacao[['Mes','Ano']] =  nova_col_txocup"
   ]
  },
  {
   "cell_type": "code",
   "execution_count": null,
   "id": "438192c1",
   "metadata": {},
   "outputs": [],
   "source": [
    "taxa_desocupacao['Ano'] = '20' + taxa_desocupacao['Ano']\n",
    "taxa_desocupacao"
   ]
  },
  {
   "cell_type": "code",
   "execution_count": null,
   "id": "bd1b718a",
   "metadata": {},
   "outputs": [],
   "source": [
    "taxa_desocupacao['Ano'] = taxa_desocupacao['Ano'].astype(int)"
   ]
  },
  {
   "cell_type": "code",
   "execution_count": null,
   "id": "f8c3d8e2",
   "metadata": {},
   "outputs": [],
   "source": [
    "taxa_desocupacao.rename(columns={'Ratio':\"Taxa_desocupacao\"}, inplace=True)"
   ]
  },
  {
   "cell_type": "code",
   "execution_count": null,
   "id": "5d10d14d",
   "metadata": {},
   "outputs": [],
   "source": [
    "taxa_desocupacao['Taxa_desocupacao'].astype(float)"
   ]
  },
  {
   "cell_type": "code",
   "execution_count": null,
   "id": "ee25d36b",
   "metadata": {},
   "outputs": [],
   "source": [
    "cargas_atrac_agri_cprice_pib_psales_txdesoc = cargas_atrac_agri_cprice_pib_psales.merge(taxa_desocupacao, how='inner',\n",
    "                                                                                       on=['Mes', 'Ano'])"
   ]
  },
  {
   "cell_type": "markdown",
   "id": "f6bfe36e",
   "metadata": {},
   "source": [
    "###############################################################################################################################"
   ]
  },
  {
   "cell_type": "markdown",
   "id": "5fc6a846",
   "metadata": {},
   "source": [
    "####################################################### Infra Invest ##########################################################"
   ]
  },
  {
   "cell_type": "markdown",
   "id": "e2566670",
   "metadata": {},
   "source": [
    "Não Usaremos Infra Invest"
   ]
  },
  {
   "cell_type": "code",
   "execution_count": null,
   "id": "d9f2730a",
   "metadata": {
    "scrolled": true
   },
   "outputs": [],
   "source": [
    "infra_invest.columns"
   ]
  },
  {
   "cell_type": "markdown",
   "id": "f692bc79",
   "metadata": {},
   "source": [
    "#Como ali em cima pegamos apenas EUA e UE, é pertinente aqui pegarmos EUA e GER (país europeu mais forte)\n",
    "\n",
    "infra_invest = infra_invest[['Country', 'Variable', 'Measure',\n",
    "       'YEAR', 'Year', 'Value']]"
   ]
  },
  {
   "cell_type": "markdown",
   "id": "836ea885",
   "metadata": {},
   "source": [
    "infra_invest = infra_invest.loc[(infra_invest['Country'].isin(['United States','Germany'])) &\n",
    "                               (infra_invest['Measure']== \"Euro\")]"
   ]
  },
  {
   "cell_type": "markdown",
   "id": "c6f1a8b4",
   "metadata": {
    "scrolled": true
   },
   "source": [
    "infra_invest.reset_index(drop=True, inplace=True)\n",
    "infra_invest"
   ]
  },
  {
   "cell_type": "markdown",
   "id": "be8612f5",
   "metadata": {},
   "source": [
    "#Ponderar que o material usado na tabela \"infra\" são transportados a granel."
   ]
  },
  {
   "cell_type": "markdown",
   "id": "64a3f504",
   "metadata": {},
   "source": [
    "###############################################################################################################################"
   ]
  },
  {
   "cell_type": "markdown",
   "id": "ea31f2c5",
   "metadata": {},
   "source": [
    "################################################## Weel-being #################################################################"
   ]
  },
  {
   "cell_type": "markdown",
   "id": "f1617fb0",
   "metadata": {},
   "source": [
    "Não Usaremos weel being"
   ]
  },
  {
   "cell_type": "markdown",
   "id": "99e73273",
   "metadata": {
    "scrolled": false
   },
   "source": [
    "weel_being_15.columns"
   ]
  },
  {
   "cell_type": "markdown",
   "id": "2dc4314c",
   "metadata": {},
   "source": [
    "weel_being_15 = weel_being_15[['TYPE_VAR', 'Indicator','Time', 'Value']]"
   ]
  },
  {
   "cell_type": "markdown",
   "id": "eac0ffc0",
   "metadata": {
    "scrolled": true
   },
   "source": [
    "#weel_being_15.head()"
   ]
  },
  {
   "cell_type": "markdown",
   "id": "03d09136",
   "metadata": {},
   "source": [
    "#Apenas esses indicadores pois são os únicos com 5 medições (2015-19)\n",
    "\n",
    "weel_being_15 = weel_being_15.loc[weel_being_15['Indicator'].isin(['Social support','Feeling safe at night',\n",
    "                                                                   'Households with internet access at home',\n",
    "                                                                  'Employment rate'])]"
   ]
  },
  {
   "cell_type": "markdown",
   "id": "3b9ea865",
   "metadata": {},
   "source": [
    "weel_being_15"
   ]
  },
  {
   "cell_type": "markdown",
   "id": "f79a4d1d",
   "metadata": {},
   "source": [
    "###############################################################################################################################"
   ]
  },
  {
   "cell_type": "markdown",
   "id": "01848d0b",
   "metadata": {},
   "source": [
    "######################################################### Dolar ###############################################################"
   ]
  },
  {
   "cell_type": "code",
   "execution_count": null,
   "id": "a0da3c39",
   "metadata": {
    "scrolled": false
   },
   "outputs": [],
   "source": [
    "dolar.head()"
   ]
  },
  {
   "cell_type": "code",
   "execution_count": null,
   "id": "8ba0a6fa",
   "metadata": {},
   "outputs": [],
   "source": [
    "dd_mm_aaaa = dolar['Data'].str.split('.',expand=True)"
   ]
  },
  {
   "cell_type": "code",
   "execution_count": null,
   "id": "10a6d8bb",
   "metadata": {},
   "outputs": [],
   "source": [
    "dolar[['Dia','Mes','Ano']] = dd_mm_aaaa\n",
    "dolar.drop(columns=['Data','Último','Máxima','Mínima','Var%'], inplace=True)"
   ]
  },
  {
   "cell_type": "code",
   "execution_count": null,
   "id": "82aa5236",
   "metadata": {},
   "outputs": [],
   "source": [
    "dolar.rename(columns={'Abertura':'Valor'},inplace=True)"
   ]
  },
  {
   "cell_type": "code",
   "execution_count": null,
   "id": "16eecf88",
   "metadata": {},
   "outputs": [],
   "source": [
    "dolar['Ano'] = dolar['Ano'].astype(int) "
   ]
  },
  {
   "cell_type": "code",
   "execution_count": null,
   "id": "a9172cd4",
   "metadata": {
    "scrolled": false
   },
   "outputs": [],
   "source": [
    "dolar.info()"
   ]
  },
  {
   "cell_type": "code",
   "execution_count": null,
   "id": "10a6b6a1",
   "metadata": {},
   "outputs": [],
   "source": [
    "cargas_atrac_agri_cprice_pib_psales_txdesoc_dolar = cargas_atrac_agri_cprice_pib_psales_txdesoc.merge(dolar, how='inner',\n",
    "                                                                                                     on=['Dia','Mes','Ano'])"
   ]
  },
  {
   "cell_type": "markdown",
   "id": "cc32b680",
   "metadata": {},
   "source": [
    "###############################################################################################################################"
   ]
  },
  {
   "cell_type": "markdown",
   "id": "d4ca0a6c",
   "metadata": {},
   "source": [
    "As linhas a seguir não contemplam nada do que foi feito acima. Abaixo apenas está linhas que restaram de outra versão."
   ]
  },
  {
   "cell_type": "code",
   "execution_count": null,
   "id": "4531d531",
   "metadata": {},
   "outputs": [],
   "source": []
  },
  {
   "cell_type": "code",
   "execution_count": null,
   "id": "f90e210d",
   "metadata": {},
   "outputs": [],
   "source": []
  },
  {
   "cell_type": "code",
   "execution_count": null,
   "id": "34201529",
   "metadata": {},
   "outputs": [],
   "source": [
    "#Join os dois dfs - Cargas e Atracação\n",
    "\n",
    "#df_joined = pd.merge(carga_cont_CAB, atrac, on='IDAtracacao', how='left')\n",
    "#df_joined"
   ]
  },
  {
   "cell_type": "code",
   "execution_count": null,
   "id": "30393a68",
   "metadata": {
    "scrolled": true
   },
   "outputs": [],
   "source": [
    "#Associando a sigla da Origem com o Município\n",
    "\n",
    "#df_joined.groupby('Origem').Município.value_counts()"
   ]
  },
  {
   "cell_type": "code",
   "execution_count": null,
   "id": "bd659603",
   "metadata": {
    "scrolled": true
   },
   "outputs": [],
   "source": [
    "#Associando a sigla da Origem com o Terminal\n",
    "\n",
    "#df_joined.groupby('Origem').Terminal.value_counts()"
   ]
  }
 ],
 "metadata": {
  "kernelspec": {
   "display_name": "Python 3",
   "language": "python",
   "name": "python3"
  },
  "language_info": {
   "codemirror_mode": {
    "name": "ipython",
    "version": 3
   },
   "file_extension": ".py",
   "mimetype": "text/x-python",
   "name": "python",
   "nbconvert_exporter": "python",
   "pygments_lexer": "ipython3",
   "version": "3.8.8"
  }
 },
 "nbformat": 4,
 "nbformat_minor": 5
}
